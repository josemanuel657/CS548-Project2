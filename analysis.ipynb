{
 "cells": [
  {
   "cell_type": "markdown",
   "metadata": {},
   "source": [
    "\n",
    "# Task 1 - Dataset, Background, Significance, Motivation.\n",
    "\n",
    "# Datatset:\n",
    "\n",
    "For this project, we (Team 14) have selected the [soccer](https://www.kaggle.com/datasets/davidcariboo/player-scores?select=transfers.csv) dataset, which is publicly available on Kaggle. \n",
    "\n",
    "## Background and Significance\n",
    "Football being one of the most popular sports globally, it contains vast amounts of data across leagues, clubs, players and matches. \n",
    "\n",
    "The significance of this dataset is that it contains the complete information on Football viz., Players, Games played, Stats of each Player etc. The dataset contains 10 CSV files with the following details. The dataset has a total of 3,932,424 rows and 133 columns. \n",
    "\n",
    "## Motivation\n",
    "\n",
    "As we both were interested in Football we preferred this dataset. \n",
    "By working with this dataset we aim to apply machine learning techniques to derive actionable insights which can have inferences for club management, game results etc."
   ]
  },
  {
   "cell_type": "markdown",
   "metadata": {},
   "source": [
    "# Task 2 -Exploratory Data Analysis"
   ]
  },
  {
   "cell_type": "markdown",
   "metadata": {},
   "source": [
    "# Start"
   ]
  },
  {
   "cell_type": "markdown",
   "metadata": {},
   "source": [
    "The information on each columns is listed as under:"
   ]
  },
  {
   "cell_type": "markdown",
   "metadata": {},
   "source": [
    "1. Appearances:"
   ]
  },
  {
   "cell_type": "code",
   "execution_count": 2,
   "metadata": {},
   "outputs": [],
   "source": [
    "import pandas as pd\n",
    "import plotly.express as px\n",
    "from matplotlib import pyplot as plt\n",
    "import seaborn as sns"
   ]
  },
  {
   "cell_type": "code",
   "execution_count": 3,
   "metadata": {},
   "outputs": [
    {
     "name": "stdout",
     "output_type": "stream",
     "text": [
      "Index(['appearance_id', 'game_id', 'player_id', 'player_club_id',\n",
      "       'player_current_club_id', 'date', 'player_name', 'competition_id',\n",
      "       'yellow_cards', 'red_cards', 'goals', 'assists', 'minutes_played'],\n",
      "      dtype='object')\n"
     ]
    }
   ],
   "source": [
    "appearances = pd.read_csv('/ProgramData/Microsoft/Windows/Start Menu/Programs/Git/CS548-Project2/data/appearances.csv')\n",
    "print(appearances.columns)"
   ]
  },
  {
   "cell_type": "markdown",
   "metadata": {},
   "source": [
    "2. Club Games"
   ]
  },
  {
   "cell_type": "code",
   "execution_count": 4,
   "metadata": {},
   "outputs": [
    {
     "name": "stdout",
     "output_type": "stream",
     "text": [
      "Index(['game_id', 'club_id', 'own_goals', 'own_position', 'own_manager_name',\n",
      "       'opponent_id', 'opponent_goals', 'opponent_position',\n",
      "       'opponent_manager_name', 'hosting', 'is_win'],\n",
      "      dtype='object')\n"
     ]
    }
   ],
   "source": [
    "club_games = pd.read_csv('/ProgramData/Microsoft/Windows/Start Menu/Programs/Git/CS548-Project2/data/club_games.csv')\n",
    "print(club_games.columns)"
   ]
  },
  {
   "cell_type": "markdown",
   "metadata": {},
   "source": [
    "3. Clubs"
   ]
  },
  {
   "cell_type": "code",
   "execution_count": 5,
   "metadata": {},
   "outputs": [
    {
     "name": "stdout",
     "output_type": "stream",
     "text": [
      "Index(['club_id', 'club_code', 'name', 'domestic_competition_id',\n",
      "       'total_market_value', 'squad_size', 'average_age', 'foreigners_number',\n",
      "       'foreigners_percentage', 'national_team_players', 'stadium_name',\n",
      "       'stadium_seats', 'net_transfer_record', 'coach_name', 'last_season',\n",
      "       'filename', 'url'],\n",
      "      dtype='object')\n"
     ]
    }
   ],
   "source": [
    "clubs = pd.read_csv('/ProgramData/Microsoft/Windows/Start Menu/Programs/Git/CS548-Project2/data/clubs.csv')\n",
    "print(clubs.columns)"
   ]
  },
  {
   "cell_type": "markdown",
   "metadata": {},
   "source": [
    "4. Competitions"
   ]
  },
  {
   "cell_type": "code",
   "execution_count": 6,
   "metadata": {},
   "outputs": [
    {
     "name": "stdout",
     "output_type": "stream",
     "text": [
      "Index(['competition_id', 'competition_code', 'name', 'sub_type', 'type',\n",
      "       'country_id', 'country_name', 'domestic_league_code', 'confederation',\n",
      "       'url', 'is_major_national_league'],\n",
      "      dtype='object')\n"
     ]
    }
   ],
   "source": [
    "competitions = pd.read_csv('/ProgramData/Microsoft/Windows/Start Menu/Programs/Git/CS548-Project2/data/competitions.csv')\n",
    "print(competitions.columns)"
   ]
  },
  {
   "cell_type": "markdown",
   "metadata": {},
   "source": [
    "5. Game Events"
   ]
  },
  {
   "cell_type": "code",
   "execution_count": 7,
   "metadata": {},
   "outputs": [
    {
     "name": "stdout",
     "output_type": "stream",
     "text": [
      "Index(['game_event_id', 'date', 'game_id', 'minute', 'type', 'club_id',\n",
      "       'player_id', 'description', 'player_in_id', 'player_assist_id'],\n",
      "      dtype='object')\n"
     ]
    }
   ],
   "source": [
    "game_events = pd.read_csv('/ProgramData/Microsoft/Windows/Start Menu/Programs/Git/CS548-Project2/data/game_events.csv')\n",
    "print(game_events.columns)"
   ]
  },
  {
   "cell_type": "markdown",
   "metadata": {},
   "source": [
    "6. Game Lineups"
   ]
  },
  {
   "cell_type": "code",
   "execution_count": 8,
   "metadata": {},
   "outputs": [
    {
     "name": "stdout",
     "output_type": "stream",
     "text": [
      "Index(['game_lineups_id', 'date', 'game_id', 'player_id', 'club_id',\n",
      "       'player_name', 'type', 'position', 'number', 'team_captain'],\n",
      "      dtype='object')\n"
     ]
    }
   ],
   "source": [
    "game_lineups = pd.read_csv('/ProgramData/Microsoft/Windows/Start Menu/Programs/Git/CS548-Project2/data/game_lineups.csv')\n",
    "print(game_lineups.columns)"
   ]
  },
  {
   "cell_type": "markdown",
   "metadata": {},
   "source": [
    "7. Games"
   ]
  },
  {
   "cell_type": "code",
   "execution_count": 9,
   "metadata": {},
   "outputs": [
    {
     "name": "stdout",
     "output_type": "stream",
     "text": [
      "Index(['game_id', 'competition_id', 'season', 'round', 'date', 'home_club_id',\n",
      "       'away_club_id', 'home_club_goals', 'away_club_goals',\n",
      "       'home_club_position', 'away_club_position', 'home_club_manager_name',\n",
      "       'away_club_manager_name', 'stadium', 'attendance', 'referee', 'url',\n",
      "       'home_club_formation', 'away_club_formation', 'home_club_name',\n",
      "       'away_club_name', 'aggregate', 'competition_type'],\n",
      "      dtype='object')\n"
     ]
    }
   ],
   "source": [
    "games = pd.read_csv('/ProgramData/Microsoft/Windows/Start Menu/Programs/Git/CS548-Project2/data/games.csv')\n",
    "print(games.columns)"
   ]
  },
  {
   "cell_type": "markdown",
   "metadata": {},
   "source": [
    "8. Players"
   ]
  },
  {
   "cell_type": "code",
   "execution_count": 10,
   "metadata": {},
   "outputs": [
    {
     "name": "stdout",
     "output_type": "stream",
     "text": [
      "Index(['player_id', 'first_name', 'last_name', 'name', 'last_season',\n",
      "       'current_club_id', 'player_code', 'country_of_birth', 'city_of_birth',\n",
      "       'country_of_citizenship', 'date_of_birth', 'sub_position', 'position',\n",
      "       'foot', 'height_in_cm', 'contract_expiration_date', 'agent_name',\n",
      "       'image_url', 'url', 'current_club_domestic_competition_id',\n",
      "       'current_club_name', 'market_value_in_eur',\n",
      "       'highest_market_value_in_eur'],\n",
      "      dtype='object')\n"
     ]
    }
   ],
   "source": [
    "players = pd.read_csv('/ProgramData/Microsoft/Windows/Start Menu/Programs/Git/CS548-Project2/data/players.csv')\n",
    "print(players.columns)"
   ]
  },
  {
   "cell_type": "markdown",
   "metadata": {},
   "source": [
    "9. Player Valuations"
   ]
  },
  {
   "cell_type": "code",
   "execution_count": 11,
   "metadata": {},
   "outputs": [
    {
     "name": "stdout",
     "output_type": "stream",
     "text": [
      "Index(['player_id', 'date', 'market_value_in_eur', 'current_club_id',\n",
      "       'player_club_domestic_competition_id'],\n",
      "      dtype='object')\n"
     ]
    }
   ],
   "source": [
    "player_valuations = pd.read_csv('/ProgramData/Microsoft/Windows/Start Menu/Programs/Git/CS548-Project2/data/player_valuations.csv')\n",
    "print(player_valuations.columns)"
   ]
  },
  {
   "cell_type": "markdown",
   "metadata": {},
   "source": [
    "10. Transfers"
   ]
  },
  {
   "cell_type": "code",
   "execution_count": 12,
   "metadata": {},
   "outputs": [
    {
     "name": "stdout",
     "output_type": "stream",
     "text": [
      "Index(['player_id', 'transfer_date', 'transfer_season', 'from_club_id',\n",
      "       'to_club_id', 'from_club_name', 'to_club_name', 'transfer_fee',\n",
      "       'market_value_in_eur', 'player_name'],\n",
      "      dtype='object')\n"
     ]
    }
   ],
   "source": [
    "transfers = pd.read_csv('/ProgramData/Microsoft/Windows/Start Menu/Programs/Git/CS548-Project2/data/transfers.csv')\n",
    "print(transfers.columns)"
   ]
  },
  {
   "cell_type": "markdown",
   "metadata": {},
   "source": [
    "# After indepth research about the Football dataset, we believe there are 4 main categories in them and we will look at them individually.\n",
    "\n",
    "# 1. Players Statistics\n",
    "This comprehensive analysis aims to delve into various aspects of player performances, market value trends and transfer market dynamics within the football dataset. By examining these elements we can gain valuable insights into the factors that influence player valuations and the overall market behavior. This detailed structure will provide a holistic view of the football dataset helping to make informed decisions based on data-driven insights.The analysis is structured point-wise for easy reference:"
   ]
  },
  {
   "cell_type": "markdown",
   "metadata": {},
   "source": [
    "1.1 Top 10 Players by Goals\n",
    "\n",
    "In this section we examine the top 10 players who have achieved the highest goal-scoring records over the years covered in the dataset. This analysis highlights the standout performers and provides insights into their skills during the specified period."
   ]
  },
  {
   "cell_type": "code",
   "execution_count": 13,
   "metadata": {},
   "outputs": [
    {
     "data": {
      "application/vnd.plotly.v1+json": {
       "config": {
        "plotlyServerURL": "https://plot.ly"
       },
       "data": [
        {
         "alignmentgroup": "True",
         "hovertemplate": "Player Names=%{x}<br>No. of Goals=%{y}<br>Total_Goals=%{text}<extra></extra>",
         "legendgroup": "Robert Lewandowski",
         "marker": {
          "color": "#636efa",
          "pattern": {
           "shape": ""
          }
         },
         "name": "Robert Lewandowski",
         "offsetgroup": "Robert Lewandowski",
         "orientation": "v",
         "showlegend": true,
         "text": [
          "471"
         ],
         "textposition": "auto",
         "type": "bar",
         "x": [
          "Robert Lewandowski"
         ],
         "xaxis": "x",
         "y": [
          471
         ],
         "yaxis": "y"
        },
        {
         "alignmentgroup": "True",
         "hovertemplate": "Player Names=%{x}<br>No. of Goals=%{y}<br>Total_Goals=%{text}<extra></extra>",
         "legendgroup": "Lionel Messi",
         "marker": {
          "color": "#EF553B",
          "pattern": {
           "shape": ""
          }
         },
         "name": "Lionel Messi",
         "offsetgroup": "Lionel Messi",
         "orientation": "v",
         "showlegend": true,
         "text": [
          "451"
         ],
         "textposition": "auto",
         "type": "bar",
         "x": [
          "Lionel Messi"
         ],
         "xaxis": "x",
         "y": [
          451
         ],
         "yaxis": "y"
        },
        {
         "alignmentgroup": "True",
         "hovertemplate": "Player Names=%{x}<br>No. of Goals=%{y}<br>Total_Goals=%{text}<extra></extra>",
         "legendgroup": "Cristiano Ronaldo",
         "marker": {
          "color": "#00cc96",
          "pattern": {
           "shape": ""
          }
         },
         "name": "Cristiano Ronaldo",
         "offsetgroup": "Cristiano Ronaldo",
         "orientation": "v",
         "showlegend": true,
         "text": [
          "432"
         ],
         "textposition": "auto",
         "type": "bar",
         "x": [
          "Cristiano Ronaldo"
         ],
         "xaxis": "x",
         "y": [
          432
         ],
         "yaxis": "y"
        },
        {
         "alignmentgroup": "True",
         "hovertemplate": "Player Names=%{x}<br>No. of Goals=%{y}<br>Total_Goals=%{text}<extra></extra>",
         "legendgroup": "Harry Kane",
         "marker": {
          "color": "#ab63fa",
          "pattern": {
           "shape": ""
          }
         },
         "name": "Harry Kane",
         "offsetgroup": "Harry Kane",
         "orientation": "v",
         "showlegend": true,
         "text": [
          "321"
         ],
         "textposition": "auto",
         "type": "bar",
         "x": [
          "Harry Kane"
         ],
         "xaxis": "x",
         "y": [
          321
         ],
         "yaxis": "y"
        },
        {
         "alignmentgroup": "True",
         "hovertemplate": "Player Names=%{x}<br>No. of Goals=%{y}<br>Total_Goals=%{text}<extra></extra>",
         "legendgroup": "Luis Suárez",
         "marker": {
          "color": "#FFA15A",
          "pattern": {
           "shape": ""
          }
         },
         "name": "Luis Suárez",
         "offsetgroup": "Luis Suárez",
         "orientation": "v",
         "showlegend": true,
         "text": [
          "316"
         ],
         "textposition": "auto",
         "type": "bar",
         "x": [
          "Luis Suárez"
         ],
         "xaxis": "x",
         "y": [
          316
         ],
         "yaxis": "y"
        },
        {
         "alignmentgroup": "True",
         "hovertemplate": "Player Names=%{x}<br>No. of Goals=%{y}<br>Total_Goals=%{text}<extra></extra>",
         "legendgroup": "Pierre-Emerick Aubameyang",
         "marker": {
          "color": "#19d3f3",
          "pattern": {
           "shape": ""
          }
         },
         "name": "Pierre-Emerick Aubameyang",
         "offsetgroup": "Pierre-Emerick Aubameyang",
         "orientation": "v",
         "showlegend": true,
         "text": [
          "294"
         ],
         "textposition": "auto",
         "type": "bar",
         "x": [
          "Pierre-Emerick Aubameyang"
         ],
         "xaxis": "x",
         "y": [
          294
         ],
         "yaxis": "y"
        },
        {
         "alignmentgroup": "True",
         "hovertemplate": "Player Names=%{x}<br>No. of Goals=%{y}<br>Total_Goals=%{text}<extra></extra>",
         "legendgroup": "Mohamed Salah",
         "marker": {
          "color": "#FF6692",
          "pattern": {
           "shape": ""
          }
         },
         "name": "Mohamed Salah",
         "offsetgroup": "Mohamed Salah",
         "orientation": "v",
         "showlegend": true,
         "text": [
          "261"
         ],
         "textposition": "auto",
         "type": "bar",
         "x": [
          "Mohamed Salah"
         ],
         "xaxis": "x",
         "y": [
          261
         ],
         "yaxis": "y"
        },
        {
         "alignmentgroup": "True",
         "hovertemplate": "Player Names=%{x}<br>No. of Goals=%{y}<br>Total_Goals=%{text}<extra></extra>",
         "legendgroup": "Ciro Immobile",
         "marker": {
          "color": "#B6E880",
          "pattern": {
           "shape": ""
          }
         },
         "name": "Ciro Immobile",
         "offsetgroup": "Ciro Immobile",
         "orientation": "v",
         "showlegend": true,
         "text": [
          "259"
         ],
         "textposition": "auto",
         "type": "bar",
         "x": [
          "Ciro Immobile"
         ],
         "xaxis": "x",
         "y": [
          259
         ],
         "yaxis": "y"
        },
        {
         "alignmentgroup": "True",
         "hovertemplate": "Player Names=%{x}<br>No. of Goals=%{y}<br>Total_Goals=%{text}<extra></extra>",
         "legendgroup": "Romelu Lukaku",
         "marker": {
          "color": "#FF97FF",
          "pattern": {
           "shape": ""
          }
         },
         "name": "Romelu Lukaku",
         "offsetgroup": "Romelu Lukaku",
         "orientation": "v",
         "showlegend": true,
         "text": [
          "258"
         ],
         "textposition": "auto",
         "type": "bar",
         "x": [
          "Romelu Lukaku"
         ],
         "xaxis": "x",
         "y": [
          258
         ],
         "yaxis": "y"
        },
        {
         "alignmentgroup": "True",
         "hovertemplate": "Player Names=%{x}<br>No. of Goals=%{y}<br>Total_Goals=%{text}<extra></extra>",
         "legendgroup": "Karim Benzema",
         "marker": {
          "color": "#FECB52",
          "pattern": {
           "shape": ""
          }
         },
         "name": "Karim Benzema",
         "offsetgroup": "Karim Benzema",
         "orientation": "v",
         "showlegend": true,
         "text": [
          "257"
         ],
         "textposition": "auto",
         "type": "bar",
         "x": [
          "Karim Benzema"
         ],
         "xaxis": "x",
         "y": [
          257
         ],
         "yaxis": "y"
        }
       ],
       "layout": {
        "barmode": "relative",
        "legend": {
         "title": {
          "text": "Player Names"
         },
         "tracegroupgap": 0
        },
        "showlegend": false,
        "template": {
         "data": {
          "bar": [
           {
            "error_x": {
             "color": "#2a3f5f"
            },
            "error_y": {
             "color": "#2a3f5f"
            },
            "marker": {
             "line": {
              "color": "#E5ECF6",
              "width": 0.5
             },
             "pattern": {
              "fillmode": "overlay",
              "size": 10,
              "solidity": 0.2
             }
            },
            "type": "bar"
           }
          ],
          "barpolar": [
           {
            "marker": {
             "line": {
              "color": "#E5ECF6",
              "width": 0.5
             },
             "pattern": {
              "fillmode": "overlay",
              "size": 10,
              "solidity": 0.2
             }
            },
            "type": "barpolar"
           }
          ],
          "carpet": [
           {
            "aaxis": {
             "endlinecolor": "#2a3f5f",
             "gridcolor": "white",
             "linecolor": "white",
             "minorgridcolor": "white",
             "startlinecolor": "#2a3f5f"
            },
            "baxis": {
             "endlinecolor": "#2a3f5f",
             "gridcolor": "white",
             "linecolor": "white",
             "minorgridcolor": "white",
             "startlinecolor": "#2a3f5f"
            },
            "type": "carpet"
           }
          ],
          "choropleth": [
           {
            "colorbar": {
             "outlinewidth": 0,
             "ticks": ""
            },
            "type": "choropleth"
           }
          ],
          "contour": [
           {
            "colorbar": {
             "outlinewidth": 0,
             "ticks": ""
            },
            "colorscale": [
             [
              0,
              "#0d0887"
             ],
             [
              0.1111111111111111,
              "#46039f"
             ],
             [
              0.2222222222222222,
              "#7201a8"
             ],
             [
              0.3333333333333333,
              "#9c179e"
             ],
             [
              0.4444444444444444,
              "#bd3786"
             ],
             [
              0.5555555555555556,
              "#d8576b"
             ],
             [
              0.6666666666666666,
              "#ed7953"
             ],
             [
              0.7777777777777778,
              "#fb9f3a"
             ],
             [
              0.8888888888888888,
              "#fdca26"
             ],
             [
              1,
              "#f0f921"
             ]
            ],
            "type": "contour"
           }
          ],
          "contourcarpet": [
           {
            "colorbar": {
             "outlinewidth": 0,
             "ticks": ""
            },
            "type": "contourcarpet"
           }
          ],
          "heatmap": [
           {
            "colorbar": {
             "outlinewidth": 0,
             "ticks": ""
            },
            "colorscale": [
             [
              0,
              "#0d0887"
             ],
             [
              0.1111111111111111,
              "#46039f"
             ],
             [
              0.2222222222222222,
              "#7201a8"
             ],
             [
              0.3333333333333333,
              "#9c179e"
             ],
             [
              0.4444444444444444,
              "#bd3786"
             ],
             [
              0.5555555555555556,
              "#d8576b"
             ],
             [
              0.6666666666666666,
              "#ed7953"
             ],
             [
              0.7777777777777778,
              "#fb9f3a"
             ],
             [
              0.8888888888888888,
              "#fdca26"
             ],
             [
              1,
              "#f0f921"
             ]
            ],
            "type": "heatmap"
           }
          ],
          "heatmapgl": [
           {
            "colorbar": {
             "outlinewidth": 0,
             "ticks": ""
            },
            "colorscale": [
             [
              0,
              "#0d0887"
             ],
             [
              0.1111111111111111,
              "#46039f"
             ],
             [
              0.2222222222222222,
              "#7201a8"
             ],
             [
              0.3333333333333333,
              "#9c179e"
             ],
             [
              0.4444444444444444,
              "#bd3786"
             ],
             [
              0.5555555555555556,
              "#d8576b"
             ],
             [
              0.6666666666666666,
              "#ed7953"
             ],
             [
              0.7777777777777778,
              "#fb9f3a"
             ],
             [
              0.8888888888888888,
              "#fdca26"
             ],
             [
              1,
              "#f0f921"
             ]
            ],
            "type": "heatmapgl"
           }
          ],
          "histogram": [
           {
            "marker": {
             "pattern": {
              "fillmode": "overlay",
              "size": 10,
              "solidity": 0.2
             }
            },
            "type": "histogram"
           }
          ],
          "histogram2d": [
           {
            "colorbar": {
             "outlinewidth": 0,
             "ticks": ""
            },
            "colorscale": [
             [
              0,
              "#0d0887"
             ],
             [
              0.1111111111111111,
              "#46039f"
             ],
             [
              0.2222222222222222,
              "#7201a8"
             ],
             [
              0.3333333333333333,
              "#9c179e"
             ],
             [
              0.4444444444444444,
              "#bd3786"
             ],
             [
              0.5555555555555556,
              "#d8576b"
             ],
             [
              0.6666666666666666,
              "#ed7953"
             ],
             [
              0.7777777777777778,
              "#fb9f3a"
             ],
             [
              0.8888888888888888,
              "#fdca26"
             ],
             [
              1,
              "#f0f921"
             ]
            ],
            "type": "histogram2d"
           }
          ],
          "histogram2dcontour": [
           {
            "colorbar": {
             "outlinewidth": 0,
             "ticks": ""
            },
            "colorscale": [
             [
              0,
              "#0d0887"
             ],
             [
              0.1111111111111111,
              "#46039f"
             ],
             [
              0.2222222222222222,
              "#7201a8"
             ],
             [
              0.3333333333333333,
              "#9c179e"
             ],
             [
              0.4444444444444444,
              "#bd3786"
             ],
             [
              0.5555555555555556,
              "#d8576b"
             ],
             [
              0.6666666666666666,
              "#ed7953"
             ],
             [
              0.7777777777777778,
              "#fb9f3a"
             ],
             [
              0.8888888888888888,
              "#fdca26"
             ],
             [
              1,
              "#f0f921"
             ]
            ],
            "type": "histogram2dcontour"
           }
          ],
          "mesh3d": [
           {
            "colorbar": {
             "outlinewidth": 0,
             "ticks": ""
            },
            "type": "mesh3d"
           }
          ],
          "parcoords": [
           {
            "line": {
             "colorbar": {
              "outlinewidth": 0,
              "ticks": ""
             }
            },
            "type": "parcoords"
           }
          ],
          "pie": [
           {
            "automargin": true,
            "type": "pie"
           }
          ],
          "scatter": [
           {
            "fillpattern": {
             "fillmode": "overlay",
             "size": 10,
             "solidity": 0.2
            },
            "type": "scatter"
           }
          ],
          "scatter3d": [
           {
            "line": {
             "colorbar": {
              "outlinewidth": 0,
              "ticks": ""
             }
            },
            "marker": {
             "colorbar": {
              "outlinewidth": 0,
              "ticks": ""
             }
            },
            "type": "scatter3d"
           }
          ],
          "scattercarpet": [
           {
            "marker": {
             "colorbar": {
              "outlinewidth": 0,
              "ticks": ""
             }
            },
            "type": "scattercarpet"
           }
          ],
          "scattergeo": [
           {
            "marker": {
             "colorbar": {
              "outlinewidth": 0,
              "ticks": ""
             }
            },
            "type": "scattergeo"
           }
          ],
          "scattergl": [
           {
            "marker": {
             "colorbar": {
              "outlinewidth": 0,
              "ticks": ""
             }
            },
            "type": "scattergl"
           }
          ],
          "scattermapbox": [
           {
            "marker": {
             "colorbar": {
              "outlinewidth": 0,
              "ticks": ""
             }
            },
            "type": "scattermapbox"
           }
          ],
          "scatterpolar": [
           {
            "marker": {
             "colorbar": {
              "outlinewidth": 0,
              "ticks": ""
             }
            },
            "type": "scatterpolar"
           }
          ],
          "scatterpolargl": [
           {
            "marker": {
             "colorbar": {
              "outlinewidth": 0,
              "ticks": ""
             }
            },
            "type": "scatterpolargl"
           }
          ],
          "scatterternary": [
           {
            "marker": {
             "colorbar": {
              "outlinewidth": 0,
              "ticks": ""
             }
            },
            "type": "scatterternary"
           }
          ],
          "surface": [
           {
            "colorbar": {
             "outlinewidth": 0,
             "ticks": ""
            },
            "colorscale": [
             [
              0,
              "#0d0887"
             ],
             [
              0.1111111111111111,
              "#46039f"
             ],
             [
              0.2222222222222222,
              "#7201a8"
             ],
             [
              0.3333333333333333,
              "#9c179e"
             ],
             [
              0.4444444444444444,
              "#bd3786"
             ],
             [
              0.5555555555555556,
              "#d8576b"
             ],
             [
              0.6666666666666666,
              "#ed7953"
             ],
             [
              0.7777777777777778,
              "#fb9f3a"
             ],
             [
              0.8888888888888888,
              "#fdca26"
             ],
             [
              1,
              "#f0f921"
             ]
            ],
            "type": "surface"
           }
          ],
          "table": [
           {
            "cells": {
             "fill": {
              "color": "#EBF0F8"
             },
             "line": {
              "color": "white"
             }
            },
            "header": {
             "fill": {
              "color": "#C8D4E3"
             },
             "line": {
              "color": "white"
             }
            },
            "type": "table"
           }
          ]
         },
         "layout": {
          "annotationdefaults": {
           "arrowcolor": "#2a3f5f",
           "arrowhead": 0,
           "arrowwidth": 1
          },
          "autotypenumbers": "strict",
          "coloraxis": {
           "colorbar": {
            "outlinewidth": 0,
            "ticks": ""
           }
          },
          "colorscale": {
           "diverging": [
            [
             0,
             "#8e0152"
            ],
            [
             0.1,
             "#c51b7d"
            ],
            [
             0.2,
             "#de77ae"
            ],
            [
             0.3,
             "#f1b6da"
            ],
            [
             0.4,
             "#fde0ef"
            ],
            [
             0.5,
             "#f7f7f7"
            ],
            [
             0.6,
             "#e6f5d0"
            ],
            [
             0.7,
             "#b8e186"
            ],
            [
             0.8,
             "#7fbc41"
            ],
            [
             0.9,
             "#4d9221"
            ],
            [
             1,
             "#276419"
            ]
           ],
           "sequential": [
            [
             0,
             "#0d0887"
            ],
            [
             0.1111111111111111,
             "#46039f"
            ],
            [
             0.2222222222222222,
             "#7201a8"
            ],
            [
             0.3333333333333333,
             "#9c179e"
            ],
            [
             0.4444444444444444,
             "#bd3786"
            ],
            [
             0.5555555555555556,
             "#d8576b"
            ],
            [
             0.6666666666666666,
             "#ed7953"
            ],
            [
             0.7777777777777778,
             "#fb9f3a"
            ],
            [
             0.8888888888888888,
             "#fdca26"
            ],
            [
             1,
             "#f0f921"
            ]
           ],
           "sequentialminus": [
            [
             0,
             "#0d0887"
            ],
            [
             0.1111111111111111,
             "#46039f"
            ],
            [
             0.2222222222222222,
             "#7201a8"
            ],
            [
             0.3333333333333333,
             "#9c179e"
            ],
            [
             0.4444444444444444,
             "#bd3786"
            ],
            [
             0.5555555555555556,
             "#d8576b"
            ],
            [
             0.6666666666666666,
             "#ed7953"
            ],
            [
             0.7777777777777778,
             "#fb9f3a"
            ],
            [
             0.8888888888888888,
             "#fdca26"
            ],
            [
             1,
             "#f0f921"
            ]
           ]
          },
          "colorway": [
           "#636efa",
           "#EF553B",
           "#00cc96",
           "#ab63fa",
           "#FFA15A",
           "#19d3f3",
           "#FF6692",
           "#B6E880",
           "#FF97FF",
           "#FECB52"
          ],
          "font": {
           "color": "#2a3f5f"
          },
          "geo": {
           "bgcolor": "white",
           "lakecolor": "white",
           "landcolor": "#E5ECF6",
           "showlakes": true,
           "showland": true,
           "subunitcolor": "white"
          },
          "hoverlabel": {
           "align": "left"
          },
          "hovermode": "closest",
          "mapbox": {
           "style": "light"
          },
          "paper_bgcolor": "white",
          "plot_bgcolor": "#E5ECF6",
          "polar": {
           "angularaxis": {
            "gridcolor": "white",
            "linecolor": "white",
            "ticks": ""
           },
           "bgcolor": "#E5ECF6",
           "radialaxis": {
            "gridcolor": "white",
            "linecolor": "white",
            "ticks": ""
           }
          },
          "scene": {
           "xaxis": {
            "backgroundcolor": "#E5ECF6",
            "gridcolor": "white",
            "gridwidth": 2,
            "linecolor": "white",
            "showbackground": true,
            "ticks": "",
            "zerolinecolor": "white"
           },
           "yaxis": {
            "backgroundcolor": "#E5ECF6",
            "gridcolor": "white",
            "gridwidth": 2,
            "linecolor": "white",
            "showbackground": true,
            "ticks": "",
            "zerolinecolor": "white"
           },
           "zaxis": {
            "backgroundcolor": "#E5ECF6",
            "gridcolor": "white",
            "gridwidth": 2,
            "linecolor": "white",
            "showbackground": true,
            "ticks": "",
            "zerolinecolor": "white"
           }
          },
          "shapedefaults": {
           "line": {
            "color": "#2a3f5f"
           }
          },
          "ternary": {
           "aaxis": {
            "gridcolor": "white",
            "linecolor": "white",
            "ticks": ""
           },
           "baxis": {
            "gridcolor": "white",
            "linecolor": "white",
            "ticks": ""
           },
           "bgcolor": "#E5ECF6",
           "caxis": {
            "gridcolor": "white",
            "linecolor": "white",
            "ticks": ""
           }
          },
          "title": {
           "x": 0.05
          },
          "xaxis": {
           "automargin": true,
           "gridcolor": "white",
           "linecolor": "white",
           "ticks": "",
           "title": {
            "standoff": 15
           },
           "zerolinecolor": "white",
           "zerolinewidth": 2
          },
          "yaxis": {
           "automargin": true,
           "gridcolor": "white",
           "linecolor": "white",
           "ticks": "",
           "title": {
            "standoff": 15
           },
           "zerolinecolor": "white",
           "zerolinewidth": 2
          }
         }
        },
        "title": {
         "text": "Top 10 Players with the Highest Goals"
        },
        "xaxis": {
         "anchor": "y",
         "categoryarray": [
          "Robert Lewandowski",
          "Lionel Messi",
          "Cristiano Ronaldo",
          "Harry Kane",
          "Luis Suárez",
          "Pierre-Emerick Aubameyang",
          "Mohamed Salah",
          "Ciro Immobile",
          "Romelu Lukaku",
          "Karim Benzema"
         ],
         "categoryorder": "array",
         "domain": [
          0,
          1
         ],
         "title": {
          "text": "Player Names"
         }
        },
        "yaxis": {
         "anchor": "x",
         "domain": [
          0,
          1
         ],
         "title": {
          "text": "No. of Goals"
         }
        }
       }
      }
     },
     "metadata": {},
     "output_type": "display_data"
    }
   ],
   "source": [
    "import pandas as pd\n",
    "import plotly.express as px\n",
    "from matplotlib import pyplot as plt\n",
    "\n",
    "df_appearances_new = appearances.groupby([\"player_name\"])[[\"goals\", \"assists\", \"minutes_played\"]].agg([\"sum\"])\n",
    "df_appearances_new.reset_index(inplace=True)\n",
    "df_appearances_new.columns = [\"player_name\", \"total_goals\", \"total_assists\", \"total_minutes_played\"]\n",
    "\n",
    "df_goals = df_appearances_new.sort_values(by=\"total_goals\", ascending=False).head(10)\n",
    "\n",
    "df_goals['Total_Goals'] = df_goals['total_goals'].astype(str)\n",
    "\n",
    "most_goals = px.bar(df_goals,\n",
    "                       x='player_name',\n",
    "                       y='total_goals',\n",
    "                       title='Top 10 Players with the Highest Goals',\n",
    "                       labels={'player_name': 'Player Names', 'total_goals': 'No. of Goals'},\n",
    "                       text=\"Total_Goals\",\n",
    "                       color='player_name')\n",
    "most_goals.update_layout(showlegend=False)\n",
    "most_goals.show()"
   ]
  },
  {
   "cell_type": "markdown",
   "metadata": {},
   "source": [
    "The above bar chart compares the goal-scoring achievements of ten players with each bar representing a player’s name and their corresponding number of goals. The chart highlights the top goal scorers making it easy to see who has scored the most goals among them."
   ]
  },
  {
   "cell_type": "markdown",
   "metadata": {},
   "source": [
    "1.2 Top 10 Players by Assists\n",
    "\n",
    "In this section we examine the top 10 players who have achieved the highest record of assists over the years covered in the dataset. This analysis highlights the standout performers and provides insights into their skills during the specified period."
   ]
  },
  {
   "cell_type": "code",
   "execution_count": 14,
   "metadata": {},
   "outputs": [
    {
     "data": {
      "application/vnd.plotly.v1+json": {
       "config": {
        "plotlyServerURL": "https://plot.ly"
       },
       "data": [
        {
         "domain": {
          "x": [
           0,
           1
          ],
          "y": [
           0,
           1
          ]
         },
         "hole": 0.3,
         "hovertemplate": "ranked_player=%{label}<br>Total Assists=%{value}<extra></extra>",
         "labels": [
          "1. Lionel Messi",
          "2. Kevin De Bruyne",
          "3. Dusan Tadic",
          "4. Thomas Müller",
          "5. Ángel Di María",
          "6. Luis Suárez",
          "7. Neymar",
          "8. Hakim Ziyech",
          "9. Dries Mertens",
          "10. Christian Eriksen"
         ],
         "legendgroup": "",
         "name": "",
         "showlegend": true,
         "textfont": {
          "size": 14
         },
         "textinfo": "percent+label",
         "textposition": "inside",
         "type": "pie",
         "values": [
          224,
          211,
          201,
          197,
          173,
          160,
          143,
          137,
          135,
          133
         ]
        }
       ],
       "layout": {
        "legend": {
         "tracegroupgap": 0
        },
        "template": {
         "data": {
          "bar": [
           {
            "error_x": {
             "color": "#2a3f5f"
            },
            "error_y": {
             "color": "#2a3f5f"
            },
            "marker": {
             "line": {
              "color": "#E5ECF6",
              "width": 0.5
             },
             "pattern": {
              "fillmode": "overlay",
              "size": 10,
              "solidity": 0.2
             }
            },
            "type": "bar"
           }
          ],
          "barpolar": [
           {
            "marker": {
             "line": {
              "color": "#E5ECF6",
              "width": 0.5
             },
             "pattern": {
              "fillmode": "overlay",
              "size": 10,
              "solidity": 0.2
             }
            },
            "type": "barpolar"
           }
          ],
          "carpet": [
           {
            "aaxis": {
             "endlinecolor": "#2a3f5f",
             "gridcolor": "white",
             "linecolor": "white",
             "minorgridcolor": "white",
             "startlinecolor": "#2a3f5f"
            },
            "baxis": {
             "endlinecolor": "#2a3f5f",
             "gridcolor": "white",
             "linecolor": "white",
             "minorgridcolor": "white",
             "startlinecolor": "#2a3f5f"
            },
            "type": "carpet"
           }
          ],
          "choropleth": [
           {
            "colorbar": {
             "outlinewidth": 0,
             "ticks": ""
            },
            "type": "choropleth"
           }
          ],
          "contour": [
           {
            "colorbar": {
             "outlinewidth": 0,
             "ticks": ""
            },
            "colorscale": [
             [
              0,
              "#0d0887"
             ],
             [
              0.1111111111111111,
              "#46039f"
             ],
             [
              0.2222222222222222,
              "#7201a8"
             ],
             [
              0.3333333333333333,
              "#9c179e"
             ],
             [
              0.4444444444444444,
              "#bd3786"
             ],
             [
              0.5555555555555556,
              "#d8576b"
             ],
             [
              0.6666666666666666,
              "#ed7953"
             ],
             [
              0.7777777777777778,
              "#fb9f3a"
             ],
             [
              0.8888888888888888,
              "#fdca26"
             ],
             [
              1,
              "#f0f921"
             ]
            ],
            "type": "contour"
           }
          ],
          "contourcarpet": [
           {
            "colorbar": {
             "outlinewidth": 0,
             "ticks": ""
            },
            "type": "contourcarpet"
           }
          ],
          "heatmap": [
           {
            "colorbar": {
             "outlinewidth": 0,
             "ticks": ""
            },
            "colorscale": [
             [
              0,
              "#0d0887"
             ],
             [
              0.1111111111111111,
              "#46039f"
             ],
             [
              0.2222222222222222,
              "#7201a8"
             ],
             [
              0.3333333333333333,
              "#9c179e"
             ],
             [
              0.4444444444444444,
              "#bd3786"
             ],
             [
              0.5555555555555556,
              "#d8576b"
             ],
             [
              0.6666666666666666,
              "#ed7953"
             ],
             [
              0.7777777777777778,
              "#fb9f3a"
             ],
             [
              0.8888888888888888,
              "#fdca26"
             ],
             [
              1,
              "#f0f921"
             ]
            ],
            "type": "heatmap"
           }
          ],
          "heatmapgl": [
           {
            "colorbar": {
             "outlinewidth": 0,
             "ticks": ""
            },
            "colorscale": [
             [
              0,
              "#0d0887"
             ],
             [
              0.1111111111111111,
              "#46039f"
             ],
             [
              0.2222222222222222,
              "#7201a8"
             ],
             [
              0.3333333333333333,
              "#9c179e"
             ],
             [
              0.4444444444444444,
              "#bd3786"
             ],
             [
              0.5555555555555556,
              "#d8576b"
             ],
             [
              0.6666666666666666,
              "#ed7953"
             ],
             [
              0.7777777777777778,
              "#fb9f3a"
             ],
             [
              0.8888888888888888,
              "#fdca26"
             ],
             [
              1,
              "#f0f921"
             ]
            ],
            "type": "heatmapgl"
           }
          ],
          "histogram": [
           {
            "marker": {
             "pattern": {
              "fillmode": "overlay",
              "size": 10,
              "solidity": 0.2
             }
            },
            "type": "histogram"
           }
          ],
          "histogram2d": [
           {
            "colorbar": {
             "outlinewidth": 0,
             "ticks": ""
            },
            "colorscale": [
             [
              0,
              "#0d0887"
             ],
             [
              0.1111111111111111,
              "#46039f"
             ],
             [
              0.2222222222222222,
              "#7201a8"
             ],
             [
              0.3333333333333333,
              "#9c179e"
             ],
             [
              0.4444444444444444,
              "#bd3786"
             ],
             [
              0.5555555555555556,
              "#d8576b"
             ],
             [
              0.6666666666666666,
              "#ed7953"
             ],
             [
              0.7777777777777778,
              "#fb9f3a"
             ],
             [
              0.8888888888888888,
              "#fdca26"
             ],
             [
              1,
              "#f0f921"
             ]
            ],
            "type": "histogram2d"
           }
          ],
          "histogram2dcontour": [
           {
            "colorbar": {
             "outlinewidth": 0,
             "ticks": ""
            },
            "colorscale": [
             [
              0,
              "#0d0887"
             ],
             [
              0.1111111111111111,
              "#46039f"
             ],
             [
              0.2222222222222222,
              "#7201a8"
             ],
             [
              0.3333333333333333,
              "#9c179e"
             ],
             [
              0.4444444444444444,
              "#bd3786"
             ],
             [
              0.5555555555555556,
              "#d8576b"
             ],
             [
              0.6666666666666666,
              "#ed7953"
             ],
             [
              0.7777777777777778,
              "#fb9f3a"
             ],
             [
              0.8888888888888888,
              "#fdca26"
             ],
             [
              1,
              "#f0f921"
             ]
            ],
            "type": "histogram2dcontour"
           }
          ],
          "mesh3d": [
           {
            "colorbar": {
             "outlinewidth": 0,
             "ticks": ""
            },
            "type": "mesh3d"
           }
          ],
          "parcoords": [
           {
            "line": {
             "colorbar": {
              "outlinewidth": 0,
              "ticks": ""
             }
            },
            "type": "parcoords"
           }
          ],
          "pie": [
           {
            "automargin": true,
            "type": "pie"
           }
          ],
          "scatter": [
           {
            "fillpattern": {
             "fillmode": "overlay",
             "size": 10,
             "solidity": 0.2
            },
            "type": "scatter"
           }
          ],
          "scatter3d": [
           {
            "line": {
             "colorbar": {
              "outlinewidth": 0,
              "ticks": ""
             }
            },
            "marker": {
             "colorbar": {
              "outlinewidth": 0,
              "ticks": ""
             }
            },
            "type": "scatter3d"
           }
          ],
          "scattercarpet": [
           {
            "marker": {
             "colorbar": {
              "outlinewidth": 0,
              "ticks": ""
             }
            },
            "type": "scattercarpet"
           }
          ],
          "scattergeo": [
           {
            "marker": {
             "colorbar": {
              "outlinewidth": 0,
              "ticks": ""
             }
            },
            "type": "scattergeo"
           }
          ],
          "scattergl": [
           {
            "marker": {
             "colorbar": {
              "outlinewidth": 0,
              "ticks": ""
             }
            },
            "type": "scattergl"
           }
          ],
          "scattermapbox": [
           {
            "marker": {
             "colorbar": {
              "outlinewidth": 0,
              "ticks": ""
             }
            },
            "type": "scattermapbox"
           }
          ],
          "scatterpolar": [
           {
            "marker": {
             "colorbar": {
              "outlinewidth": 0,
              "ticks": ""
             }
            },
            "type": "scatterpolar"
           }
          ],
          "scatterpolargl": [
           {
            "marker": {
             "colorbar": {
              "outlinewidth": 0,
              "ticks": ""
             }
            },
            "type": "scatterpolargl"
           }
          ],
          "scatterternary": [
           {
            "marker": {
             "colorbar": {
              "outlinewidth": 0,
              "ticks": ""
             }
            },
            "type": "scatterternary"
           }
          ],
          "surface": [
           {
            "colorbar": {
             "outlinewidth": 0,
             "ticks": ""
            },
            "colorscale": [
             [
              0,
              "#0d0887"
             ],
             [
              0.1111111111111111,
              "#46039f"
             ],
             [
              0.2222222222222222,
              "#7201a8"
             ],
             [
              0.3333333333333333,
              "#9c179e"
             ],
             [
              0.4444444444444444,
              "#bd3786"
             ],
             [
              0.5555555555555556,
              "#d8576b"
             ],
             [
              0.6666666666666666,
              "#ed7953"
             ],
             [
              0.7777777777777778,
              "#fb9f3a"
             ],
             [
              0.8888888888888888,
              "#fdca26"
             ],
             [
              1,
              "#f0f921"
             ]
            ],
            "type": "surface"
           }
          ],
          "table": [
           {
            "cells": {
             "fill": {
              "color": "#EBF0F8"
             },
             "line": {
              "color": "white"
             }
            },
            "header": {
             "fill": {
              "color": "#C8D4E3"
             },
             "line": {
              "color": "white"
             }
            },
            "type": "table"
           }
          ]
         },
         "layout": {
          "annotationdefaults": {
           "arrowcolor": "#2a3f5f",
           "arrowhead": 0,
           "arrowwidth": 1
          },
          "autotypenumbers": "strict",
          "coloraxis": {
           "colorbar": {
            "outlinewidth": 0,
            "ticks": ""
           }
          },
          "colorscale": {
           "diverging": [
            [
             0,
             "#8e0152"
            ],
            [
             0.1,
             "#c51b7d"
            ],
            [
             0.2,
             "#de77ae"
            ],
            [
             0.3,
             "#f1b6da"
            ],
            [
             0.4,
             "#fde0ef"
            ],
            [
             0.5,
             "#f7f7f7"
            ],
            [
             0.6,
             "#e6f5d0"
            ],
            [
             0.7,
             "#b8e186"
            ],
            [
             0.8,
             "#7fbc41"
            ],
            [
             0.9,
             "#4d9221"
            ],
            [
             1,
             "#276419"
            ]
           ],
           "sequential": [
            [
             0,
             "#0d0887"
            ],
            [
             0.1111111111111111,
             "#46039f"
            ],
            [
             0.2222222222222222,
             "#7201a8"
            ],
            [
             0.3333333333333333,
             "#9c179e"
            ],
            [
             0.4444444444444444,
             "#bd3786"
            ],
            [
             0.5555555555555556,
             "#d8576b"
            ],
            [
             0.6666666666666666,
             "#ed7953"
            ],
            [
             0.7777777777777778,
             "#fb9f3a"
            ],
            [
             0.8888888888888888,
             "#fdca26"
            ],
            [
             1,
             "#f0f921"
            ]
           ],
           "sequentialminus": [
            [
             0,
             "#0d0887"
            ],
            [
             0.1111111111111111,
             "#46039f"
            ],
            [
             0.2222222222222222,
             "#7201a8"
            ],
            [
             0.3333333333333333,
             "#9c179e"
            ],
            [
             0.4444444444444444,
             "#bd3786"
            ],
            [
             0.5555555555555556,
             "#d8576b"
            ],
            [
             0.6666666666666666,
             "#ed7953"
            ],
            [
             0.7777777777777778,
             "#fb9f3a"
            ],
            [
             0.8888888888888888,
             "#fdca26"
            ],
            [
             1,
             "#f0f921"
            ]
           ]
          },
          "colorway": [
           "#636efa",
           "#EF553B",
           "#00cc96",
           "#ab63fa",
           "#FFA15A",
           "#19d3f3",
           "#FF6692",
           "#B6E880",
           "#FF97FF",
           "#FECB52"
          ],
          "font": {
           "color": "#2a3f5f"
          },
          "geo": {
           "bgcolor": "white",
           "lakecolor": "white",
           "landcolor": "#E5ECF6",
           "showlakes": true,
           "showland": true,
           "subunitcolor": "white"
          },
          "hoverlabel": {
           "align": "left"
          },
          "hovermode": "closest",
          "mapbox": {
           "style": "light"
          },
          "paper_bgcolor": "white",
          "plot_bgcolor": "#E5ECF6",
          "polar": {
           "angularaxis": {
            "gridcolor": "white",
            "linecolor": "white",
            "ticks": ""
           },
           "bgcolor": "#E5ECF6",
           "radialaxis": {
            "gridcolor": "white",
            "linecolor": "white",
            "ticks": ""
           }
          },
          "scene": {
           "xaxis": {
            "backgroundcolor": "#E5ECF6",
            "gridcolor": "white",
            "gridwidth": 2,
            "linecolor": "white",
            "showbackground": true,
            "ticks": "",
            "zerolinecolor": "white"
           },
           "yaxis": {
            "backgroundcolor": "#E5ECF6",
            "gridcolor": "white",
            "gridwidth": 2,
            "linecolor": "white",
            "showbackground": true,
            "ticks": "",
            "zerolinecolor": "white"
           },
           "zaxis": {
            "backgroundcolor": "#E5ECF6",
            "gridcolor": "white",
            "gridwidth": 2,
            "linecolor": "white",
            "showbackground": true,
            "ticks": "",
            "zerolinecolor": "white"
           }
          },
          "shapedefaults": {
           "line": {
            "color": "#2a3f5f"
           }
          },
          "ternary": {
           "aaxis": {
            "gridcolor": "white",
            "linecolor": "white",
            "ticks": ""
           },
           "baxis": {
            "gridcolor": "white",
            "linecolor": "white",
            "ticks": ""
           },
           "bgcolor": "#E5ECF6",
           "caxis": {
            "gridcolor": "white",
            "linecolor": "white",
            "ticks": ""
           }
          },
          "title": {
           "x": 0.05
          },
          "xaxis": {
           "automargin": true,
           "gridcolor": "white",
           "linecolor": "white",
           "ticks": "",
           "title": {
            "standoff": 15
           },
           "zerolinecolor": "white",
           "zerolinewidth": 2
          },
          "yaxis": {
           "automargin": true,
           "gridcolor": "white",
           "linecolor": "white",
           "ticks": "",
           "title": {
            "standoff": 15
           },
           "zerolinecolor": "white",
           "zerolinewidth": 2
          }
         }
        },
        "title": {
         "text": "Top 10 Players with Highest No. of Assists"
        }
       }
      }
     },
     "metadata": {},
     "output_type": "display_data"
    }
   ],
   "source": [
    "df_assists = df_appearances_new.sort_values(by=\"total_assists\", ascending=False).head(10)\n",
    "df_assists['Total_Assists'] = df_assists['total_assists'].astype(str)\n",
    "df_assists = df_assists.sort_values(by=\"total_assists\", ascending=False)\n",
    "df_assists['rank'] = range(1, len(df_assists)+ 1)\n",
    "df_assists['ranked_player'] = df_assists['rank'].astype(str) + '. ' + df_assists['player_name']\n",
    "\n",
    "most_assists_pie = px.pie(df_assists,\n",
    "                             names='ranked_player',\n",
    "                             values='total_assists',\n",
    "                             title='Top 10 Players with Highest No. of Assists',\n",
    "                             hole=0.3,\n",
    "                             labels={'total_assists': 'Total Assists'})\n",
    "most_assists_pie.update_traces(\n",
    "    textposition='inside',\n",
    "    textinfo='percent+label',\n",
    "    textfont_size=14\n",
    ")\n",
    "most_assists_pie.show()"
   ]
  },
  {
   "cell_type": "markdown",
   "metadata": {},
   "source": [
    "The pie chart represents different players and their rank from 1 to 10 with Hisghest No. of Assists. This chart visually displays the number of assists provided by these top football players allowing for an easy comparison of their contributions to their teams in terms of assists."
   ]
  },
  {
   "cell_type": "markdown",
   "metadata": {},
   "source": [
    "1.3 Top 10 Players by Red Cards\n",
    "\n",
    "This report explores the incidence of red cards within our soccer dataset offering in-depth analysis of the players who have received the highest number of red cards."
   ]
  },
  {
   "cell_type": "code",
   "execution_count": 15,
   "metadata": {},
   "outputs": [
    {
     "data": {
      "application/vnd.plotly.v1+json": {
       "config": {
        "plotlyServerURL": "https://plot.ly"
       },
       "data": [
        {
         "alignmentgroup": "True",
         "hovertemplate": "No. of Red Cards=%{text}<br>Player Names=%{y}<extra></extra>",
         "legendgroup": "",
         "marker": {
          "color": "crimson",
          "pattern": {
           "shape": ""
          }
         },
         "name": "",
         "offsetgroup": "",
         "orientation": "h",
         "showlegend": false,
         "text": [
          6,
          6,
          6,
          6,
          6,
          7,
          7,
          7,
          7,
          8
         ],
         "textposition": "outside",
         "type": "bar",
         "x": [
          6,
          6,
          6,
          6,
          6,
          7,
          7,
          7,
          7,
          8
         ],
         "xaxis": "x",
         "y": [
          "Rafik Halliche",
          "Papy Djilobodji",
          "Sergio Ramos",
          "Daniel Congré",
          "Federico Fazio",
          "Felipe",
          "Mario Balotelli",
          "Fallou Diagne",
          "Téji Savanier",
          "Marcelo"
         ],
         "yaxis": "y"
        }
       ],
       "layout": {
        "barmode": "relative",
        "legend": {
         "tracegroupgap": 0
        },
        "template": {
         "data": {
          "bar": [
           {
            "error_x": {
             "color": "#2a3f5f"
            },
            "error_y": {
             "color": "#2a3f5f"
            },
            "marker": {
             "line": {
              "color": "#E5ECF6",
              "width": 0.5
             },
             "pattern": {
              "fillmode": "overlay",
              "size": 10,
              "solidity": 0.2
             }
            },
            "type": "bar"
           }
          ],
          "barpolar": [
           {
            "marker": {
             "line": {
              "color": "#E5ECF6",
              "width": 0.5
             },
             "pattern": {
              "fillmode": "overlay",
              "size": 10,
              "solidity": 0.2
             }
            },
            "type": "barpolar"
           }
          ],
          "carpet": [
           {
            "aaxis": {
             "endlinecolor": "#2a3f5f",
             "gridcolor": "white",
             "linecolor": "white",
             "minorgridcolor": "white",
             "startlinecolor": "#2a3f5f"
            },
            "baxis": {
             "endlinecolor": "#2a3f5f",
             "gridcolor": "white",
             "linecolor": "white",
             "minorgridcolor": "white",
             "startlinecolor": "#2a3f5f"
            },
            "type": "carpet"
           }
          ],
          "choropleth": [
           {
            "colorbar": {
             "outlinewidth": 0,
             "ticks": ""
            },
            "type": "choropleth"
           }
          ],
          "contour": [
           {
            "colorbar": {
             "outlinewidth": 0,
             "ticks": ""
            },
            "colorscale": [
             [
              0,
              "#0d0887"
             ],
             [
              0.1111111111111111,
              "#46039f"
             ],
             [
              0.2222222222222222,
              "#7201a8"
             ],
             [
              0.3333333333333333,
              "#9c179e"
             ],
             [
              0.4444444444444444,
              "#bd3786"
             ],
             [
              0.5555555555555556,
              "#d8576b"
             ],
             [
              0.6666666666666666,
              "#ed7953"
             ],
             [
              0.7777777777777778,
              "#fb9f3a"
             ],
             [
              0.8888888888888888,
              "#fdca26"
             ],
             [
              1,
              "#f0f921"
             ]
            ],
            "type": "contour"
           }
          ],
          "contourcarpet": [
           {
            "colorbar": {
             "outlinewidth": 0,
             "ticks": ""
            },
            "type": "contourcarpet"
           }
          ],
          "heatmap": [
           {
            "colorbar": {
             "outlinewidth": 0,
             "ticks": ""
            },
            "colorscale": [
             [
              0,
              "#0d0887"
             ],
             [
              0.1111111111111111,
              "#46039f"
             ],
             [
              0.2222222222222222,
              "#7201a8"
             ],
             [
              0.3333333333333333,
              "#9c179e"
             ],
             [
              0.4444444444444444,
              "#bd3786"
             ],
             [
              0.5555555555555556,
              "#d8576b"
             ],
             [
              0.6666666666666666,
              "#ed7953"
             ],
             [
              0.7777777777777778,
              "#fb9f3a"
             ],
             [
              0.8888888888888888,
              "#fdca26"
             ],
             [
              1,
              "#f0f921"
             ]
            ],
            "type": "heatmap"
           }
          ],
          "heatmapgl": [
           {
            "colorbar": {
             "outlinewidth": 0,
             "ticks": ""
            },
            "colorscale": [
             [
              0,
              "#0d0887"
             ],
             [
              0.1111111111111111,
              "#46039f"
             ],
             [
              0.2222222222222222,
              "#7201a8"
             ],
             [
              0.3333333333333333,
              "#9c179e"
             ],
             [
              0.4444444444444444,
              "#bd3786"
             ],
             [
              0.5555555555555556,
              "#d8576b"
             ],
             [
              0.6666666666666666,
              "#ed7953"
             ],
             [
              0.7777777777777778,
              "#fb9f3a"
             ],
             [
              0.8888888888888888,
              "#fdca26"
             ],
             [
              1,
              "#f0f921"
             ]
            ],
            "type": "heatmapgl"
           }
          ],
          "histogram": [
           {
            "marker": {
             "pattern": {
              "fillmode": "overlay",
              "size": 10,
              "solidity": 0.2
             }
            },
            "type": "histogram"
           }
          ],
          "histogram2d": [
           {
            "colorbar": {
             "outlinewidth": 0,
             "ticks": ""
            },
            "colorscale": [
             [
              0,
              "#0d0887"
             ],
             [
              0.1111111111111111,
              "#46039f"
             ],
             [
              0.2222222222222222,
              "#7201a8"
             ],
             [
              0.3333333333333333,
              "#9c179e"
             ],
             [
              0.4444444444444444,
              "#bd3786"
             ],
             [
              0.5555555555555556,
              "#d8576b"
             ],
             [
              0.6666666666666666,
              "#ed7953"
             ],
             [
              0.7777777777777778,
              "#fb9f3a"
             ],
             [
              0.8888888888888888,
              "#fdca26"
             ],
             [
              1,
              "#f0f921"
             ]
            ],
            "type": "histogram2d"
           }
          ],
          "histogram2dcontour": [
           {
            "colorbar": {
             "outlinewidth": 0,
             "ticks": ""
            },
            "colorscale": [
             [
              0,
              "#0d0887"
             ],
             [
              0.1111111111111111,
              "#46039f"
             ],
             [
              0.2222222222222222,
              "#7201a8"
             ],
             [
              0.3333333333333333,
              "#9c179e"
             ],
             [
              0.4444444444444444,
              "#bd3786"
             ],
             [
              0.5555555555555556,
              "#d8576b"
             ],
             [
              0.6666666666666666,
              "#ed7953"
             ],
             [
              0.7777777777777778,
              "#fb9f3a"
             ],
             [
              0.8888888888888888,
              "#fdca26"
             ],
             [
              1,
              "#f0f921"
             ]
            ],
            "type": "histogram2dcontour"
           }
          ],
          "mesh3d": [
           {
            "colorbar": {
             "outlinewidth": 0,
             "ticks": ""
            },
            "type": "mesh3d"
           }
          ],
          "parcoords": [
           {
            "line": {
             "colorbar": {
              "outlinewidth": 0,
              "ticks": ""
             }
            },
            "type": "parcoords"
           }
          ],
          "pie": [
           {
            "automargin": true,
            "type": "pie"
           }
          ],
          "scatter": [
           {
            "fillpattern": {
             "fillmode": "overlay",
             "size": 10,
             "solidity": 0.2
            },
            "type": "scatter"
           }
          ],
          "scatter3d": [
           {
            "line": {
             "colorbar": {
              "outlinewidth": 0,
              "ticks": ""
             }
            },
            "marker": {
             "colorbar": {
              "outlinewidth": 0,
              "ticks": ""
             }
            },
            "type": "scatter3d"
           }
          ],
          "scattercarpet": [
           {
            "marker": {
             "colorbar": {
              "outlinewidth": 0,
              "ticks": ""
             }
            },
            "type": "scattercarpet"
           }
          ],
          "scattergeo": [
           {
            "marker": {
             "colorbar": {
              "outlinewidth": 0,
              "ticks": ""
             }
            },
            "type": "scattergeo"
           }
          ],
          "scattergl": [
           {
            "marker": {
             "colorbar": {
              "outlinewidth": 0,
              "ticks": ""
             }
            },
            "type": "scattergl"
           }
          ],
          "scattermapbox": [
           {
            "marker": {
             "colorbar": {
              "outlinewidth": 0,
              "ticks": ""
             }
            },
            "type": "scattermapbox"
           }
          ],
          "scatterpolar": [
           {
            "marker": {
             "colorbar": {
              "outlinewidth": 0,
              "ticks": ""
             }
            },
            "type": "scatterpolar"
           }
          ],
          "scatterpolargl": [
           {
            "marker": {
             "colorbar": {
              "outlinewidth": 0,
              "ticks": ""
             }
            },
            "type": "scatterpolargl"
           }
          ],
          "scatterternary": [
           {
            "marker": {
             "colorbar": {
              "outlinewidth": 0,
              "ticks": ""
             }
            },
            "type": "scatterternary"
           }
          ],
          "surface": [
           {
            "colorbar": {
             "outlinewidth": 0,
             "ticks": ""
            },
            "colorscale": [
             [
              0,
              "#0d0887"
             ],
             [
              0.1111111111111111,
              "#46039f"
             ],
             [
              0.2222222222222222,
              "#7201a8"
             ],
             [
              0.3333333333333333,
              "#9c179e"
             ],
             [
              0.4444444444444444,
              "#bd3786"
             ],
             [
              0.5555555555555556,
              "#d8576b"
             ],
             [
              0.6666666666666666,
              "#ed7953"
             ],
             [
              0.7777777777777778,
              "#fb9f3a"
             ],
             [
              0.8888888888888888,
              "#fdca26"
             ],
             [
              1,
              "#f0f921"
             ]
            ],
            "type": "surface"
           }
          ],
          "table": [
           {
            "cells": {
             "fill": {
              "color": "#EBF0F8"
             },
             "line": {
              "color": "white"
             }
            },
            "header": {
             "fill": {
              "color": "#C8D4E3"
             },
             "line": {
              "color": "white"
             }
            },
            "type": "table"
           }
          ]
         },
         "layout": {
          "annotationdefaults": {
           "arrowcolor": "#2a3f5f",
           "arrowhead": 0,
           "arrowwidth": 1
          },
          "autotypenumbers": "strict",
          "coloraxis": {
           "colorbar": {
            "outlinewidth": 0,
            "ticks": ""
           }
          },
          "colorscale": {
           "diverging": [
            [
             0,
             "#8e0152"
            ],
            [
             0.1,
             "#c51b7d"
            ],
            [
             0.2,
             "#de77ae"
            ],
            [
             0.3,
             "#f1b6da"
            ],
            [
             0.4,
             "#fde0ef"
            ],
            [
             0.5,
             "#f7f7f7"
            ],
            [
             0.6,
             "#e6f5d0"
            ],
            [
             0.7,
             "#b8e186"
            ],
            [
             0.8,
             "#7fbc41"
            ],
            [
             0.9,
             "#4d9221"
            ],
            [
             1,
             "#276419"
            ]
           ],
           "sequential": [
            [
             0,
             "#0d0887"
            ],
            [
             0.1111111111111111,
             "#46039f"
            ],
            [
             0.2222222222222222,
             "#7201a8"
            ],
            [
             0.3333333333333333,
             "#9c179e"
            ],
            [
             0.4444444444444444,
             "#bd3786"
            ],
            [
             0.5555555555555556,
             "#d8576b"
            ],
            [
             0.6666666666666666,
             "#ed7953"
            ],
            [
             0.7777777777777778,
             "#fb9f3a"
            ],
            [
             0.8888888888888888,
             "#fdca26"
            ],
            [
             1,
             "#f0f921"
            ]
           ],
           "sequentialminus": [
            [
             0,
             "#0d0887"
            ],
            [
             0.1111111111111111,
             "#46039f"
            ],
            [
             0.2222222222222222,
             "#7201a8"
            ],
            [
             0.3333333333333333,
             "#9c179e"
            ],
            [
             0.4444444444444444,
             "#bd3786"
            ],
            [
             0.5555555555555556,
             "#d8576b"
            ],
            [
             0.6666666666666666,
             "#ed7953"
            ],
            [
             0.7777777777777778,
             "#fb9f3a"
            ],
            [
             0.8888888888888888,
             "#fdca26"
            ],
            [
             1,
             "#f0f921"
            ]
           ]
          },
          "colorway": [
           "#636efa",
           "#EF553B",
           "#00cc96",
           "#ab63fa",
           "#FFA15A",
           "#19d3f3",
           "#FF6692",
           "#B6E880",
           "#FF97FF",
           "#FECB52"
          ],
          "font": {
           "color": "#2a3f5f"
          },
          "geo": {
           "bgcolor": "white",
           "lakecolor": "white",
           "landcolor": "#E5ECF6",
           "showlakes": true,
           "showland": true,
           "subunitcolor": "white"
          },
          "hoverlabel": {
           "align": "left"
          },
          "hovermode": "closest",
          "mapbox": {
           "style": "light"
          },
          "paper_bgcolor": "white",
          "plot_bgcolor": "#E5ECF6",
          "polar": {
           "angularaxis": {
            "gridcolor": "white",
            "linecolor": "white",
            "ticks": ""
           },
           "bgcolor": "#E5ECF6",
           "radialaxis": {
            "gridcolor": "white",
            "linecolor": "white",
            "ticks": ""
           }
          },
          "scene": {
           "xaxis": {
            "backgroundcolor": "#E5ECF6",
            "gridcolor": "white",
            "gridwidth": 2,
            "linecolor": "white",
            "showbackground": true,
            "ticks": "",
            "zerolinecolor": "white"
           },
           "yaxis": {
            "backgroundcolor": "#E5ECF6",
            "gridcolor": "white",
            "gridwidth": 2,
            "linecolor": "white",
            "showbackground": true,
            "ticks": "",
            "zerolinecolor": "white"
           },
           "zaxis": {
            "backgroundcolor": "#E5ECF6",
            "gridcolor": "white",
            "gridwidth": 2,
            "linecolor": "white",
            "showbackground": true,
            "ticks": "",
            "zerolinecolor": "white"
           }
          },
          "shapedefaults": {
           "line": {
            "color": "#2a3f5f"
           }
          },
          "ternary": {
           "aaxis": {
            "gridcolor": "white",
            "linecolor": "white",
            "ticks": ""
           },
           "baxis": {
            "gridcolor": "white",
            "linecolor": "white",
            "ticks": ""
           },
           "bgcolor": "#E5ECF6",
           "caxis": {
            "gridcolor": "white",
            "linecolor": "white",
            "ticks": ""
           }
          },
          "title": {
           "x": 0.05
          },
          "xaxis": {
           "automargin": true,
           "gridcolor": "white",
           "linecolor": "white",
           "ticks": "",
           "title": {
            "standoff": 15
           },
           "zerolinecolor": "white",
           "zerolinewidth": 2
          },
          "yaxis": {
           "automargin": true,
           "gridcolor": "white",
           "linecolor": "white",
           "ticks": "",
           "title": {
            "standoff": 15
           },
           "zerolinecolor": "white",
           "zerolinewidth": 2
          }
         }
        },
        "title": {
         "text": "Top 10 Players with Highest Red Cards"
        },
        "xaxis": {
         "anchor": "y",
         "domain": [
          0,
          1
         ],
         "title": {
          "text": "No. of Red Cards"
         }
        },
        "yaxis": {
         "anchor": "x",
         "domain": [
          0,
          1
         ],
         "title": {
          "text": "Player Names"
         }
        }
       }
      }
     },
     "metadata": {},
     "output_type": "display_data"
    }
   ],
   "source": [
    "aggresion_red = appearances.groupby([\"player_name\"])[[\"yellow_cards\", \"red_cards\", \"minutes_played\"]].agg([\"sum\"])\n",
    "aggresion_red.reset_index(inplace=True)\n",
    "aggresion_red.columns = [\"player_name\", \"yellow_cards\", \"red_cards\", \"total_minutes_played\"]\n",
    "df_red_cards = aggresion_red.sort_values(by=\"red_cards\", ascending=False).head(10)\n",
    "\n",
    "df_red_cards = df_red_cards.sort_values(by=\"red_cards\", ascending=True)\n",
    "most_red_cards = px.bar(df_red_cards,\n",
    "                           x='red_cards',\n",
    "                           y='player_name',\n",
    "                           orientation='h',\n",
    "                           title='Top 10 Players with Highest Red Cards',\n",
    "                           labels={'player_name': 'Player Names', 'red_cards': 'No. of Red Cards'},\n",
    "                           text=\"red_cards\",\n",
    "                           color_discrete_sequence=['crimson'])\n",
    "most_red_cards.update_traces(textposition='outside')\n",
    "most_red_cards.show()"
   ]
  },
  {
   "cell_type": "markdown",
   "metadata": {},
   "source": [
    "From the image it is evident that the highest Red Card recieved is 8 to Marcelo followed by 7 Red Card recieved to 4 players and 6 Red Cards to 5 Players."
   ]
  },
  {
   "cell_type": "markdown",
   "metadata": {},
   "source": [
    "1.4 Top 10 Players by Yellow Cards\n",
    "\n",
    "This report explores the incidence of Yellow cards within our soccer dataset offering in-depth analysis of the players who have received the highest number of Yellow cards."
   ]
  },
  {
   "cell_type": "code",
   "execution_count": 16,
   "metadata": {},
   "outputs": [
    {
     "data": {
      "application/vnd.plotly.v1+json": {
       "config": {
        "plotlyServerURL": "https://plot.ly"
       },
       "data": [
        {
         "alignmentgroup": "True",
         "hovertemplate": "Player Names=%{x}<br>No. of Yellow Cards=%{text}<extra></extra>",
         "legendgroup": "",
         "marker": {
          "color": "gold",
          "pattern": {
           "shape": ""
          }
         },
         "name": "",
         "offsetgroup": "",
         "orientation": "v",
         "showlegend": false,
         "text": [
          176,
          147,
          137,
          95,
          70,
          55,
          38,
          35,
          32,
          24
         ],
         "textposition": "outside",
         "type": "bar",
         "x": [
          "Marcelo",
          "Sergio Ramos",
          "Felipe",
          "Mario Balotelli",
          "Papy Djilobodji",
          "Federico Fazio",
          "Téji Savanier",
          "Fallou Diagne",
          "Daniel Congré",
          "Rafik Halliche"
         ],
         "xaxis": "x",
         "y": [
          176,
          147,
          137,
          95,
          70,
          55,
          38,
          35,
          32,
          24
         ],
         "yaxis": "y"
        }
       ],
       "layout": {
        "barmode": "relative",
        "legend": {
         "tracegroupgap": 0
        },
        "template": {
         "data": {
          "bar": [
           {
            "error_x": {
             "color": "#2a3f5f"
            },
            "error_y": {
             "color": "#2a3f5f"
            },
            "marker": {
             "line": {
              "color": "#E5ECF6",
              "width": 0.5
             },
             "pattern": {
              "fillmode": "overlay",
              "size": 10,
              "solidity": 0.2
             }
            },
            "type": "bar"
           }
          ],
          "barpolar": [
           {
            "marker": {
             "line": {
              "color": "#E5ECF6",
              "width": 0.5
             },
             "pattern": {
              "fillmode": "overlay",
              "size": 10,
              "solidity": 0.2
             }
            },
            "type": "barpolar"
           }
          ],
          "carpet": [
           {
            "aaxis": {
             "endlinecolor": "#2a3f5f",
             "gridcolor": "white",
             "linecolor": "white",
             "minorgridcolor": "white",
             "startlinecolor": "#2a3f5f"
            },
            "baxis": {
             "endlinecolor": "#2a3f5f",
             "gridcolor": "white",
             "linecolor": "white",
             "minorgridcolor": "white",
             "startlinecolor": "#2a3f5f"
            },
            "type": "carpet"
           }
          ],
          "choropleth": [
           {
            "colorbar": {
             "outlinewidth": 0,
             "ticks": ""
            },
            "type": "choropleth"
           }
          ],
          "contour": [
           {
            "colorbar": {
             "outlinewidth": 0,
             "ticks": ""
            },
            "colorscale": [
             [
              0,
              "#0d0887"
             ],
             [
              0.1111111111111111,
              "#46039f"
             ],
             [
              0.2222222222222222,
              "#7201a8"
             ],
             [
              0.3333333333333333,
              "#9c179e"
             ],
             [
              0.4444444444444444,
              "#bd3786"
             ],
             [
              0.5555555555555556,
              "#d8576b"
             ],
             [
              0.6666666666666666,
              "#ed7953"
             ],
             [
              0.7777777777777778,
              "#fb9f3a"
             ],
             [
              0.8888888888888888,
              "#fdca26"
             ],
             [
              1,
              "#f0f921"
             ]
            ],
            "type": "contour"
           }
          ],
          "contourcarpet": [
           {
            "colorbar": {
             "outlinewidth": 0,
             "ticks": ""
            },
            "type": "contourcarpet"
           }
          ],
          "heatmap": [
           {
            "colorbar": {
             "outlinewidth": 0,
             "ticks": ""
            },
            "colorscale": [
             [
              0,
              "#0d0887"
             ],
             [
              0.1111111111111111,
              "#46039f"
             ],
             [
              0.2222222222222222,
              "#7201a8"
             ],
             [
              0.3333333333333333,
              "#9c179e"
             ],
             [
              0.4444444444444444,
              "#bd3786"
             ],
             [
              0.5555555555555556,
              "#d8576b"
             ],
             [
              0.6666666666666666,
              "#ed7953"
             ],
             [
              0.7777777777777778,
              "#fb9f3a"
             ],
             [
              0.8888888888888888,
              "#fdca26"
             ],
             [
              1,
              "#f0f921"
             ]
            ],
            "type": "heatmap"
           }
          ],
          "heatmapgl": [
           {
            "colorbar": {
             "outlinewidth": 0,
             "ticks": ""
            },
            "colorscale": [
             [
              0,
              "#0d0887"
             ],
             [
              0.1111111111111111,
              "#46039f"
             ],
             [
              0.2222222222222222,
              "#7201a8"
             ],
             [
              0.3333333333333333,
              "#9c179e"
             ],
             [
              0.4444444444444444,
              "#bd3786"
             ],
             [
              0.5555555555555556,
              "#d8576b"
             ],
             [
              0.6666666666666666,
              "#ed7953"
             ],
             [
              0.7777777777777778,
              "#fb9f3a"
             ],
             [
              0.8888888888888888,
              "#fdca26"
             ],
             [
              1,
              "#f0f921"
             ]
            ],
            "type": "heatmapgl"
           }
          ],
          "histogram": [
           {
            "marker": {
             "pattern": {
              "fillmode": "overlay",
              "size": 10,
              "solidity": 0.2
             }
            },
            "type": "histogram"
           }
          ],
          "histogram2d": [
           {
            "colorbar": {
             "outlinewidth": 0,
             "ticks": ""
            },
            "colorscale": [
             [
              0,
              "#0d0887"
             ],
             [
              0.1111111111111111,
              "#46039f"
             ],
             [
              0.2222222222222222,
              "#7201a8"
             ],
             [
              0.3333333333333333,
              "#9c179e"
             ],
             [
              0.4444444444444444,
              "#bd3786"
             ],
             [
              0.5555555555555556,
              "#d8576b"
             ],
             [
              0.6666666666666666,
              "#ed7953"
             ],
             [
              0.7777777777777778,
              "#fb9f3a"
             ],
             [
              0.8888888888888888,
              "#fdca26"
             ],
             [
              1,
              "#f0f921"
             ]
            ],
            "type": "histogram2d"
           }
          ],
          "histogram2dcontour": [
           {
            "colorbar": {
             "outlinewidth": 0,
             "ticks": ""
            },
            "colorscale": [
             [
              0,
              "#0d0887"
             ],
             [
              0.1111111111111111,
              "#46039f"
             ],
             [
              0.2222222222222222,
              "#7201a8"
             ],
             [
              0.3333333333333333,
              "#9c179e"
             ],
             [
              0.4444444444444444,
              "#bd3786"
             ],
             [
              0.5555555555555556,
              "#d8576b"
             ],
             [
              0.6666666666666666,
              "#ed7953"
             ],
             [
              0.7777777777777778,
              "#fb9f3a"
             ],
             [
              0.8888888888888888,
              "#fdca26"
             ],
             [
              1,
              "#f0f921"
             ]
            ],
            "type": "histogram2dcontour"
           }
          ],
          "mesh3d": [
           {
            "colorbar": {
             "outlinewidth": 0,
             "ticks": ""
            },
            "type": "mesh3d"
           }
          ],
          "parcoords": [
           {
            "line": {
             "colorbar": {
              "outlinewidth": 0,
              "ticks": ""
             }
            },
            "type": "parcoords"
           }
          ],
          "pie": [
           {
            "automargin": true,
            "type": "pie"
           }
          ],
          "scatter": [
           {
            "fillpattern": {
             "fillmode": "overlay",
             "size": 10,
             "solidity": 0.2
            },
            "type": "scatter"
           }
          ],
          "scatter3d": [
           {
            "line": {
             "colorbar": {
              "outlinewidth": 0,
              "ticks": ""
             }
            },
            "marker": {
             "colorbar": {
              "outlinewidth": 0,
              "ticks": ""
             }
            },
            "type": "scatter3d"
           }
          ],
          "scattercarpet": [
           {
            "marker": {
             "colorbar": {
              "outlinewidth": 0,
              "ticks": ""
             }
            },
            "type": "scattercarpet"
           }
          ],
          "scattergeo": [
           {
            "marker": {
             "colorbar": {
              "outlinewidth": 0,
              "ticks": ""
             }
            },
            "type": "scattergeo"
           }
          ],
          "scattergl": [
           {
            "marker": {
             "colorbar": {
              "outlinewidth": 0,
              "ticks": ""
             }
            },
            "type": "scattergl"
           }
          ],
          "scattermapbox": [
           {
            "marker": {
             "colorbar": {
              "outlinewidth": 0,
              "ticks": ""
             }
            },
            "type": "scattermapbox"
           }
          ],
          "scatterpolar": [
           {
            "marker": {
             "colorbar": {
              "outlinewidth": 0,
              "ticks": ""
             }
            },
            "type": "scatterpolar"
           }
          ],
          "scatterpolargl": [
           {
            "marker": {
             "colorbar": {
              "outlinewidth": 0,
              "ticks": ""
             }
            },
            "type": "scatterpolargl"
           }
          ],
          "scatterternary": [
           {
            "marker": {
             "colorbar": {
              "outlinewidth": 0,
              "ticks": ""
             }
            },
            "type": "scatterternary"
           }
          ],
          "surface": [
           {
            "colorbar": {
             "outlinewidth": 0,
             "ticks": ""
            },
            "colorscale": [
             [
              0,
              "#0d0887"
             ],
             [
              0.1111111111111111,
              "#46039f"
             ],
             [
              0.2222222222222222,
              "#7201a8"
             ],
             [
              0.3333333333333333,
              "#9c179e"
             ],
             [
              0.4444444444444444,
              "#bd3786"
             ],
             [
              0.5555555555555556,
              "#d8576b"
             ],
             [
              0.6666666666666666,
              "#ed7953"
             ],
             [
              0.7777777777777778,
              "#fb9f3a"
             ],
             [
              0.8888888888888888,
              "#fdca26"
             ],
             [
              1,
              "#f0f921"
             ]
            ],
            "type": "surface"
           }
          ],
          "table": [
           {
            "cells": {
             "fill": {
              "color": "#EBF0F8"
             },
             "line": {
              "color": "white"
             }
            },
            "header": {
             "fill": {
              "color": "#C8D4E3"
             },
             "line": {
              "color": "white"
             }
            },
            "type": "table"
           }
          ]
         },
         "layout": {
          "annotationdefaults": {
           "arrowcolor": "#2a3f5f",
           "arrowhead": 0,
           "arrowwidth": 1
          },
          "autotypenumbers": "strict",
          "coloraxis": {
           "colorbar": {
            "outlinewidth": 0,
            "ticks": ""
           }
          },
          "colorscale": {
           "diverging": [
            [
             0,
             "#8e0152"
            ],
            [
             0.1,
             "#c51b7d"
            ],
            [
             0.2,
             "#de77ae"
            ],
            [
             0.3,
             "#f1b6da"
            ],
            [
             0.4,
             "#fde0ef"
            ],
            [
             0.5,
             "#f7f7f7"
            ],
            [
             0.6,
             "#e6f5d0"
            ],
            [
             0.7,
             "#b8e186"
            ],
            [
             0.8,
             "#7fbc41"
            ],
            [
             0.9,
             "#4d9221"
            ],
            [
             1,
             "#276419"
            ]
           ],
           "sequential": [
            [
             0,
             "#0d0887"
            ],
            [
             0.1111111111111111,
             "#46039f"
            ],
            [
             0.2222222222222222,
             "#7201a8"
            ],
            [
             0.3333333333333333,
             "#9c179e"
            ],
            [
             0.4444444444444444,
             "#bd3786"
            ],
            [
             0.5555555555555556,
             "#d8576b"
            ],
            [
             0.6666666666666666,
             "#ed7953"
            ],
            [
             0.7777777777777778,
             "#fb9f3a"
            ],
            [
             0.8888888888888888,
             "#fdca26"
            ],
            [
             1,
             "#f0f921"
            ]
           ],
           "sequentialminus": [
            [
             0,
             "#0d0887"
            ],
            [
             0.1111111111111111,
             "#46039f"
            ],
            [
             0.2222222222222222,
             "#7201a8"
            ],
            [
             0.3333333333333333,
             "#9c179e"
            ],
            [
             0.4444444444444444,
             "#bd3786"
            ],
            [
             0.5555555555555556,
             "#d8576b"
            ],
            [
             0.6666666666666666,
             "#ed7953"
            ],
            [
             0.7777777777777778,
             "#fb9f3a"
            ],
            [
             0.8888888888888888,
             "#fdca26"
            ],
            [
             1,
             "#f0f921"
            ]
           ]
          },
          "colorway": [
           "#636efa",
           "#EF553B",
           "#00cc96",
           "#ab63fa",
           "#FFA15A",
           "#19d3f3",
           "#FF6692",
           "#B6E880",
           "#FF97FF",
           "#FECB52"
          ],
          "font": {
           "color": "#2a3f5f"
          },
          "geo": {
           "bgcolor": "white",
           "lakecolor": "white",
           "landcolor": "#E5ECF6",
           "showlakes": true,
           "showland": true,
           "subunitcolor": "white"
          },
          "hoverlabel": {
           "align": "left"
          },
          "hovermode": "closest",
          "mapbox": {
           "style": "light"
          },
          "paper_bgcolor": "white",
          "plot_bgcolor": "#E5ECF6",
          "polar": {
           "angularaxis": {
            "gridcolor": "white",
            "linecolor": "white",
            "ticks": ""
           },
           "bgcolor": "#E5ECF6",
           "radialaxis": {
            "gridcolor": "white",
            "linecolor": "white",
            "ticks": ""
           }
          },
          "scene": {
           "xaxis": {
            "backgroundcolor": "#E5ECF6",
            "gridcolor": "white",
            "gridwidth": 2,
            "linecolor": "white",
            "showbackground": true,
            "ticks": "",
            "zerolinecolor": "white"
           },
           "yaxis": {
            "backgroundcolor": "#E5ECF6",
            "gridcolor": "white",
            "gridwidth": 2,
            "linecolor": "white",
            "showbackground": true,
            "ticks": "",
            "zerolinecolor": "white"
           },
           "zaxis": {
            "backgroundcolor": "#E5ECF6",
            "gridcolor": "white",
            "gridwidth": 2,
            "linecolor": "white",
            "showbackground": true,
            "ticks": "",
            "zerolinecolor": "white"
           }
          },
          "shapedefaults": {
           "line": {
            "color": "#2a3f5f"
           }
          },
          "ternary": {
           "aaxis": {
            "gridcolor": "white",
            "linecolor": "white",
            "ticks": ""
           },
           "baxis": {
            "gridcolor": "white",
            "linecolor": "white",
            "ticks": ""
           },
           "bgcolor": "#E5ECF6",
           "caxis": {
            "gridcolor": "white",
            "linecolor": "white",
            "ticks": ""
           }
          },
          "title": {
           "x": 0.05
          },
          "xaxis": {
           "automargin": true,
           "gridcolor": "white",
           "linecolor": "white",
           "ticks": "",
           "title": {
            "standoff": 15
           },
           "zerolinecolor": "white",
           "zerolinewidth": 2
          },
          "yaxis": {
           "automargin": true,
           "gridcolor": "white",
           "linecolor": "white",
           "ticks": "",
           "title": {
            "standoff": 15
           },
           "zerolinecolor": "white",
           "zerolinewidth": 2
          }
         }
        },
        "title": {
         "text": "Top 10 Players by Yellow Cards"
        },
        "xaxis": {
         "anchor": "y",
         "domain": [
          0,
          1
         ],
         "title": {
          "text": "Player Names"
         }
        },
        "yaxis": {
         "anchor": "x",
         "domain": [
          0,
          1
         ],
         "title": {
          "text": "No. of Yellow Cards"
         }
        }
       }
      }
     },
     "metadata": {},
     "output_type": "display_data"
    }
   ],
   "source": [
    "df_red_cards = df_red_cards.sort_values(by=\"yellow_cards\", ascending=False)\n",
    "most_yellow_cards = px.bar(df_red_cards,\n",
    "                              x='player_name',\n",
    "                              y='yellow_cards',\n",
    "                              title='Top 10 Players by Yellow Cards',\n",
    "                              labels={'player_name': 'Player Names', 'yellow_cards': 'No. of Yellow Cards'},\n",
    "                              text=\"yellow_cards\",\n",
    "                              color_discrete_sequence=['gold'])\n",
    "most_yellow_cards.update_traces(textposition='outside')\n",
    "most_yellow_cards.show()"
   ]
  },
  {
   "cell_type": "markdown",
   "metadata": {},
   "source": [
    "From the image it is evident that the highest Yellow Cards recieved is a whopping 176 to Marcelo followed by 147 Yellow Cards recieved to Sergio Ramos & 137 to Felipe followed by others."
   ]
  },
  {
   "cell_type": "markdown",
   "metadata": {},
   "source": [
    "1.5 Analysis of Players by Dominant Foot\n",
    "\n",
    "This report examines the preferred foot of players in the soccer dataset providing insights into whether they predominantly use their left or right foot."
   ]
  },
  {
   "cell_type": "code",
   "execution_count": 36,
   "metadata": {},
   "outputs": [
    {
     "data": {
      "image/png": "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",
      "text/plain": [
       "<Figure size 1000x600 with 1 Axes>"
      ]
     },
     "metadata": {},
     "output_type": "display_data"
    }
   ],
   "source": [
    "players = players.sort_values(\"foot\", ascending=False)\n",
    "f = plt.figure(figsize=(10, 6))\n",
    "ax = sns.countplot(x='foot', data=players, hue='foot', palette='Blues', legend=False)\n",
    "\n",
    "for p in ax.patches:\n",
    "    ax.annotate(f'{int(p.get_height())}',\n",
    "                (p.get_x() + p.get_width() / 2., p.get_height()),\n",
    "                ha='center', va='bottom', fontsize=12)\n",
    "\n",
    "plt.title(\"Foot used Among Players\", fontsize=18)\n",
    "plt.xlabel('Dominant Foot', fontsize=14)\n",
    "plt.ylabel('No. of Players', fontsize=14)\n",
    "plt.grid(False)\n",
    "\n",
    "plt.show()"
   ]
  },
  {
   "cell_type": "markdown",
   "metadata": {},
   "source": [
    "From the report it is clearly visible that majority of the players use their Right foot and only 36% of the players use Left foot."
   ]
  },
  {
   "cell_type": "markdown",
   "metadata": {},
   "source": [
    "1.6 Performance Correlation\n",
    "\n",
    "Here we analyze the overall correlation between Minutes played by the Players & their performances like Goals scored and assists."
   ]
  },
  {
   "cell_type": "code",
   "execution_count": 18,
   "metadata": {},
   "outputs": [
    {
     "data": {
      "image/png": "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",
      "text/plain": [
       "<Figure size 640x480 with 2 Axes>"
      ]
     },
     "metadata": {},
     "output_type": "display_data"
    }
   ],
   "source": [
    "performance_corr = appearances[['minutes_played', 'goals', 'assists']].corr()\n",
    "sns.heatmap(performance_corr, annot=True, cmap='coolwarm')\n",
    "plt.title('Correlation between Minutes Played and Performance')\n",
    "plt.show()"
   ]
  },
  {
   "cell_type": "markdown",
   "metadata": {},
   "source": [
    "From the heatmap we can interpret the correlations as under:\n",
    "\n",
    "Minutes Played vs. Goals: The correlation is 0.08. This indicates a very weak positive correlation between minutes played and goals scored. Essentially, there is almost no linear relationship between these two variables. More minutes played doesn't necessarily correlate strongly with more goals scored.\n",
    "\n",
    "Minutes Played vs. Assists: The correlation is 0.078. This is a very weak positive correlation showing that the number of assists is also not closely related to the minutes played.\n",
    "\n",
    "Goals vs. Assists: The correlation is 0.074, which again is a very weak positive relationship. This suggests that players who score more goals don't necessarily provide more assists."
   ]
  },
  {
   "cell_type": "markdown",
   "metadata": {},
   "source": [
    "1.7 Market value trends over time"
   ]
  },
  {
   "cell_type": "code",
   "execution_count": 19,
   "metadata": {},
   "outputs": [
    {
     "data": {
      "image/png": "iVBORw0KGgoAAAANSUhEUgAAAjIAAAGrCAYAAADaTX1PAAAAOXRFWHRTb2Z0d2FyZQBNYXRwbG90bGliIHZlcnNpb24zLjkuMiwgaHR0cHM6Ly9tYXRwbG90bGliLm9yZy8hTgPZAAAACXBIWXMAAA9hAAAPYQGoP6dpAACKmElEQVR4nO3dd1wT9xsH8E/YCIggWxFUXDhbHHXUrWir1lV31Wq11tVqta1dauuvjtbR4WytE/do6957740Kgqhs2RuS7+8PzJlAxl1yWfC8Xy9emsvl7snlxnPfdRLGGAMhhBBCiAWyMnUAhBBCCCG6okSGEEIIIRaLEhlCCCGEWCxKZAghhBBisSiRIYQQQojFokSGEEIIIRaLEhlCCCGEWCxKZAghhBBisSiRIYQQQojFokSGEBNr37492rdvb+owLM6sWbMgkUiQnJxs6lBEIZFIMGvWLFOHUaasXbsWEokE0dHRpg6FGBAlMkQvy5Ytg0QiQYsWLUwditkJDAyERCLh/ry8vPD2229j9+7dpg5NNO3bt4dEIkGtWrVUvn/kyBHu++/YscPI0fGXk5ODWbNm4eTJk1rnnTx5MiQSCSIiItTO880330AikeD27dsiRmlY9+7dw7Bhw1ClShXY29vDz88PQ4cOxb1790wdmhL5Pqftj5LC8sPG1AEQyxYWFobAwEBcvnwZERERCAoKMnVIZqVJkyb4/PPPAQCxsbFYuXIl+vbti+XLl2PcuHEmjk4cDg4OiIiIwOXLl9G8eXOl98LCwuDg4IC8vDwTRcdPTk4OZs+eDQBaS8eGDh2K33//HZs2bcL333+vcp7NmzejYcOGaNSokdihGsSuXbswePBguLu7Y/To0ahevTqio6OxevVq7NixA1u2bEGfPn1MHSaA4iTxo48+4l5fuXIFv/32G77++mvUq1ePm96oUSPUr18fgwYNgr29vSlCJcbCCNHRkydPGAC2a9cu5unpyWbNmmX0GKRSKcvNzTX6evkICAhg7777rtK0uLg45uTkxGrXrs1Na9euHWvXrp2Ro+NH2/Zt164dq1+/PqtTpw777LPPlN7Lzc1lFStWZP369WMA2Pbt20WJKSsrizHG2MyZMxkAlpSUpPcyk5KSGAA2c+ZMXvMHBQWxunXrqnzv/PnzDACbN2+eoBiErF9MERERrEKFCqxu3bosMTFR6b2kpCRWt25d5uTkxCIjI40al/x31mb79u0MADtx4oRhAyJmi6qWiM7CwsLg5uaGd999F/3790dYWBj3XmFhIdzd3fHhhx+W+lxGRgYcHBwwbdo0blp+fj5mzpyJoKAg2Nvbw9/fH1988QXy8/OVPiuRSDBx4kSEhYWhfv36sLe3x8GDBwEAv/zyC1q1aoXKlSvD0dERISEhKqszcnNzMXnyZHh4eMDFxQW9evXCixcvVBZHv3jxAqNGjYK3tzfs7e1Rv359/P333zpvMx8fH9SrVw9RUVFq5ykoKMD333+PkJAQuLq6wsnJCW+//TZOnDjBzcMYQ2BgIN57771Sn8/Ly4Orqys+/vhjbpoY21eTwYMHY+vWrZDJZNy0PXv2ICcnBwMGDCg1/9OnTzF+/HjUqVMHjo6OqFy5Mt5///1SbRnkbRxOnTqF8ePHw8vLC1WrVlUbx9OnTxEUFIQGDRogISEBAJCWlobPPvsM/v7+sLe3R1BQEObPn8/FGh0dDU9PTwDA7NmzeVVNDB06FOHh4bh+/Xqp9zZt2gSJRILBgwfz+i3VGTlyJAIDA0tNl7cNKmnjxo0ICQmBo6Mj3N3dMWjQIDx79kzren7++Wfk5ORg1apV3HaQ8/DwwMqVK5GdnY0FCxYAAHbs2MH9JiWtXLkSEokEd+/e5aaFh4ejf//+cHd3h4ODA5o2bYr//vtP6XNCf2e+VLWRCQwMRI8ePXDy5Ek0bdoUjo6OaNiwIVetuGvXLjRs2BAODg4ICQnBjRs3Si2Xz3ciRmTqTIpYrrp167LRo0czxhg7ffo0A8AuX77MvT9q1ChWqVIllp+fr/S5devWMQDsypUrjLHiu/6uXbuyChUqsM8++4ytXLmSTZw4kdnY2LD33ntP6bMAWL169ZinpyebPXs2W7p0Kbtx4wZjjLGqVauy8ePHsz/++IMtWrSINW/enAFge/fuVVrGgAEDGAD2wQcfsKVLl7IBAwawxo0bl7ojjo+PZ1WrVmX+/v7shx9+YMuXL2e9evViANjixYu1bh9VJTIFBQXM29ub+fj4cNNKlsgkJSUxX19fNnXqVLZ8+XK2YMECVqdOHWZra8t9V8YY++abb5itrS17+fKl0jq2bdvGALDTp0+Lun1VkZfIPHr0iAFgx44d497r3bs3Cw0NZSdOnChVIrN9+3bWuHFj9v3337NVq1axr7/+mrm5ubGAgACWnZ3NzbdmzRoGgAUHB7N27dqx33//nSvpKFkiExERwapVq8aaNGnCTcvOzmaNGjVilStXZl9//TVbsWIFGz58OJNIJOzTTz9ljBXf+S9fvpwBYH369GEbNmxgGzZsYLdu3VL7veXf9/PPP1eaXlRUxLy8vFjbtm0ZY/x/S/m2V9z/RowYwQICAkqtW/69Fc2ZM4dJJBI2cOBAtmzZMjZ79mzm4eHBAgMDWWpqqtrvwRhjfn5+LDAwUOM8gYGBrGrVqowxxnJycpizszMbP358qfk6dOjA6tevz72+e/cuc3V1ZcHBwWz+/Pnsjz/+YG3btmUSiYTt2rWLm0/T76yNphIZ+XKjoqK4aQEBAaxOnTrM19eXzZo1iy1evJhVqVKFOTs7s40bN7Jq1aqxefPmsXnz5jFXV1cWFBTEpFKp4O9EjIcSGaKTq1evMgDsyJEjjDHGZDIZq1q1KndxYIyxQ4cOMQBsz549Sp995513WI0aNbjXGzZsYFZWVuzMmTNK861YsYIBYOfOneOmAWBWVlbs3r17pWLKyclRel1QUMAaNGjAOnbsyE27du0aA1CqGmTkyJGlLiSjR49mvr6+LDk5WWneQYMGMVdX11LrKykgIIB17dqVJSUlsaSkJHbr1i02aNAgBoBNmjSJm69kIlNUVFQq+UtNTWXe3t5s1KhR3LSHDx8yAGz58uVK8/bq1YsFBgYymUzGGBNv+6oiT2QYY6xp06ZcYpuamsrs7OzYunXrVCYyqrbdhQsXGAC2fv16bpr8QtSmTRtWVFSkNL9iIvPgwQPm5+fHmjVrxlJSUrh5fvzxR+bk5MQePXqk9NmvvvqKWVtbs5iYGMaY8Kolxhhr1qwZq1q1qtJF7uDBgwwAW7lyJWOM/2/JmO6JTHR0NLO2tmb/+9//lOa7c+cOs7GxKTVdUVpaGgNQKqEtSZ7AZ2RkMMYYGzx4MPPy8lL6TeLi4piVlRX74YcfuGmdOnViDRs2ZHl5edw0mUzGWrVqxWrVqsVN0/Q7a6NLIgOAnT9/npsmP1c5Ojqyp0+fctNXrlxZatl8vxMxHqpaIjoJCwuDt7c3OnToAKC4SmLgwIHYsmULpFIpAKBjx47w8PDA1q1buc+lpqbiyJEjGDhwIDdt+/btqFevHurWrYvk5GTur2PHjgBQqhi+Xbt2CA4OLhWTo6Oj0nrS09Px9ttvKxX/y6tJxo8fr/TZSZMmKb1mjGHnzp3o2bMnGGNKcYWGhiI9PV1ltUJJhw8fhqenJzw9PdG4cWNs374dH3zwAebPn6/2M9bW1rCzswMAyGQypKSkoKioCE2bNlVaZ+3atdGiRQulKr2UlBQcOHAAQ4cO5aofxNq+2gwZMgS7du1CQUEBduzYAWtra7UNRBV/q8LCQrx8+RJBQUGoVKmSyu06ZswYWFtbq1zW3bt30a5dOwQGBuLo0aNwc3Pj3tu+fTvefvttuLm5KX33zp07QyqV4vTp04K/p9ywYcPw/PlzpWVs2rQJdnZ2eP/99wHw/y31sWvXLshkMgwYMEDpO/r4+KBWrVoaq7EyMzMBAC4uLhrXIX8/IyMDADBw4EAkJiYq9fLasWMHZDIZd2ynpKTg+PHjGDBgADIzM7m4Xr58idDQUDx+/BgvXrxQWo+m31lMwcHBaNmyJfda3uuyY8eOqFatWqnpT548AaDbdyKGR72WiGBSqRRbtmxBhw4dlNp6tGjRAgsXLsSxY8fQtWtX2NjYoF+/fti0aRPy8/Nhb2+PXbt2obCwUCmRefz4MR48eFCqfl4uMTFR6XX16tVVzrd3717MmTMHN2/eVGr7odie4OnTp7Cysiq1jJK9rZKSkpCWloZVq1Zh1apVvOJSpUWLFpgzZw4kEgkqVKiAevXqoVKlSlo/t27dOixcuBDh4eEoLCzkppeMe/jw4Zg4cSKePn2KgIAAbN++HYWFhfjggw+4ecTavtoMGjQI06ZNw4EDBxAWFoYePXqovUDm5uZi7ty5WLNmDV68eAHGGPdeenp6qfk1xdSzZ094e3vj0KFDcHZ2Vnrv8ePHuH37Nu/vLsSgQYMwdepUbNq0Ce3bt0deXh52796N7t27KyVTfH9LXT1+/BiMMbVd4G1tbdV+Vv77yBMadUomPN26dYOrqyu2bt2KTp06AQC2bt2KJk2aoHbt2gCAiIgIMMbw3Xff4bvvvlO53MTERFSpUoV7LdY20UYxWQEAV1dXAIC/v7/K6ampqQB0+07E8CiRIYIdP34ccXFx2LJlC7Zs2VLq/bCwMHTt2hVA8cl+5cqVOHDgAHr37o1t27ahbt26aNy4MTe/TCZDw4YNsWjRIpXrK3lyUbyblztz5gx69eqFtm3bYtmyZfD19YWtrS3WrFmDTZs2Cf6O8oagw4YNw4gRI1TOw6drrYeHBzp37ixo3Rs3bsTIkSPRu3dvTJ8+HV5eXrC2tsbcuXMRGRmpNO+gQYMwZcoUhIWF4euvv8bGjRvRtGlT1KlTR+m76Lt9+fD19UX79u2xcOFCnDt3Djt37lQ776RJk7BmzRp89tlnaNmyJVxdXSGRSDBo0CClBsN8YurXrx/WrVuHsLAwpQbOQPF379KlC7744guVn5VfdHXh5eWFLl26YOfOnVi6dCn27NmDzMxMDB06lJtHyG9ZkqoGvQC4Ek85mUwGiUSCAwcOqCzNKJncKXJ1dYWvr6/W8W5u376NKlWqoGLFigAAe3t79O7dG7t378ayZcuQkJCAc+fO4aefflKKCwCmTZuG0NBQlcsteQOh674nlLpSH3XT5Ym2Lt+JGB4lMkSwsLAweHl5YenSpaXe27VrF3bv3o0VK1bA0dERbdu2ha+vL7Zu3Yo2bdrg+PHj+Oabb5Q+U7NmTdy6dQudOnVSe/LWZufOnXBwcMChQ4eUxoxYs2aN0nwBAQGQyWSIiopSuoMtObiZp6cnXFxcIJVKBSci+tqxYwdq1KiBXbt2KW2PmTNnlprX3d0d7777LsLCwjB06FCcO3cOS5YsUZpHjO3L15AhQ/DRRx+hUqVKeOedd9TOt2PHDowYMQILFy7kpuXl5SEtLU3wOn/++WfY2Nhg/PjxcHFxwZAhQ7j3atasiaysLK2/oa7bZejQoTh48CAOHDiATZs2oWLFiujZsyf3vpDfsiQ3NzeV2+Pp06dKr2vWrAnGGKpXr65TYtajRw/8+eefOHv2LNq0aVPq/TNnziA6OrpUkjhw4ECsW7cOx44dw4MHD8AYUypprVGjBoDiEiFjH0OGUha/U1lAbWSIILm5udi1axd69OiB/v37l/qbOHEiMjMzua6IVlZW6N+/P/bs2YMNGzagqKhI6WQHAAMGDMCLFy/w559/qlxfdna21risra0hkUiU7lajo6Pxzz//KM0nv4tatmyZ0vTff/+91PL69euHnTt3KnUllUtKStIak67kd4WK1S2XLl3ChQsXVM7/wQcf4P79+5g+fTqsra0xaNAgpffF2L589e/fHzNnzsSyZcu4tiGqWFtbK30/oPg3KFnawIdEIsGqVavQv39/jBgxQqkb7IABA3DhwgUcOnSo1OfS0tJQVFQEAKhQoQI3TYjevXujQoUKWLZsGQ4cOIC+ffvCwcGBe1/ob6moZs2aSE9PVyotiYuLKzUydN++fWFtbY3Zs2eX2qaMMbx8+VLjeqZPnw5HR0d8/PHHpeZNSUnBuHHjUKFCBUyfPl3pvc6dO8Pd3R1bt27F1q1b0bx5c6WqIS8vL7Rv3x4rV65EXFxcqfUa8hgylLL4ncoCKpEhgvz333/IzMxEr169VL7/1ltvwdPTE2FhYVzCMnDgQPz++++YOXMmGjZsqDT6JlB8Id62bRvGjRuHEydOoHXr1pBKpQgPD8e2bdtw6NAhNG3aVGNc7777LhYtWoRu3bphyJAhSExMxNKlSxEUFKR0IQgJCUG/fv2wZMkSvHz5Em+99RZOnTqFR48eAVC+M583bx5OnDiBFi1aYMyYMQgODkZKSgquX7+Oo0ePIiUlRadtqE2PHj2wa9cu9OnTB++++y6ioqKwYsUKBAcHIysrS+V3r1y5MrZv347u3bvDy8tL6X0xti9frq6uvIaG79GjBzZs2ABXV1cEBwfjwoULOHr0KCpXrqzTeq2srLBx40b07t0bAwYMwP79+9GxY0dMnz4d//33H3r06IGRI0ciJCQE2dnZuHPnDnbs2IHo6Gh4eHjA0dERwcHB2Lp1K2rXrg13d3c0aNAADRo00LheZ2dn9O7dm6u+VKxWkn9PIb+lokGDBuHLL79Enz59MHnyZOTk5GD58uWoXbu2UkPhmjVrYs6cOZgxYwaio6PRu3dvuLi4ICoqCrt378bYsWOVxmwqqVatWli3bh2GDh2Khg0blhrZNzk5GZs3b0bNmjWVPmdra4u+fftiy5YtyM7Oxi+//FJq2UuXLkWbNm3QsGFDjBkzBjVq1EBCQgIuXLiA58+f49atWxq3gTkqi9/J4pmiqxSxXD179mQODg5KY32UNHLkSGZra8t1W5bJZMzf358BYHPmzFH5mYKCAjZ//nxWv359Zm9vz9zc3FhISAibPXs2S09P5+YDwCZMmKByGatXr2a1atVi9vb2rG7dumzNmjUqx9zIzs5mEyZMYO7u7szZ2Zn17t2b68pccuyKhIQENmHCBObv789sbW2Zj48P69SpE1u1apXWbaVqHBlVSna/lslk7KeffmIBAQHM3t6evfHGG2zv3r1qu+Myxtj48eMZALZp0yaV74uxfdXFrjhuiCqqul+npqayDz/8kHl4eDBnZ2cWGhrKwsPDWUBAABsxYgQ3n7z7rHzMIUWqRvbNyclh7dq1Y87OzuzixYuMMcYyMzPZjBkzWFBQELOzs2MeHh6sVatW7JdffmEFBQXcZ8+fP89CQkKYnZ2doK7Y+/btYwCYr6+vUldsxoT9lqrWefjwYdagQQNmZ2fH6tSpwzZu3Khyn2aMsZ07d7I2bdowJycn5uTkxOrWrcsmTJjAHj58yOt73L59mw0ePJj5+vpy+/rgwYPZnTt31H7myJEjDACTSCTs2bNnKueJjIxkw4cPZz4+PszW1pZVqVKF9ejRg+3YsYObR9PvrI0u3a9VHZeq9v2oqCgGgP3888+CvxMxHgljJcoiCSmHbt68iTfeeAMbN24sdVdtCaZMmYLVq1cjPj6eqyYhhJDygNrIkHInNze31LQlS5bAysoKbdu2NUFE+snLy8PGjRvRr18/SmIIIeUOtZEh5c6CBQtw7do1dOjQATY2Njhw4AAOHDiAsWPHluqKbM4SExNx9OhR7NixAy9fvsSnn35q6pAIIcToKJEh5U6rVq1w5MgR/Pjjj8jKykK1atUwa9asUt3Czd39+/cxdOhQeHl54bfffkOTJk1MHRIhhBgdtZEhhBBCiMWiNjKEEEIIsVhlvmpJJpMhNjYWLi4uBh/VlBBCCCHiYIwhMzMTfn5+sLJSX+5S5hOZ2NhYi2rASQghhJDXnj17hqpVq6p9v8wnMvKntT579ox74BkhhBBCzFtGRgb8/f2567g6ZT6RkVcnVaxYkRIZQgghxMJoaxZCjX0JIYQQYrEokSGEEEKIxaJEhhBCCCEWixIZQgghhFgsSmQIIYQQYrEokSGEEEKIxaJEhhBCCCEWixIZQgghhFgsSmQIIYQQYrFMmsgsX74cjRo14kbdbdmyJQ4cOMC9n5eXhwkTJqBy5cpwdnZGv379kJCQYMKICSGEEGJOTJrIVK1aFfPmzcO1a9dw9epVdOzYEe+99x7u3bsHAJgyZQr27NmD7du349SpU4iNjUXfvn1NGTIhhBBCzIiEMcZMHYQid3d3/Pzzz+jfvz88PT2xadMm9O/fHwAQHh6OevXq4cKFC3jrrbdUfj4/Px/5+fnca/lDp9LT0+lZS1oce5CA3Tde4H99GsLV0dbU4RBCCCnHMjIy4OrqqvX6bTZtZKRSKbZs2YLs7Gy0bNkS165dQ2FhITp37szNU7duXVSrVg0XLlxQu5y5c+fC1dWV+/P39zdG+GXC6HVXsfd2HBYfeWTqUAghhBBeTJ7I3LlzB87OzrC3t8e4ceOwe/duBAcHIz4+HnZ2dqhUqZLS/N7e3oiPj1e7vBkzZiA9PZ37e/bsmYG/QdmTmJln6hAIIYQQXmxMHUCdOnVw8+ZNpKenY8eOHRgxYgROnTql8/Ls7e1hb28vYoSEEEIIMVcmT2Ts7OwQFBQEAAgJCcGVK1fw66+/YuDAgSgoKEBaWppSqUxCQgJ8fHxMFC0hhBBCzInJq5ZKkslkyM/PR0hICGxtbXHs2DHuvYcPHyImJgYtW7Y0YYSEEEIIMRcmLZGZMWMGunfvjmrVqiEzMxObNm3CyZMncejQIbi6umL06NGYOnUq3N3dUbFiRUyaNAktW7ZU22OJEEIIIeWLSROZxMREDB8+HHFxcXB1dUWjRo1w6NAhdOnSBQCwePFiWFlZoV+/fsjPz0doaCiWLVtmypAJIYQQYkZMmsisXr1a4/sODg5YunQpli5daqSICACY18hChBBCiHpm10aGEEIIIYQvSmQIIYQQYrEokSGlSCSmjoAQQgjhhxIZQgghhFgsSmQIIYQQYrEokSGlUK8lQgghloISGUIIIYRYLEpkCCGEEGKxKJEhhBBCiMWiRIYQQgghFosSGUIIIYRYLEpkSCk0IB4hhBBLQYkMKYW6XxNCCLEUlMgQQgghxGJRIkMIIYQQi0WJDCGEEEIsFiUyhBBCCLFYlMgQQgghxGJRIkMIIYQQi0WJDCGEEEIsFiUyhBBCCLFYlMgQQgghxGJRIkMIIYQQi0WJDCGEEEIsFiUyhBBCCLFYlMgQQgghxGJRIkNKoadfE0IIsRSUyBBCCCHEYlEiQwghhBCLRYkMKUUiMXUEhBBCCD+UyBBCCCHEYlEiQwghhBCLRYkMKYV6LRFCCLEUlMgQQgghxGJRIkMIIYQQi0WJDCGEEEIsFiUyhBBCCLFYlMgQQgghxGKZNJGZO3cumjVrBhcXF3h5eaF37954+PCh0jzt27eHRCJR+hs3bpyJIi4faEA8QgghlkKURCYtLU2nz506dQoTJkzAxYsXceTIERQWFqJr167Izs5Wmm/MmDGIi4vj/hYsWCBC1EQd6n5NCCHEUtgI/cD8+fMRGBiIgQMHAgAGDBiAnTt3wsfHB/v370fjxo15L+vgwYNKr9euXQsvLy9cu3YNbdu25aZXqFABPj4+QkMlxCwUSWV4EJeJ+n4VYWVFxV2EECImwSUyK1asgL+/PwDgyJEjOHLkCA4cOIDu3btj+vTpegWTnp4OAHB3d1eaHhYWBg8PDzRo0AAzZsxATk6O2mXk5+cjIyND6Y9o9zgh09QhlFlf7LyNnn+cxaIjj0wdCiGElDmCS2Ti4+O5RGbv3r0YMGAAunbtisDAQLRo0ULnQGQyGT777DO0bt0aDRo04KYPGTIEAQEB8PPzw+3bt/Hll1/i4cOH2LVrl8rlzJ07F7Nnz9Y5jvLqwpOXpg6hzNp1/QUAYNnJCEwLrWPiaAghpGwRnMi4ubnh2bNn8Pf3x8GDBzFnzhwAAGMMUqlU50AmTJiAu3fv4uzZs0rTx44dy/2/YcOG8PX1RadOnRAZGYmaNWuWWs6MGTMwdepU7nVGRgaXeBFCCCGkbBGcyPTt2xdDhgxBrVq18PLlS3Tv3h0AcOPGDQQFBekUxMSJE7F3716cPn0aVatW1TivvNQnIiJCZSJjb28Pe3t7neIghBBCiGURnMgsXrwYgYGBePbsGRYsWABnZ2cAQFxcHMaPHy9oWYwxTJo0Cbt378bJkydRvXp1rZ+5efMmAMDX11do6IQQQggpYwQnMra2tpg2bVqp6VOmTBG88gkTJmDTpk34999/4eLigvj4eACAq6srHB0dERkZiU2bNuGdd95B5cqVcfv2bUyZMgVt27ZFo0aNBK+PEEIIIWWL4EQGACIjI7FkyRI8ePAAABAcHIzPPvsMNWrUELSc5cuXAyge9E7RmjVrMHLkSNjZ2eHo0aNYsmQJsrOz4e/vj379+uHbb7/VJWxCCCGElDGCE5lDhw6hV69eaNKkCVq3bg0AOHfuHIKDg7Fnzx506dKF97KYlpHX/P39cerUKaEhEkIIIaScEJzIfPXVV5gyZQrmzZtXavqXX34pKJEhhBBCCNGH4AHxHjx4gNGjR5eaPmrUKNy/f1+UoIjx0XizhBBCLJHgRMbT05PrOaTo5s2b8PLyEiMmQgghhBBeBFctjRkzBmPHjsWTJ0/QqlUrAMVtZObPn680EB0hhBBCiKEJTmS+++47uLi4YOHChZgxYwYAwM/PD7NmzcLkyZNFD5AYHwM9/poQQohlEJTIFBUVYdOmTRgyZAimTJmCzMziBw26uLgYJDhCCCGEEE0EtZGxsbHBuHHjkJeXB6A4gaEkhhBCCCGmIrixb/PmzXHjxg1DxELMhIT6MBFCCLEQgtvIjB8/Hp9//jmeP3+OkJAQODk5Kb1Pjw6wTNQqhhBCiCUSnMgMGjQIAJQa9kokEjDGIJFIIJVKxYuOEEIIIUQDwYlMVFSUIeIgJqZYmUS9lgghhFgKwYlMQECAIeIghBBCCBFMcCKzfv16je8PHz5c52AIIYQQQoQQnMh8+umnSq8LCwuRk5MDOzs7VKhQgRIZQgghhBiN4O7XqampSn9ZWVl4+PAh2rRpg82bNxsiRkIIIYQQlQQnMqrUqlUL8+bNK1VaQwghhBBiSKIkMkDxqL+xsbFiLY6YEA2IRwghxFIIbiPz33//Kb1mjCEuLg5//PEHWrduLVpgxHSo+zUhhBBLITiR6d27t9JriUQCT09PdOzYEQsXLhQrLmJsEiqFIYQQYnkEJzIymcwQcRBCCCGECCZaGxlCCCGEEGPjncgEBwcjJSWFez1+/HgkJydzrxMTE1GhQgVxoyOEEEII0YB3IhMeHo6ioiLu9caNG5GRkcG9ZowhLy9P3OgIIYQQQjTQuWqJsdI9WyTUYJQQQgghRkRtZEgxFYkpIYQQYu54JzISiaRUiQuVwBBCCCHElHh3v2aMoVOnTrCxKf5Ibm4uevbsCTs7OwBQaj9DLBAlpYQQQiwQ70Rm5syZSq/fe++9UvP069dP/4gIIYQQQnjSOZEhhBBCCDE1auxLCCGEEItFiQwhhBBCLBYlMqQU6olNCCHEUlAiQwghhBCLJUoik5aWJsZiCCGEEEIEEZzIzJ8/H1u3buVeDxgwAJUrV0aVKlVw69YtUYMjxqM4igwNKUMIIcRSCE5kVqxYAX9/fwDAkSNHcOTIERw4cADdu3fH9OnTRQ+QEEIIIUQd3uPIyMXHx3OJzN69ezFgwAB07doVgYGBaNGihegBEkIIIYSoI7hExs3NDc+ePQMAHDx4EJ07dwZQ/AgDqVQqbnTEJKjXEiGEEEshuESmb9++GDJkCGrVqoWXL1+ie/fuAIAbN24gKChI9AAJIYQQQtQRXCKzePFiTJw4EcHBwThy5AicnZ0BAHFxcRg/frygZc2dOxfNmjWDi4sLvLy80Lt3bzx8+FBpnry8PEyYMAGVK1eGs7Mz+vXrh4SEBKFhE0KI2br1LA0H78YjOjnb1KEQYnEEl8jY2tpi2rRppaZPmTJF8MpPnTqFCRMmoFmzZigqKsLXX3+Nrl274v79+3BycuKWu2/fPmzfvh2urq6YOHEi+vbti3PnzgleH1GPapMMT0LdwYgaq89G4b9bsfi+RzBGtalu6nAIsSiCExkAePz4MU6cOIHExETIZDKl977//nveyzl48KDS67Vr18LLywvXrl1D27ZtkZ6ejtWrV2PTpk3o2LEjAGDNmjWoV68eLl68iLfeeqvUMvPz85Gfn8+9zsjIEPLVCCGEmLmZ/96FnY0Vvnk32NShEDMgOJH5888/8cknn8DDwwM+Pj5Kd5kSiURQIlNSeno6AMDd3R0AcO3aNRQWFnINigGgbt26qFatGi5cuKAykZk7dy5mz56tcwzlFZUVGB6jVtSE6C0hIw/rLjwFAEzpUhsV7HS6HydliOA9YM6cOfjf//6HL7/8UtRAZDIZPvvsM7Ru3RoNGjQAUNzV287ODpUqVVKa19vbG/Hx8SqXM2PGDEydOpV7nZGRwXUXJ4QQYtkKpa9rAWR0b0CgQyKTmpqK999/X/RAJkyYgLt37+Ls2bN6Lcfe3h729vYiRUUIIYQQcya419L777+Pw4cPixrExIkTsXfvXpw4cQJVq1blpvv4+KCgoKDUs5wSEhLg4+MjagyEEEIsC1XXEkCHEpmgoCB89913uHjxIho2bAhbW1ul9ydPnsx7WYwxTJo0Cbt378bJkydRvbpya/2QkBDY2tri2LFj6NevHwDg4cOHiImJQcuWLYWGTgghhJAyRnAis2rVKjg7O+PUqVM4deqU0nsSiURQIjNhwgRs2rQJ//77L1xcXLh2L66urnB0dISrqytGjx6NqVOnwt3dHRUrVsSkSZPQsmVLlQ19CSGE8McYw7OUXPi7O1rk8ACWGDMRn+BEJioqSrSVL1++HADQvn17pelr1qzByJEjARQPwGdlZYV+/fohPz8foaGhWLZsmWgxEEJIefXL4YdYeiISn3aqhSldaps6HMGoaokAOo4jIyffiXTNivnshA4ODli6dCmWLl2q0zoIIYSotvREJADg12OPLSaRoVIYUpLgxr4AsH79ejRs2BCOjo5wdHREo0aNsGHDBrFjI0ZE5wZCiCWgUhhSkuASmUWLFuG7777DxIkT0bp1awDA2bNnMW7cOCQnJ+v0qAJiXug0QQixBFQ6QwAdEpnff/8dy5cvx/Dhw7lpvXr1Qv369TFr1ixKZAghREd0EyEMlc4QQIeqpbi4OLRq1arU9FatWiEuLk6UoIhp0T0OIcZFBQv8USkMKUlwIhMUFIRt27aVmr5161bUqlVLlKAIIYQQQvgQXLU0e/ZsDBw4EKdPn+bayJw7dw7Hjh1TmeAQQgghhBiK4BKZfv364dKlS/Dw8MA///yDf/75Bx4eHrh8+TL69OljiBiJEVBVs+FRkTghhIhPp3FkQkJCsHHjRrFjIYQQQggRhFcik5GRgYoVK3L/10Q+H7EsioUFVDhjGNTDghBx0RFFAJ6JjJubG+Li4uDl5YVKlSqpLCJnjEEikUAqlYoeJCGEEEKIKrwSmePHj8Pd3R0AcOLECYMGRAghhPBBrc4IwDORadeuncr/E0IIIYSYEq9E5vbt27wX2KhRI52DIeaB7nIIIeZK8fxEbWQIwDORadKkCSQSidbGitRGhhBCCCHGxCuRiYqKMnQcxIzQXQ4hxFzR+YmUxCuRCQgIMHQchBBS7lEXfUKE45XI/Pfff7wX2KtXL52DIYSQ8ojapfFH24qUxCuR6d27N6+FURsZyyWh0wMhhBALxCuRkclkho6DEEIIIUQwwQ+NJIQQQggxF7xKZH777TeMHTsWDg4O+O233zTOO3nyZFECI4QQQgjRhlcis3jxYgwdOhQODg5YvHix2vkkEgklMhaKUadGQgghFkjwODI0pgwhulH1sFVCiO6otzoBqI0MIYQQIopCqQyDVl3A3AMPTB1KucKrRAYAfvjhB17zff/99zoHQwghhFiqYw8ScfFJCi4+ScGM7vVMHU65wTuRmTVrFvz8/ODl5aV29EmJREKJjIWicWQMj0ZtJUR/EjN+amShlIYqMQXeiUz37t1x/PhxNG3aFKNGjUKPHj1gZUU1U4QQQggxHd6ZyL59+xAZGYkWLVpg+vTpqFKlCr788ks8fPjQkPERQgghHCrYJCUJKlLx8/PDjBkz8PDhQ2zduhWJiYlo1qwZWrdujdzcXEPFWKYsOvIIH6y+hBMPE00dilp0oiCEWAIaNoIAevRaatasGTp06IB69erhxo0bKCwsFDOuMut+bAbOPE5GQnqeqUMhhJgJ6prPnzlvKnOOrSwTnMhcuHABY8aMgY+PD37//XeMGDECsbGxqFixoiHiIyZAByMh+olLz0VWfpGpwyCkXODd2HfBggVYu3YtkpOTMXToUJw5cwaNGjUyZGyEEGJx4tJz0XLucdhaS/D4f++YOhxCyjzeicxXX32FatWqYcCAAZBIJFi7dq3K+RYtWiRWbIQQYnEuR6UAAAql1H7D0Kg9HwEEJDJt27aFRCLBvXv31M5D9byWi346Qgghloh3InPy5EkDhkEIIYQQIhyNaEdKoeJaQoi5UhyFnE5VBKBEhhBCiAWhsWNISZTIEABUCkMIIcQymTSROX36NHr27Ak/Pz9IJBL8888/Su+PHDkSEolE6a9bt26mCVZklDeUP9QYnhD9KVUt0R0YgYkTmezsbDRu3BhLly5VO0+3bt0QFxfH/W3evNmIEZZPdL0lhBDhFJMsYjy8ey0pSktLw+XLl5GYmAiZTPmx5cOHD+e9nO7du6N79+4a57G3t4ePj48uYZolShLKj+sxqXj6MtvUYRBSplAbGVKS4ERmz549GDp0KLKyslCxYkWl4nKJRCIokeHj5MmT8PLygpubGzp27Ig5c+agcuXKaufPz89Hfn4+9zojI0PUeMoqxQSLSmvFsf3qM2y+/Ix7TcXgRBtj7iJ3X6Qbb2WEGJDgqqXPP/8co0aNQlZWFtLS0pCamsr9paSkiBpct27dsH79ehw7dgzz58/HqVOn0L17d0ilUrWfmTt3LlxdXbk/f39/UWMihBCxmaKgtsfvZ02wVv1R92tSkuASmRcvXmDy5MmoUKGCIeJRMmjQIO7/DRs2RKNGjVCzZk2cPHkSnTp1UvmZGTNmYOrUqdzrjIwMSmYIIYSQMkpwiUxoaCiuXr1qiFi0qlGjBjw8PBAREaF2Hnt7e1SsWFHpjxBCSNlAbWRISYJLZN59911Mnz4d9+/fR8OGDWFra6v0fq9evUQLrqTnz5/j5cuX8PX1Ndg6SPl0PiIZVdwcEVDZSbRlUpMYQgyLjjEC6JDIjBkzBgDwww8/lHpPIpFobL9SUlZWllLpSlRUFG7evAl3d3e4u7tj9uzZ6NevH3x8fBAZGYkvvvgCQUFBCA0NFRo2IWrdfZGOIX9dAgBEz3vXxNEQQggRQnAiU7K7tT6uXr2KDh06cK/lbVtGjBiB5cuX4/bt21i3bh3S0tLg5+eHrl274scff4S9vb1oMRByh3pvEEKIxdJpHBmxtG/fXmOX1EOHDhkxGkIIIZaE2ssQgGci89tvv2Hs2LFwcHDAb7/9pnHeyZMnixJYWWdudbs0Th8hxBKY27lTEQ14ahq8EpnFixdj6NChcHBwwOLFi9XOJ5FIKJEhFsdQ5x5zPuESQkhZwSuRiYqKUvl/QgghxGToZoHAxA+NLI+o5NH8UHEwIYRYLkpkCAC6sTEGCWVMhOiNzlWkJEpkSLknoXIyYiaoFw4hwlEiQ1Sgk6kY6KJEeKNcWifl7Qg7ej8BZx8nmzoMs2PScWQIIYQQol1yVj4+Wl/8nMOoue9QVbUCnUpkzpw5g2HDhqFly5Z48eIFAGDDhg04e9YyHwtPSt4Q0gFCCCHmJC2nwNQhmC3BiczOnTsRGhoKR0dH3LhxA/n5+QCA9PR0/PTTT6IHSEhZoWkUa0IIP4rHER1SBNAhkZkzZw5WrFiBP//8U+nJ161bt8b169dFDY4Qo6ACKEKICOhUYhqCE5mHDx+ibdu2paa7uroiLS1NjJjKBWoIWvbR3SIhhBie4Ma+Pj4+iIiIQGBgoNL0s2fPokaNGmLFRYjR0F0UIZapPNwQFkpl+HTLDbg72Zk6FLMluERmzJgx+PTTT3Hp0iVIJBLExsYiLCwM06ZNwyeffGKIGInRlf2Tg6XKzCvE/jtxyC2QmjoUQkyivJV07rsdh/134rHxYoypQzFbgktkvvrqK8hkMnTq1Ak5OTlo27Yt7O3tMW3aNEyaNMkQMZYp1GOO6GPCphs4/SgJfd+sgkUDmpg6HEKIgWXmF5k6BLMnuERGIpHgm2++QUpKCu7evYuLFy8iKSkJP/74oyHiI8TgLGk8htOPkgAAu66/MHEkhBBTKW+lUtroPCCenZ0dgoODxYyFkDKFzjWEGBZd0AmgQyLToUMHjXewx48f1ysgYhrKP6nllFAQQggp3wQnMk2aNFF6XVhYiJs3b+Lu3bsYMWKEWHERQki5QyUMhAgnOJFZvHixyumzZs1CVlaW3gERc0BnU0KMiZ7ArhtzO1NZUHO7MkW0p18PGzYMf//9t1iLI0ZWnu8EjXXusaRGxYQQYilES2QuXLgABwcHsRZX5pXnxMGcifk8JBn9yIQQYnCCq5b69u2r9Joxhri4OFy9ehXfffedaIERYiyKBSXnI1+idZCHKMs9EZ4oynIIIa8p3h+U1wexls9vrZ7gRMbV1VXptZWVFerUqYMffvgBXbt2FS0wQkwhOStftGWl5hSKtixiOcrptZUQkxGcyKxZs8YQcRBiMtR0hRBCLJdobWQIP+baO4Eu5oSIg44lQoyLV4mMm5sb7x4XKSkpegVESFlVXuvzzd25iGT8e/MFvu0RjIoOtnovj35mw1J84nV52NaUF2vHK5FZsmSJgcMghBDTGPrXJQBABTsbzOpV38TREEKE4pXI0Ii9hJRdd1+kY9XpJ5geWgf+7hVMHY7JPE/NFWU5VLVEiHHp/NBIAMjLy0NBQYHStIoVK+oVECHGZq7tloylx+9nAQBRydnYM6mNiaMhxJKV73OJqQhu7JudnY2JEyfCy8sLTk5OcHNzU/ojhFimJ0nl/REj4jS4KA/tNkyJti+1tytJcCLzxRdf4Pjx41i+fDns7e3x119/Yfbs2fDz88P69esNESMhhJQLdHkiRDjBVUt79uzB+vXr0b59e3z44Yd4++23ERQUhICAAISFhWHo0KGGiLPMoROW+aA2DURMuuxPtA/qhgomCKBDiUxKSgpq1KgBoLg9jLy7dZs2bXD69GlxoyNGo9hOhE4O5VN5f6ilWPs9HT+EGJfgRKZGjRqIiooCANStWxfbtm0DUFxSU6lSJVGDI8TY6CJECCGWRXAi8+GHH+LWrVsAgK+++gpLly6Fg4MDpkyZgunTp4seIDG+cn5jTkSSVyiFTGY5maFY+z0dP4ZlOXsUMRbebWSmTZuGjz76CFOmTOGmde7cGeHh4bh27RqCgoLQqFEjgwRJDI/R6cHgzL3qRszoUrML8MaPRxAS4Iadn7QSccnmrzyX6q08FYnbz9Px2+A3YG1l+P2dzlsEEFAi8++//6J+/fpo1aoV/v77b2RnZwMAAgIC0LdvX0pieDLzaxkpx8S8JBwLTwQAXHuaKuJSDas8JyBimXsgHPvuxOHogwRTh1Km0a6qjHci8/jxY5w4cQK1a9fGp59+Ch8fH4waNQrnz583ZHyEEFJmXYlOwYRN15GQkWfqUESVWyA1dQikHBHURqZt27ZYu3Yt4uPj8euvv+Lx48do06YN6tWrh19++QUJCcKy8NOnT6Nnz57w8/ODRCLBP//8o/Q+Ywzff/89fH194ejoiM6dO+Px48eC1kGINopVPjkFUpx+lIRCqcyEEZlGeS8sfJKcbfR1vr/iAvbdjsOZx8lGX7chGbLKR3EwOHMrRaMSd9MQ3NgXAJycnDBq1CicOXMGjx49Qt++fTF37lxUq1ZN0HKys7PRuHFjLF26VOX7CxYswG+//YYVK1bg0qVLcHJyQmhoKPLyytbdi7kxt5ODMX29+w6G/30Zvxx6aOpQiAZz9t7HhE3XRR3hNMoEiQwhRH86JTJy2dnZOHPmDE6dOoXU1FRufBm+unfvjjlz5qBPnz6l3mOMYcmSJfj222/x3nvvoVGjRli/fj1iY2NLldwoys/PR0ZGhtIf0a48P29I1TffdCnG6HGUJftuxxp0+X+djcK+23G4H0fHN1DcyPatn46ZTQJenm+GiPHplMicPXsWo0aNgq+vLyZPnozatWvjzJkzePDggWiBRUVFIT4+Hp07d+amubq6okWLFrhw4YLaz82dOxeurq7cn7+/v2gxEaIPs38+ioi57ImHSeItTIMiqZlvUyPJyi9CfEYeMvMKTR2KUdGvTwABiUxcXBzmzZuHunXrom3btggPD8eiRYsQFxeHv//+G61btxY1sPj4eACAt7e30nRvb2/uPVVmzJiB9PR07u/Zs2eixiUac7+oEWIB6CgihPAeR8bf3x+VK1fGBx98gNGjR6NevXqGjEtn9vb2sLe3N3UYFo0arNEFkpiGrvc35em+qBx9VcIT70Rm27Zt6NWrF2xsBD9nUic+Pj4AgISEBPj6+nLTExIS0KRJE6PEQAghlsTcB10s6wyx9VX9pLomrrkFUlx7morm1d1hZ6NXE1mzwvub9O3b12hJDABUr14dPj4+OHbsGDctIyMDly5dQsuWLY0WByn76NxPiLiMVUJkbu3OzD2R/HTLDQxbfQnzDoSbOhRRmTQly8rKws2bN3Hz5k0AxQ18b968iZiYGEgkEnz22WeYM2cO/vvvP9y5cwfDhw+Hn58fevfubcqwyzwzOzcQopa5XcgM7fbzNCRl5peaTkP1mwfzTmOAw/eLx3r7+1yUiSMRl/GKWFS4evUqOnTowL2eOnUqAGDEiBFYu3YtvvjiC2RnZ2Ps2LFIS0tDmzZtcPDgQTg4OJgqZL2ZecJeLpXnrueKaCuYt9vP09Drj3MAgOh575o4Gs0MmVaZY+56IyYVyVkFiEvPNXUo5ZJJE5n27dtrvKOSSCT44Ycf8MMPPxgxqnKKrmLEApnhNc1gLkS+NHUIZsdcfv8/jkfgWHgiWlR356YVSWWwsS477VDMmeCtPGrUKGRmZpaanp2djVGjRokSFCGmVt6qLAgRU3m9L7oUlcL9f8ifl0wYSfkiOJFZt24dcnNLF5/l5uZi/fr1ogRFTKAcX7epuq+YuTdUVMXyItZs/sFwLDgovCGmueXdJcORyRi2X32GyKQsk8Sji32349Dip6OlnuD+PDUHgV/tQ93vDnDTVB06l6NTSk8kBsE7kcnIyEB6ejoYY8jMzFR6BEBqair2798PLy8vQ8ZKiEUz90TBUKVQ3/1zF5svG+aRD2Z2/TY5c93Fdlx7juk7bqPTwlMiLM04D40sfip5Pj5ad8VwKyGi4N1GplKlSpBIJJBIJKhdu3ap9yUSCWbPni1qcGVZeTwB332RjgdxGegfUtWsLurmE0nZtOHiUwDA4ObCHipLLFfJpPh6TKqaOU3rQuRLFMlkeLuWp9p5zPExGNRLTRnvRObEiRNgjKFjx47YuXMn3N1fN2qys7NDQEAA/Pz8DBIkKRt6/H4WAODhYo8Odcyn9I5OCcX4JJcnHibi9KMkzOhezywG1DK3KhVTMcZmyC2QwtHO2ghrMo5CqQyD/7wIALg1sytcHW31WBrdDpkS70SmXbt2AIrHeqlWrZpZ3VETy/IoPtOsEhnC34driovZA9wrYGTr6iaOhpRkqKEENl2Kwde77+CX9xujf0hVrfOXTKzMMeEslMq4/2fmFeqZyBBTEnxLFRAQgLNnz2LYsGFo1aoVXrx4AQDYsGEDzp49K3qAhBgapeTCzdpz39QhECP6evcdAMC07bdMHElJxs+QVCVldF9vWoITmZ07dyI0NBSOjo64fv068vOLR5lMT0/HTz/9JHqAxEjoQFRihjeQBkcnY/NgjN8hOav06MCWQqzSHX2XQwNpmg/BicycOXOwYsUK/Pnnn7C1fV0U17p1a1y/fl3U4AgxBku9gM8/GI75B8OVisjLn/KYcpYmvyjz3ZdnU4maEn2bSljKKcTKUgIVSHAi8/DhQ7Rt27bUdFdXV6SlpYkRU5lGWXz5JXb35uUnI7H8ZCSkMrqYE2Gep+aYOgRRiFc6Uz6OobI60rDgb+Xj44OIiIhS08+ePYsaNWqIEhQxrfJxSCsqnVyaIt3ML5KaYK2kPDL4/v3qJFJQJENaToGh12ZUBSpKQI1dqqtr3mVTRotkBCcyY8aMwaeffopLly5BIpEgNjYWYWFhmDZtGj755BNDxEjKGEtIlIwd46z/7qHOtwdxPzbDyGsmYjPFGB/mOq5I6JLTaPLDEcRl5Im2TEN8U75VSwfuxIk0qJ9plNVERvBDI7/66ivIZDJ06tQJOTk5aNu2Lezt7TFt2jRMmjTJEDESIyubu7p5W3s+GgCw5OgjrBre1LTBlGMj11zGmpHNRBtegjFm1KEqzO3YjUrOBgCcfpRkkOXrk9To8tlPwiy7HWhZrVoSnMgUFRXhm2++wfTp0xEREYGsrCwEBwfD2dkZycnJ8PDwMESchBA1xKreN7eLoDqJCnf3YjdtOPkwCflFMjjY6j7wm77t4IzRjo7GAVOmy9ZQ3ISW0vbRuoyWyAhOzwYNGgTGGOzs7BAcHIzmzZvD2dkZCQkJaN++vQFCLJvKSdsyi0W/j/kaucawz77R9xpvrtU8xmRp20BjtCa+9ouZJNlSIlMsJiYGH330kdK0uLg4tG/fHnXr1hUtMGJcZXP35secbk4t6/RvGvfjLKcdkdESYoHdr/XZ5RcefohzEcl6LEE3e27Fcs/tKmnBwXBM2nwDD0y0b5jTOUSTslq1JPhb7d+/H+fPn8fUqVMBALGxsWjfvj0aNmyIbdu2iR4gIaZgKScmMVF1gzhMXc0Qm5aLEX9fxsmHiQZZ/u/HIzD0r0sa58kvEn9so0mbb+C7f+7iWcrrruPyRPHkwyTsuRWLxEzdBvorL3s+NfZ9xdPTE4cPH0abNm0AAHv37sWbb76JsLAwWFmVzWyvPGBq/m8IZfNQ0o5PomDKbWOJY2mYY8R8q1ViXhpmLJevdt3B6UdJOPUoCdHz3lU5j6Fz1sVHHmF4y0CDLDs9t7DUNFPn4KZeP19ltY2M4EQGAPz9/XHkyBG8/fbb6NKlCzZs2EB3c8RiqdpzLemabmntEUix8ZuuCZpf0ymWcfNIlBpDi+G8DtVIqTmlkw2xaNwOAg7czDzDxWiuymrVEq9Exs3NTWWikpOTgz179qBy5crctJSUFPGiI6ScMWVKUt5uRvIKpfhm991S08VMYjUtSl2JjKqf4fC9ePy0P1ycoAT671asSdarjmLVnTyJ12XX/fnQQz3jUB2T2LLyxUu4ynXV0pIlSwwcBiGmU94u4IbAGENCRj58XB1MHQpvq89GYef156Iv1xAXtbEbhJXe6ELsMW/i08UtGZLTVAIpJAd9kpStfzBGIGYCa2NdNs91vBKZESNGACgeQ2bTpk0IDQ2Ft7e3QQMrs8rmfkTKuT+OR2DhkUeYHloHEzoEGW29+pSeqKuCKa/dr+/HZaC+n2up6bpu47fmHtMzIsUYNAfBJY8CYhX1V7KQ83pZLZERVGFmY2ODcePGIS/PMJk2MQ+G3tXN7TRvToe2LrGYw4B4C488AqB/cb05ELVqyUCNrUomYfL18P0NVZUaRZpxCYXiZlSqWhLY7Vyd8lIoa1NGO+QI/lbNmzfHjRs3DBELISZhTomVKWN5mV2AL3bcQk5BkQmjsHzG6H7d/CfxSjvkvtl1R+V0c7jIKx4Xmhs963YEmar9kbGV66olRePHj8fnn3+O58+fIyQkBE5OTkrvN2rUSLTgyjJz6+qquHubV2TEmLZdfQ7vig74vGsdU4diMuWiaknFd8zMV53AmsOpSnvVknw+3Za/51YsRrYKREiAm06ft5T0QLH7tbGfA2ZIghOZQYMGAQAmT57MTZNIJNxGkUql4kVHRBGfnofIpCy4O9mhnm9FU4ejN8YYIpOyUd3DSZRxEVR2vzbAxcjckld1nqfmmjoElfIKpUgQuWuxOdKrelFSNhuvG+PI6bf8vNpxd1QxxnaWylR/c11PJYpVS4VSBjsb/b/Dvzdf4ElSNroEe6NBldJtrIxBcCITFRVliDiIAR0PT8TXu++ga7B3mXiy8l9novC//Q/wfkhV/Px+Y1OHU+YUqTl5mlqP388iIjFLaZohkkNjdb82FH22SX6RFPY2uj8w01DUfaXXCZxE43yCFqoDQyU1f58V93prq1C1VCSTwU5465JS/r0Zi+PhiXCrYGs5iUxAQIAh4iCEtyVHixuWbr/2XJRExtJvYMW+WEpl4g8vL4aSSYy+ymLJhb4uRL5E+zpepg6jFG0lpGX1l9xxTdzhARRLsMW6Ybn7Ih0ATJbEADqO7AsA9+/fR0xMDAoKCpSm9+rVS++gCCGmY6Z5jOgspaqPj9c1SxK9ErTNl2PMMpHhy1S/qKUkUordr4uk+m+txIw8JGbmQyIBgv1M12xBcCLz5MkT9OnTB3fu3OHaxgCv726ojQwpy/KLpNh9/QXa1vaEXyVHU4dDzNy07beweEATWJnZ+B3qolHV48ocGi8rdb9WSNRKjuxblpJToPh8IyYrpURG/zuWu7HFpTE1PZ1RwU7nchG9Ca4g+/TTT1G9enUkJiaiQoUKuHfvHk6fPo2mTZvi5MmTBgiRiIXvIR6TkoO4dPNs8GkIQm5gfz8Wga923UHo4tMa5yvU8SRRxs7DBqfP5jJG1dK/N2NxwkBPoSbqSWUMN5+l6XwcCmWIXalIKkO02A8WVThgxKhauvM8AwDQ0ITVSoAOicyFCxfwww8/wMPDA1ZWVrCyskKbNm0wd+5cpZ5MxHwIPcgiErPQcu5xwwRjIdQlFKcfJwFQ31VVLrew9J2UmbahJQaWpWVfKcUICZalNQ/SluBz3a9f/bvw8EP0XnoOX+64rfe6M/OKkKfieFbchIZ43MGe24Z9xpUYVUvyEpn6JqxWAnRIZKRSKVxcXAAAHh4eiI0t3tgBAQF4+NDyR/U0NHM9f1DDR/Ogy88gdnH6wXvxyBZ68S1DxC4VU7c8MY85+TqkMhni9ShNNdfTgGL1ltKYV9zIvsq9lpadjAQA7LrxQpT1a3vcQlJmvijrUZSabdincxeK0BhO3tDX1CUygiu1GjRogFu3bqF69epo0aIFFixYADs7O6xatQo1atQwRIzECFRdDMvSgEnGZulbTUp1XAZniPYcf54pm8NjGGJ3FLLItJxCnI9MFj8IHenabknxU/qWyCRn5SPu1YNB61ta1dK3334L2atM7ocffkBUVBTefvtt7N+/H7/99pvoARLxCD0Z/Lj3gWECMTOGGFJe1wSQ8gdCStN2WCg2/wUMU7I05M9L6tdvgXcuRXqWyMhLY2p4OMHZ3nQNfQEdSmRCQ0O5/wcFBSE8PBwpKSlwc3Oju3cBjHm90vVX2XXjOb7vGSxqLOWFpR8Jj+Iz0TTQ3dRhaGWYO3VxF2qMXj9ircNcT+EXIl+aOgSjM/RvoW+JzL3Y4oa+phw/Rk6UR2G6u7tTEkOIAks/HB7EZ5o6BGJAxniwpZjGrL/K/V/VsfW6+zW/5eUXSct96ae+JTJ3nssHwjP9Y294l8iMGjWK13x///23zsEQYhICzumGPv3r1NhX/DCIEai7+bOsFMP4VCVh8ml8joUbManos+y8GIGo+q9oDLFMxXZZ+pbIyHssWVSJzNq1a3HixAmkpaUhNTVV7Z+YZs2aBYlEovRXt25dUddRvgjbcc31hKp4ARj2l/p6a32o21J8t6Cud7xmc5doNoGYj4N34zBq7RWkZBdon1mB+ucEWcY2tpAweZt7INxo6zLnh5zqM45ManYB93DZ+n6mT2R4l8h88skn2Lx5M6KiovDhhx9i2LBhcHc3fB16/fr1cfToUe61jY1pGxVZIkuv5ihJ8QKQnKV/t0eD3E2VsW1urgzzlHLV08dtvA4A+PlQOOb2bST6evUhVrJhCVVO03fc4v6v+NRvpdcKMvIKUdHBlnttzG+46/oLfNK+phHXyJ8+gwXK28cEVK4AV0dbLXMbHu8SmaVLlyIuLg5ffPEF9uzZA39/fwwYMACHDh0y6J2FjY0NfHx8uD8PDw+Dras8U1XMXZ7bPRUUqT7IDbFF7r86KZgTPkf0+gvRSNTxjvNxQiYuR6Xo9FlTkCncvb7MEqdExpSEHNrmdhrIKdA8OF3J141mHcbTl+IPWGdoms6/sWn6l/ToU7V0R/6gSDMojQEENva1t7fH4MGDceTIEdy/fx/169fH+PHjERgYiKwscZ9MK/f48WP4+fmhRo0aGDp0KGJiYjTOn5+fj4yMDKU/QjQxdcJ28Yll9sj4/t97eJaq2+BrXRafxoCVF/AsRc8h2I2UJHy88ZrOn91/J07ESMTxVMDQ9+aYiKmjroRut0gD45kLXQsPlMaR0aNqyZzaxwB69FqysrLiHhppqAdFtmjRAmvXrsXBgwexfPlybsyazEz1PSrmzp0LV1dX7s/f398gsRHTUUw8xEhCDFGiKCQsfdduSReakqLN8E5Z1eY8cj9B5+UdC09ETkHpkZJNmUCn56oZNdZIIf169DHeW3pO5XYRovRDI4HYtFyNjwMRa7ObWUGVYPr0WpKPIWMOPZYAgYlMfn4+Nm/ejC5duqB27dq4c+cO/vjjD8TExMDZ2Vn04Lp37473338fjRo1QmhoKPbv34+0tDRs27ZN7WdmzJiB9PR07u/Zs2eix2UKkUlZWHkqEntu6f78DUu+4CmyhEaSltDWQChDbfdtV5/harTlVDPpIr+w9EVD3fY0Rn5j6r1z8dFHuPUsDQsPP8KBO3Gi7Vt3XqSj1TzNz4l7EGe8oQUMNYaQGPuIrlVL6bmFXImeuVQt8W45O378eGzZsgX+/v4YNWoUNm/ebPT2KpUqVULt2rURERGhdh57e3vY29sbMSphdL0LexCXgbkHwtGiujt6NvYTtk6Tn7bMmyHujM2tXYFQfK8r+n7PK9Gp+O3YYwBA9Lx39VuYQKb+jTLyyu/zrORWn43C6rNR+HVQE7zXpIrOy5Gf4/hUIaktjdKDpZxDFI9rXauW7r2qVqpSyRFuTnZihKU33onMihUrUK1aNdSoUQOnTp3CqVOnVM63a9cu0YIrKSsrC5GRkfjggw8Mtg6xSWUMK04VP8BsdJvqOi9Hvs9ZGfHsa+HXYouhfDdqHqVNxir1ik42XdWSpXSLjk833y68YrkclaJTIvP6oZHKr82F4W4i9V9ukY69lu69KG53auoHRSrincgMHz7c6HW606ZNQ8+ePREQEIDY2FjMnDkT1tbWGDx4sFHj0EeRTIafDxU/FfyDlgHcdKEHnLzXhLUVpRdKbWTEWJ4IyzDGMtUys5M3EdeMXbe1ziM4+VKzg6qabIzdS7x1qF6SqRIcYzyeAgDScop70lV0sIUVz2tEoY4lMnfMrH0MICCRWbt2rQHDUO358+cYPHgwXr58CU9PT7Rp0wYXL16Ep6en0WPRleIBpM/FTfpqp+O7k6qMReD8pi56V0fxpB2RmIXnqTmo6lbBhBGVpnvSb6YbHaovBvpGa8p9TNd1azqO8gqlmLL1loY5hHuRplvPME3UfXVT9+DTlbmWyOhD0y9R8md648cjYAy4/E0neLk48Fq+riUy5tZjCdDhoZHGtGXLFlOHICp9ThLSV0eotS6L4PEZyzx9AQVSGb7ceRthH71l6lCUGHN7/nfrBT5oGSjqMi3lemCIOPVZ5qrTT1ROFzRuS4m9xxAXZyHnIlOdGyISM+FXyRGOttZ6L0tmkJ6J2reMsRIrvuuRKswo1aFEJiu/CFGvqoPNKZER5aGRRD2xSmTkpRCGqlqylAuXIQjKLw1+xyr8l5BXXRLj0LQHRCaJP54Wnz3CkMevUaqWSqzkQuRLdF50Gl0WnUad7w6q/9yrf7U9a+n34+o7iBiSsdtbaWuTk5T5eiT0Qh16Ld2PzQBjgK+rAzyczadTjVmXyJQFinWk+jTUlZcCGrfo1zzLaYRsg5dZ+dhzKxa936iCShVEaGHP88QkaBwZPc91pqwOULXua0/5d6XWN3JTVCWYU9IfmZSFpccjsEvggG/m1qBZbsHBcDC8buDMt1rtddWSab6XujjNbTMrNhzXpWpJ3j7GHJ6vpIgSGQNTLL3T53rzumpJjzYy5nZU6ajk99B0FzJ2wzVce5qKEw+TsG5Uc0OH9jomY/YuU7Gq6ORsfLr1Jtwq2GLth8K/t6pdhe/ek5ih//OvjEHfp/+qou4Q06f3iqbj9unLbEFJzJXoFHy7+67art+mS4mLv+Oyk8U9PEPre+uxFPOhVzwaziHq2zhpiIUx5URGh6qle68SGXPqsQRQImNwYiUP+vRa0rnZqXkWyAhy7WnxE9lPPUoSZ4EG2CjKPRvEWX5uoRS3nqXB08V8in/1oc8D7tS5+SxN5XRth6yxDwtN4WiLNSu/CDZWEji8ameSlV+EhwnCBoQzxROc+Z42S55fze1ezRjx8L3GpGQXoEDhONJlZF9z7LEEUBsZg1O6ROlxBpQ3VtOn11JZUbK0Q9/cwrwGDBR+5lPZZdZIJ3T9ey3xW8K689F6rqk0XbvGGv1aqccKG8w8hK933+Fea9vaqlal6iGNhqLvsWxupc6GG9lX9YbStPniSoxHJLREMqegiGsDRiUy5YxyY1992si8SmTM6ZpLRGHINjLq3olLz8XHG66p7RGiT0hRBnh+0v041Q9/1edCocejZgzKkO2rtCWOpjq/lPwewoeKMH7gfFapz7HN9xvxXUfJgRWFNvZ9EJcBGQM8XezhVZFfF29joRIZQyvRRkbXw00mQhsZocw1Z+J716VL90JLpHoQM83fvaBIhtvP03EvVnWCoLqUh9/2XHCQfy8qvlVGhrjRVtcl979bsfj+37s4+TBR5fuajgu1YepxMGmsWtJ9sfzXb4JSDt5VS6/+lZR4rYpUxvR6Vp0u1MWTkl2AsEtPkZGn2+MSdBkHKK5EFaFUYCZ/1wxH9JWjRMbAFC8oEqXpwsjP94YaEM9ckxZ98B07wtLbAmmKX9t3U3eR4rt/Ctl25yOSS03bezuO12fVxamuJ6BMxvDRuquYu/8B/wBfuRCZjPUXnuLO83TVsQheouHwSTIUS4K1Vi2pWNz1mDRhQelB70NRw+bYeuUZJm2+oe8ahFHz+3y49gq+2X0X07frP3gi3xZ28enKPauEjuzLtY/xM6/2MQAlMganVLWkxxVTnxIZXddrqAu82FUpZx4nI6egdC8MM6suV0v/MEv/UNobrGr+cXPyDfBAQy37085rz9W+p+6cqy6RuRydgqMPErBSzQB1xctUk8S9mizm/i/v7aELTcmK8CoYncMwKPlXlP/ORx8kCPo81/1awzxnI4Q1+K/q5ihoflVUxSOVMdx61dD80D1h31Mf8jYyLvbFLUqEdr++yzX0pRKZckdxR9an/lnGPaJAv3jKqmUnInX+rJme23nTWCKj5dtJ1Vwkfzv+WJ+QdIrlcw13p+qSDhs1Q10XFGk/SatLjuTr0qVBpTqPE3UfKE/XpxTLKX4Nbb+BuSY6fGVpSMCFtonq+2ZVPaNRfUMxYOUFXp/l+1soJrqaPiNvI1PVvfhxLkL2q7xCKbcPUyJTDsmUdjL9H1FgzKdfW5J4E3QRFYveJVS6fObVh/IKVZ/dVTUEVBWmkAbs+uy66raRXjcHahaq7fxu7IK+56nqB4UTu9TRUkox5bjSMz7zCvzlxDjTXo4qPTikfEgIfehyLMkTGf9XJU1Cei2Fx2dCKmOo7GQHX1fzaugLUCJjcGKdGMR4+rWlnaTU0XTXpchYT55VJS5dtwf9HX2guoGpJpqS2+z8Ivx8KBwP1PT6MSZ9knAhv2VmXiF+Oay9wbG648HUXXjTcwux4GA4IhL5jPci8OKsrc2UoKXpZurWmyrWq9+aTzzUXm0kpGDr2tMU/HpMc6kkn735cnQKMvIK8fOhcITHaz4GX2blY/7BcO5ZRnwpt5FRHRVjjKtakj9gV8g4MtyIvlVczfLBopTIGJj8ANX3t5cfhLpcDMxttzPD40B0Gbn825joexJXtT3l1+LM/CIsPRGJ7r+e0WsdgP7jifD53TPV9OIoKNLcnkXR3APhuK2moa7yZ1UvU97bTV28R+6rb9cgRhK0+mwUlp2MROdFp7XOy2d1EjX/NxWhj1MQi5DfJiYlR7T1/rTvAZaeiES3JaqPwZvP0pCZV4jpO25j+clI9Pr9LADNpZ1Ch/LIyC1CbmHx8Stv+yOk+/Xd5/IRfc2voS9AiYzhCSj61MQUVUvmNVCccIrnLVdHW8Gfz9ajwauQ5OQfE53Yhdp1vXRjXGFPddau4azD2Hjxaanp+UX8k6i7PBvWqrtDl3LHrHj7v6FKeQQv1bIPaRX4bwEhP4GYv722pLr30nPo+ftZXI0urobKFHjeYcpFMirFviohdneyg/Orxr5Chqe4GyvvsWR+7WMASmQMjhvnQM8E5HXVkp4BlVN1vF3Uv6nmp1l9Nkrn9Qk5aT5KMMQTkzUHoMvuqO+zifiu89t/7paaprYaSI941LWRkY+vocs2Ejtd2XQpRu9lXI/Rv02GoRmjNo/vcAyAuKXGfJYV/bJ0CZDQnluayNvH+FR04Jon8B3DKb9IikevHmthjg19AUpkDE5IYzRNuJF9DTWOjIrFmqIK6MTDRBy5n6CyO7U+dHmuiLYSmS2X9b/IiMFYpXT6tznSf/gBMdfST02vFK5qifcaFagJU9cbGcXHC5SUU1DEKwGITCpuc7HvdhwmhF3XOG+uyMedObG08TGPh/NrL6c0Vpma3UzePsbX1YHr6cf3xuRRfBYKpQyujraidEk3BEpkDEysNjL6PP3a0ENpi2lC2HWMWX8VyZkFKt/XtYhe0zGrrhhZVdKoOOWrXXfUFs/qsz3FqIbQOo4Mj50iLj0X5yOSMXb9VfympeEjH/r0MBKyneUXbm08nO1UTpfnvLocs8YcTXry5puCksvHiZlIzdE8kuzRB4m8uq6bC/nvb2ej/VKmqgeROnyOj9ScQrOrFlYX9Vs13DGvb0MMaVENtq+K9fnuq3cUnnhtjg19AUpkDO51iUzxDqDrfiBfTnnpfq3uBC3kOqF4kSvU4eSsKmk0xmVKjKRSjCcW5xZIEZueh8P3E0TqMqrH8AMCfni+vdrUHYzymwb5Mbv1Cv+SNyElR/qSMWaQG5DETP77TnJWPte2Q9OAhtqoG8+ILyc71c8MUyRv7MoH3z31s1c9sIx9WlZcH59NV8PTGYOaV0Onet6wkVct8SyllrePqW+mDX0BSmQM7nUbmRLTBR64YlQtCWWKlEnbOtVVEWnbnEIai8rx2dbqh/jX/cQs9JOqBkn8TEUXV0V8flsriYRrkyXGRVOf/UnfC52gdZVImv44EcH7s8asvrj5LE3QvsJ3E956ls77GUAt5x5D/xUXcPZxssYBDbXZdf0FHsbz6W6uWnUPJ50/q4rQxMStgurSvZLLep4qXm8o1evSHrjQqqW7CiUy5ooSGQOTaenKyZc+VUuWRH4gqjvp6lp0r27gt+J1qp6ualuXnCI0Gj49oYTe1auqGtO3qzRQvF2stPwegnotiTCydUmG6A0kX6ZOjX1NmHBpw3fuCZuu4/Yzfj2/5F14Tz8WNvy/KqFLtHc3V8fD2V7v9SsS0mvpzOMkpGSrrgovSVPyYKxqG5tXdz58GvsWSmUIjytOMCmRIXp35xOj15LQk6wp60PVRapuWG2VY6koLEVIsbKcftta9XQ+vVDUXaDUNYDW5Wfi8xkriYTbB8Ro+6FPtag+JTI31PTaURdNyXWpThRV/xbGLDlKzy3EMxHHO9HHPp4P/xSb2Fs7K78Iz1NzBN1MfLD6ssb3lR7aaYBTqtLz/HjMLy+R4XNMP0rIRIFUBhcHG1R79WgDc0SJjIGJ9QA6bc9/0cTcCnE0nSO0hSpVc0eTr6UNTJ6GREZdPHy6XwtpQAgABTzugr7YcVvp9Y5rzzF7zz0cuBOvcn6+P6/QbrgSyetSKRlTX1kmZLyd1OwCDPnzoqA4APV3snwuN0/UNP5V91kp19hXfbu2pyq6ywLG7xmj7gndKhmw+3F6Lr+qKEMR6xzXYOYhtJl/QtSnZN9RGNdI0w2tkG2oz/eVN/bl86yley+KRyNu4Ge+DX0BSmQMjuu1pOdy5CdXfR5RYEnUlR6pO/hUza84SZcSmdScQo0JEAAM/euS4OVqU7Jh7bTtt7DmXDSOP1TdHVPVGBSq9F12nvs/nxJCK4mE62mk7g5VAgnv8SgkkuKi6vORL3nNr0ifEiF1nzylZnvKSnS/VrWlhD7egO82EupKNP9EWsgWFHqW0WV4g/KIby7QceFJje+7O71uk8On+7UiIePI3OGeeG2+DX0BSmQM7nWJjPAE5NazNJyPSEZSZj53ISnZbiMiMRPnIpLNpohZb1o2k9puuFoWq2uJvzF7oWhbZ0qW+np4Q9wRW0kkXINnGdN08ea3PAkkOmf06qps9Pl51D3XSsqjjcy8g+FK+2JiZh5SsgvU/nZz9j0Q1BuIL76/e2SS+IMuKjJmt3NFJXuFmrsbz9J4zaeuFFGugp2NzjHYWvHvfs2N6GvG7WMASmQMjuu1pMNnFx99hCF/XcKJ8ES1vZbWno/G0L8uYbseXR8B86l+koehvo2Mul5LKkpkeMwj1E2eJyJ9GseqO8FoSqpeZuXzCUtQHFYKjX01rZtvsieR6H7BUdfYlw+hpSElB8RTdRNy+lES/r1ZPIZITkERmv/vGN788QjORagvbRJjlN6S+G6VTgtPYYeQc4TAn8lUiYycuZy/tEkReJzyodxGhn+vJW3PWiqSyriHzVIiU86x17cMgsnvtio62iqUyCjPIx+8yl7DgFB8dm5zGRBPG30GoDPmyVZdixI+v4W6xEBzMsEvLiEkilVLMqbyO0kk/NetT2NftVWKPC7l2qoHSyq5n6iLOjYtV+lfbfR9xIMqQpJz+eiufPDZTxVLgyxt1FyxNQ905zUfn3Yp+uBziMnHkdFWHRiZlI28Qhmc7KxRvbK43dvFRomMgelTIvM6kbHhLmIlS2T4JDJ8mPqOSk5b92t1JwJ5/P/efIFhf13Cvdh03H6epjTP1G26j3Mh1Es13TH1KZHR9BvxvaCl5xSi1x9n0XvpOa3zWkmAMeuvAgAeJqgf46NkMuFoq3pwsvwiKe8758Cv9qH7r2ew6MgjAPxKZGbvuYc/jpcegVgxgfj16GO898dZjYO3vX76teZghVYb6/+IB1XLNKwPVqtvA9Z49mEDr127P888AWD6Epmu9b1f/z/YW+18F3RoHyb3di0PldOFVn/byBv7akms5e1j6vu5GnX8Ml1QImNg3Ii8OuwIGbnFvUFcHW1fVy2VOGLlvWD4DNGtiaoEwbQnB2EXc/nUT7fcxNmIZCw8/Ag5+cp34uHxGao/a4DiqKXHVQ+ixmeTqvuOmoaX7/brGfT646zWgf8KpDLcfp7O6+7cSiLh7rTzCmUaHhuh/FrdibVIxgQl9A/iMri2X2rvZF9NjkzKwppz0fjl8KNSsyjG8zw1B7eepyNBQ3sVWck2MmqCFnqT0iXYh+ecpif/7vKqBXN15L54D1bUR00vZ+7/y4eFqJ3vGM/nJ6ky7K0AldPlo3g729vwuqHlWyJzl2voa97VSgCge4shwgs3uJYOn8t4VSJTnMgUTy/Za0leImOnYdCTS1HFdwElL15PX2bjQVwGqlSqwD3x11D4JgvakqcgT2eV00suPz49r9SIt6quhf/disVnW9R3tbz1LB0ta1bWHJQKeWoSCj7JobprdlSy+gaAUhnD7efpWgdMFJK0KSbNttYS/H1OdXf0kotUtwYJhDd6l8+u7a4zV8MAgIrbk2vzo6GER1bimNUWMd/vZIjBLA1VJZyQkYeDd+ORrKGBuTkxdWPfb3ffxdIhb6JJtUoG61lqW7JdwSvPUoqrNv3dK/DaF215lsjctZAeSwCVyBgcd9cmH5OC5+fyCmVcaYuroy13ASp5MpSPn6KuRGbE35ex+fIzAEBEonLPhVOPkjBu43UsPxVh8LpbvrjGvmrCUVeyVTJ8W2tJqdKrkhevuPRcTN58Q2P9vrzomq/EzDx8vOEq7r7Q/U5WKmO4HJWCeQfCBT9aQdtJVNCAbQqLslH1HATI28goL1NTFZjQU7z8AqVu/5RP1nT+VkzS5fvPlehUDfPLV86vaokvNZvQLF2OSsG4jddMHQYvV6JTTPM8FQUv0nLhXdEeVSoZ7unQ6tqYPXv12AN/nk+mtrZ6fUypu7HJL5Li/qvSOHMe0VeOSmQMTNe2vvL2MVaS4h1PXZfQAi2JjKbrmvwu1sHWWmV2LsYN5PWYVFRzrwB3Dc8iEUPJi6mNtVWpi3rJefgMKy705iq/UIZD99QXd/O5c5QyhgErLwAAKlWw5b1uayuJ1jsyIfmq4ne3sZYAamq2+CYy+gzmqG4gxC933sa5rzpqXIZiOPKCy1OP1A+pL28crKnXEiB8jChLeuCrJY1XlcnzuVCGZqvPUOA8qKviiXk1jhTfkXcVS3akMsb1YpJjjGHmv/eQUyCFh7MdaqgpBTcnlMgYmHw0VXWNP9WRJzIyBrSce5x7XapqSaq5aslBTcNL4PXzhxxsreGvx/DTy05GYMe15xjSvBo+ersGN33v7VhM3HQDtbyc8TiR3zgWXGNfgTGUvHbaWElKlV7pUuh09EEivtl9B4mZ+XirhuYqph3XnuP7f+9qnIfPtez3wW/g4w3Fd8NPBIz/wefiI6Qbs+Ks6vavbkvO8G5o3nvpOUzuVIv3+oHibdq5nhcy1YweLE+aNJWOKCZafJIJ+dOz5bOq+8SSo4/R782qvBN+S0oO1l94auoQeCuSCmt7ZSj6tlPUxsPZHhdmdCw1hgxXIsPzHG6jcCwXyRhsSlwiNl58ii1XnsFKAiwc0MQi9lsLKuy0TEK7fsopdm1U/H/JnSq/UHOJjOJTYUtejOSj3TraWqOCXemEh2+9c3x6Hp4kZXNteqQyBqmMYe7+cADgncT8efoJV0oitNi+ZBGpnY1VqTvpkiUHfNcRdikGR+4n4Me99zXOl5SZL8rDGkMC3Lj/C9kONjxOOEKWV6Qw/krJuzZF2h4PoSglW/g4GuM2Xlf7Hp8RZePT8/AoIRM5BUU6lYpo+sjcAw/wIpVf92sLuB5YJBljOg+f/2hOd9HiMGQis31cSwCAr6sjXB2VS2ljuDYy/KqWFM8TJcdYuvTkJWbvKT7PfdmtLtrV9tQ5ZmOiREYPEYmZ2HntOS49Ud+lTtfiZHlS0KBKRawe0RRv1/JAlUqOaFy1ktJ82notfdGtLvf/knfOeQqJjKrGlHxPvFl5xXewzg42GLjyAmp+vR97b8fiBY/xNb7efQdt5h/HnluxgkutFPV9s4rSaxsrCSISlbsM6zOoGh9CnjmkieJPISRkXiUyAjIZxQGz1LWREUrskfrlbWc0HWZbrjxD18WnEfz9IcSLPJbK/jvxGMLzMRWWVLVkToJe9Qh6p6HqXl/aBnbTRMzkQ1OHC30s6N8IzdSMU8MYw/MUYVVLiomMYpOCF2m5GB92HUUyhl6N/TC2bQ1VHzdLlMjo4eiDRHy+/Ra2Xn2mdh5d78LkpTBuFezQqZ43NoxugXNfdUSgh/LARK/HkVFfhSRnb1uiROZV6YGjnbXKO3UfVweVy4lNy8W2q8+4dWe8SmRcHGy5O/cTr7oZernYw9PFXm1MqdkFeJ6ai+UnI7HiVCQ3Xd2YG/dj1TeiVS5BsCrVDsLQ7Zmz1TwRWdGcfQ+0zlPR8XXR8Yu014+eqO2tua6aT4mMkETmrbnHeM+rSNMJVexkUuggcwfvqX7wpiqvq5bESUDkicyZx0loPe+4KMvUR0UHG5yY1t7UYWg1rl1NXPu2M5YOeVPl+4VSmUGGUBBKMSlycRCv1YamvS8tp5Crdq3qxi+RUbzhkd8I5BZI8fGGq3iZXYD6fhUxv18js35IZEmUyOhBXsSXoeF5J0J2hr/PRmHM+qs4eDdeaVRfTUoOiJdbIFV7UJdMduRVSw621iobaDb2r6RyOaFLTuOLHbex7GTxWClZ+cWxOtvbcHcl/9yMBQB0b+CDpEz11QnywdPu8xyvIj5DdSmPrbWV0pOlba0lpXq6lOyxI/a5T6wSmQ4/n+T+f/HJ64cCDmleTePnrF+Vmvy0X32ypLhJhPSwEHKh6N3ET+17Yj/zJyu/CN/9o7ldkq64HnQiDTsnv4DkF8p4lVYamrWVRKnqWZ0vFUp1TcHaCqjsbK/2XFoolelU2jWrZ7C+oSlRLJHxrqj6JlAXmq4h8vYxXi72GttDllyevMFvkaw4Cfxq123cfZEBdyc7rPwgBI4qmhqYM0pk9CBPZDQ9uE1dQ8giGSv1fJy7L9Jx5H4Cxm28hh9etccoWR9aUsmqpSVHH+Gtucew7UrpUiIHW9VVSw62VqXu1J3tbTCjez0AwP/23UfTOUex4UI0ACDzVQnMkqPFo6jKG0c6O9jgaYknMXdv6Ksxfgc1B4y666Z83SXZWltx7YWA4qqQkslZyYux0AuUk5pYfz4Ujmb/O4ptV/k9y+bs42S0mnsMwd8fxF8qunfHqqn+0BatvEQmWcPzXBR/Zx9XB3zUprrGZY5+9b66mFTScOK9WuLJ3mLYcPEp5h0IF3258q/xKEGc5Eve9dtcumHzbcQ5/6D421YIbUlKRGIWrgp4CrhcBXtx+7rYKpzr6/i4iLZcTd8+JkVYQ185rgu2lOHPM0/w781YWFtJsHTIm7xLdswJ9VrSA59EpmdjP4RdikGrEoOqhV16iqUnImBvYw1PF3t0quuFZBVtRLQmMiUGxNt5/TmSswqw8/pz9A+pqnThikzKRn6RlCuZyVVqI6N+HflFMiRn5SMho/QFcvLmG3gYX9wW5WR4IlJyXn+HVjUrq6zbnX8wXOeTY1M1dcV2JUpkrCSlqx2Sswqw8eJTboTMLDVJkTqFajZSboFMqdTJrYKtxlF4JZLXiQGfqiY5bbUy8pNTuoZ1K+4PT1/moFM9L43LLNKhUYspivnPPE4WfZliD7LWet5xDGlRzSAPj9SFpVQdaEu4/jyjeqBGbfg2Ui95btE0n1yAHr1AS9JUHcwNhsdzDBk5Wysr5EGGEw8TuZuA73sE6zT4pzkwk3sDzZYuXYrAwEA4ODigRYsWuHz5sqlDAsAvkXGwtcY/E1orNboFinfAzLwiJGfl40FcBv44EYHTKsa2KJnIrDwViX2347h17hrfCnsmtoFvJQdEJ2dzI3FeikpB0/8dxff/3VP6vGJjR22NfeU8nIvbuKi60//vVizX2G7dhadIe3URHd2mOjaNeUvnrnvqwlFXHfJmgJtSjyEZAy6oaIT9rUI1BN/qLDl146M42yuX1NT21nw35qTjnaC2BEEqY9hw8anGYdAVO/l0qqs5iQGKf1OhPngrAE3UVEuao/dDqhptXfomMU9+ekekSAwz0rAhGKqRNJ82ZQBQw1N79Zu1lURpfJYJHYJ0jqukkxrGPJJXLfFt6Csnb8v4w577kLHiY2B4S9WPQLAEZp/IbN26FVOnTsXMmTNx/fp1NG7cGKGhoUhM1P2ZFWLhk8iU1KhqJXSq64WQADfU8HDC+yFV4eJgo7bkpaLD6+nZ+UX45fBDTNh0HW/+eATLTkagtrcLGlZ1hb2NNY4+UB6ILSW7ACklhhhXrJv3dXVEDQ8nuFawRQM/V6UDW37RLpTKuJ1eU1sXdXGruvjySW4Uq30KpcV3DnI1StTrr/2wGbLzi9Dhl5PcNE2J2eIjj/AiLRd7bsVqjUORukTmtxLPVdKWyJR8YKO6oceFKpIxre1FFLeLXyVHgwxx71XRAfV8zX9Yc7lv31XTVkICTAhT3/XbmH4b/AZuz+oq6sP7SlY1m6vDCg20tZVQC8F3UzrzuPGo6GCjVMLlZG+DlR+of+aSEJ7O6jtLyJ9FVlVw1dKrxxTIGJr4V8KcPg0spoROFbPfkxctWoQxY8bgww8/RHBwMFasWIEKFSrg77//NnVoXEPcvEIZ76HkR7WpjtUjm2HnJ61w7PN2+Pn9xrg9syvm9G5Qat5u9X2U7gbyCqUY0TIQQPFFdfPlGKVE4diD4ot9aH1vuDsVj6Tbro4nV9dfpZKjUlXPb4PfwPFp7dGqpgeqVa6AIS1eNybNLZRi8ZFHeHv+CSw4+LB4+eGJvE/sBdJXo6NKJKhYogU/nydtv/vbWfx3KxYbLz5Fh19O4sM1V3DtVfuKkieIdrU9S7VF0nSB/vXYY3y18zZuPU/n81UEqyKwmJdv91EZY/h7ZFO172tqGyOn2CbH1kaCwc2r4ciUtrzWX1al5RZgzchmpaZ/vesO9t2JM0FEyno38UOvxn5KNzXaeGi4+Mm5OfEfbVvoQIYA8OugJhjeMgDbPm6pdp4pnWtrXU6WQiP6xQMba5z33wmtcegzfvuzjyu/4/Tq01TcntVV7fuP5nRX2ftLW9fu73pobmz843v18W4jX0zpon4bPRPY9VpOfvPk6WKPlR+E8Or1as7MOpEpKCjAtWvX0LlzZ26alZUVOnfujAsXLqj8TH5+PjIyMpT+DMXF3oZLEoSUyshxz1+SSNCzsR8GNK0KK0lxdVH0vHex4oMQpdFkKzvb49sewbj+XRdYW0nwLCUX5yJecuu/8qrB27h2NZGRWwgrCfBOA1+sHBYCLxd7NPZ3FTSMdnx6HuIzlBt5ljyxKx6MYR+1wNGp7XB0ajt81Ob1GAQL+r8++fRs/LpHy0dtqmN2r/qI/OkdNKpaevjtyZtv4Nt/7uJ5ai4qO9kh8VUsviWqlyQSCSo722Ncu5rcNHUlMq2Diren4nYQcuekrafPF93q4J0Gviq7nLcJ8lD5GU8Xe17jWTAGdKzrjbuzQ3nFqqrkS96bDCiu03d3skMtbxeVibQ+DD2Q1vdaLgJ8ze/XEFUqOaJDXS98+249pfdUPd/pY55ja0ztUhsBlbVfXKwkKLXekub1a8RrnYo+bB2odZ43qxUPvLh7fCuV73cJ9ub+P7VLbd7fvUolR+yd1AbvNamCH95rgObVVbdrA4DJnYIQ8T/Ng9IpPrhSW2lnY/9KqOPjgqNTXyczBz97W+W8bWsVH4989lUHG2uV36NBlYqws7FCJRWPYGlXS/1yAytXwOg21XF7Vlfc/0H18dyrSRUsHfKmxlKob94Nxjfv1NO6XUpqVNUVzvY2WDEsRNQeVqZi1o19k5OTIZVK4e3trTTd29sb4eGqG4vOnTsXs2fPNkZ4sLKSoHeTKiofUKiLBf0b4/ue9bUWZbo72eGjNtWRlV+E6q9KbCrYWWPdqOa4/jQVb1Rzw82ZXXHvRTpcK9iia30fdK2vejApRY2qVkLroCwuORr6VjX0C6mK4+GJyC+S4nJUCh4nZGFOnwa49yId6bmFaFHdHe+HVEVekQyt1VyouwZ747POtfBmNTe0re2JJQOboFAqg521FVdUvvKDELScWzy2xuROtfA8JQdeFR1wJToFPRr5YlCzalyXQGd7G8zsGYx5B8Kxacxb3Hq+7FYHN5+lIjw+E80C3TGlS21suhSD8e1r4l5sBhr7V8KL1Fxcj0lFq5qV8V4TP+QXyRBa3wdrRjbDf7di0aCKKwqKZEqNkXs08kUT/0q4+yIdY9vWxDu/nVH6fvP6NsS5yJeo6+OC8e2L68bPfNEBd16k468zT7hnLzUNdMPUrrWx4GA4HGytUdvbBfdjM9CiujsmdaqFX48+xuKjj9T+PpVf3WU729tg6ZA3MWHTddT0dEKQlzNcHW1x8UkK14sBKD7pj29fE5M2v366d/cGPqhUwRbNAt2VGvYNeysA7zXxQ1pOITZefIp6vhXx2dabAIBv3qmHqm6OCPRwwtH7CRjeKhA2VhLUn3moVIzyRDW0vjc2jG6OOt4u2H3jBTZfjkF0iR5tANDEvxK+6FYHrWp6ID2nEKvPReF8RDImdaqFb/+5wzVmtLOxwvc9grmG2jkFRbjw5CXq+1VEUmY+/r0Zq3Tn3ra2J2b2DMYfxyOw+8YLLrZJHYNQKJXBw9keDjbWcFV4lpW6cZPsbazw43sNkC+VYViLaohMysadF2lIyylEfpEM577qiGtPUxEel4Fx7Wuigq01bKytMLlTLZyPTMaWy8+QnluIvEIpJnWshV03nmPX9RcY0qIautTzRoe6Xgit74OPN1zD/bgMuNjboM+bVbD96nN0DvYudW75a3hTzNh9R6mqN7ByBUS/zEFtb2d8/U49tA7yQLBvReQXSVHBzgaTNt9Qutnyc3Xg7vTfqOaGO7O6QiKRoNXcY8jIK8KgZv6Y2qU2XBxeD6nwedc6aF7dHVO23uTGjnqzWiVcj0lTik/Vs68OfPo2uv9afNz8NvgNXH+aimFvVYNEIoGNtQSLBzbGlK23AAA/92+EI/cTcPh+Avq9WRU9G7/u+VjVrQJ+eK8+HsRlwtneGlefpmJmz/pIzsxXKgkN8nLBnVld4WRnAysrCUa2CsTa89H4e2RTdKyrfD1ZOKAxBqy8gCdJ2aUepzKwqT8GNPOHnY0Vlg55E63nH0dBkQx1fVywfFiIxnY2VlYSNPavhFvPirdPbW9ndKjjheyCIkzuWFzCVdGh+IHAI1sF4kZMKldK7OViz6saTTHZFGL50BDkFkp1bq9nbiTMHEYSUiM2NhZVqlTB+fPn0bLl6+LJL774AqdOncKlS6VH1MzPz0d+/usDPCMjA/7+/khPT0fFipZTb1/eyWQMEonl9KwwF0yP4dp1XVdKdgFcHGwM/tA8Yhx5hVIwBosbS0Rf8v05v6j4+9tYSZSeS0SMLyMjA66urlqv32adjnl4eMDa2hoJCcqNWBMSEuDjo7qEwd7eHvb22uuHiXkTs1FjeWLMxE++LncBbS2I+eM7sFpZI9+fLb29SHlk1ummnZ0dQkJCcOzY66HSZTIZjh07plRCQwghhJDyyaxLZABg6tSpGDFiBJo2bYrmzZtjyZIlyM7Oxocffmjq0AghhBBiYmafyAwcOBBJSUn4/vvvER8fjyZNmuDgwYOlGgATQgghpPwx68a+YuDbWIgQQggh5oPv9dus28gQQgghhGhCiQwhhBBCLBYlMoQQQgixWJTIEEIIIcRiUSJDCCGEEItFiQwhhBBCLBYlMoQQQgixWGY/IJ6+5MPkZGRkmDgSQgghhPAlv25rG+6uzCcymZmZAAB/f38TR0IIIYQQoTIzM+Hq6qr2/TI/sq9MJsPDhw8RHByMZ8+e0ei+IsjIyIC/vz9tT5HQ9hQXbU9x0fYUF21P/hhjyMzMhJ+fH6ys1LeEKfMlMlZWVqhSpQoAoGLFirTjiIi2p7hoe4qLtqe4aHuKi7YnP5pKYuSosS8hhBBCLBYlMoQQQgixWOUikbG3t8fMmTNhb29v6lDKBNqe4qLtKS7anuKi7Sku2p7iK/ONfQkhhBBSdpWLEhlCCCGElE2UyBBCCCHEYlEiQwghhBCLRYkMIYQQQiwWJTKEEEIIsVhlIpF5+vQpnj9/DgCQSqUmjoYQQixDbm6uqUMoU+haZBoWn8j8+++/qF69OiZOnAgAsLa2NnFEli0pKQlpaWmQyWQAwP1LdJOXl2fqEMqUx48f45dffsHDhw9NHYpFKywsxCeffIK+ffti+PDhuHjxotYnDBPN6FpkOhafyFy+fBktWrTAs2fPsHPnTgCUCeuisLAQ48aNQ9u2bfHOO+9g1KhRkEqlGh/URdQrKCjAlClTMHToUAwfPhxnzpwxdUgWTSqVYsKECWjYsCEePHiApKQkU4dkseLj49GiRQvcvn0bPXv2xO3btzFu3Dj8/PPPAOjmRVd0LTIdi71KyQ+29PR0NGvWDG+88QZ+/fVXFBYWwtramu4uBIiIiECzZs3w8OFDLFu2DO+88w4uXLjAndiIMP/88w+CgoJw8+ZNtG/fHjdv3sSMGTO4kxsRbtGiRbh16xZOnTqF1atXo02bNgBAx7kOzp07h4KCAmzbtg3jx4/HqVOn0KdPH8ycORP37t2DlZUVbVcB6FpkehabyMgPtoiICAwbNgx9+vTBy5cvsXz5cgDFJQyEnwMHDsDZ2Rl79uxBhw4d8MUXXyAgIIDXU0eJssjISGzcuBGjRo3CiRMnMGnSJBw7dgx2dnZ4/PixqcOzOIwxZGdnY/fu3Rg5ciRatGiBCxcuYNWqVTh79iyys7NNHaLFkF9wk5KSkJqaiipVqgAofrrwxx9/jDZt2uDjjz8GAEgkEpPFaWnoWmR6FpHIrFq1Cps2bUJERAQ3TSqVQiKRwNraGvn5+XjrrbfQp08frF69GsOGDcOiRYuQn59vwqjNn/zElpycjPj4eDg7OwMAEhISkJqaCicnJ4SHh5syRIshv+sqKChAo0aNMGLECADF+6mnpyesra0RGRlpyhAtkkQiQWxsLJ48eYJu3brh888/R79+/bBu3Tr069cPffr0QUZGhqnDNFs7duzA0aNHERcXx1UTW1tbw8fHR6m608fHB1999RWuXLmCI0eOAKDSLlUUt6ccXYvMADNjBw8eZJ6enqxJkyYsICCA1apViy1evJh7/+XLl8zHx4fl5+czxhibMmUKc3BwYI6Ojuzq1asmitq8rVy5koWFhbFHjx5x03bt2sX8/PxYaGgoGzp0KLO1tWWtW7dmb7zxBvP19WWrV69mjDEmk8lMFbbZunTpEmOMsaKiIrXz5Ofns1atWnHbkagn355SqZSblpOTw4KDg9mIESNYv3792P3791lycjK7c+cOc3NzY9OnT6d9s4T169czLy8v1rx5c+bp6clat27Ndu7cyRhj7Pr16yw4OJjNmzePO3cyxlh8fDzr1asX++CDD0wVttlStT13797NvZ+SkkLXIhMy60Smf//+bOzYsYwxxh49esR++eUXJpFI2N69e1lRURFLSEhg77//Ptu8eTNr2LAh8/DwYD169GB169Zlly9fZoxpvsCUJ6qSwoULFzLGii8a165dY+vXr2e1atViO3bsYIwxlpqayv73v/+xypUrs8LCQlOGb3Z2797N/Pz8WOXKlVlUVBRjTHlfU7ywZmZmslq1arGLFy8aO0yLoWl7pqSksNGjRzMXFxfWt29fJpVKuUTnr7/+Yq6uriwnJ8dUoZuVwsJCtmTJElavXj32119/sfz8fHbu3Dk2fPhw1r17d247jR07ljVv3pydOHFC6fP9+vVjI0aMMH7gZkrb9szLy2OMMfbixQs2cOBAuhaZiNlVLbFXxZlRUVE4evQo+vbtCwCoVasWPv/8cwwePBjTpk1DQkICCgsLsWPHDgwfPhxt27bF48ePMX/+fAQGBmLq1KkAqAuc3F9//YU+ffrgxo0bOHLkCD7++GNMmzYNe/fuBQC8+eabSE1NhZubG/r16wfGGCpVqoS3334beXl5uHz5som/gfkICwvDTz/9hLZt26JevXqYN28eAOV9TbGNwblz55CVlYXatWtz0xISEowXsJnTtj3d3NzQqVMn2NnZcT3p5OeJBg0awM7ODg8ePDBZ/OYkOzsbSUlJGDFiBD788EPY2dmhVatWCA4ORkZGBgoKCgAAs2fPRmFhIVatWoUXL15wn8/NzYW7u7upwjc72ranvP2LVCrFtm3b6FpkKiZOpDiPHj1SuovNzc1lXl5ebNWqVYwxxhXZpaWlMUdHRzZ37lzGGGObNm3iiqPlVqxYwX7++Wcmk8nKdZGz/Ls/efKEVapUiR08eFDp/SFDhrB69eqxiIgIxhhj8+fPZz169GDp6encPD/99BNr27Yty87ONl7gZkp+R3Xx4kX21VdfsadPn7IFCxawOnXqcHe2qu66Pv74YzZ48GDGWHGxfvv27VmfPn2Uqk/KIz7bU37cZ2Vlsc8++4xJJBJ25MgRbhm//PIL69KlS7neliXPnTdu3OC2rXy7hIWFsSZNmihVJW3fvp29/fbbLCAggC1cuJB98MEHzMvLi505c8a4X8DM6Lo9t2zZQtciEzF5IrN161YWGBjI6tSpw5o3b861I8jKymLDhw9noaGh3M5SUFDAGGNsxowZrFq1aqWWJd9RynsRnpCksEKFCmz+/PmMMcbWrVvHmjVrxrp06cJ27NjBRo0axTw9PdmKFSuM/yXMSMntyRjjqtru3r3LevXqxd555x3uPcV5pVIpe++999jPP//MJk6cyKysrNjw4cO5fbk8Ero95cfzkydP2PDhw5mTkxPr27cvGzx4MHN3d2crV65kjJW/Nlwlz51//fWX0vuKyd2QIUPYyJEjGWNM6eL7/PlzNnbsWNa7d2/2zjvvsPDwcOMEb4Z03Z6qjmW6FhmXSROZw4cPs8DAQLZ06VJ28OBBNnXqVGZjY8NdcNeuXcveeOMN7kQlP9lduXKFeXp6UiOqEsRICjdu3Mjatm3L2rRpQyc2NduTMeWL5t9//82Cg4PZ33//zRhTPuHFxMQwiUTCJBIJa9WqFbt//77xvoCZ0XV7lmyftWLFCjZ9+nT24Ycfltv9U9W509bWlq1atYrl5uYyxhhXCpCbm8saNWrENmzYoHZ58s+UV2JtT0pcTMMkiYz8pDV79mwWEhKilNGOHz+evfHGG+zQoUMsIyODDR06lLVq1YprAMhY8QnRz8+PPXnyxNihmy19k0LFItHCwkIWHx9v/C9hRjSd2OQNJuXb8Pnz52z06NGsWbNmLDMzkzH2+q737t27bODAgUrVIeWRvtuzPJdgKdJ27mzatCnbtWuX0mdevHjBAgMDuZ6Kjx49YlOmTDFe0GaMtmfZYJLGvvKGkPfv30fNmjVha2vLNZqaM2cOnJycsHHjRlhbW2PChAmwsrLCoEGDcP78ecTExGD//v0ICQmBj4+PKcI3K+xVo8cLFy6gcuXKGDNmDEJDQ7Fw4UKMHTsWy5cvx+HDh9G3b18EBwdj3bp1iI6Oho2NDQDgyZMnsLW1haenJ7dMGxsbeHt7m+T7mJqm7TlmzBisWrUKBw8eBABuG1apUgV9+vQBYwy//PILbt++jb59++LZs2eoX78+tmzZgs6dO5vsO5mS2NuzvNN27nRwcMC///6L+Ph47jNHjx6Fv78/fH198emnnyI4OBhPnz5FYWFhuR8rhrZnGWGMbOnw4cNs0qRJbPHixUp3/qtWrWIuLi5ccZw8G161ahULCgpiZ8+eZYwxFh4ezkJCQlidOnWYt7c3e+ONN8ptkbI6AwcOZAMGDGCMvd6OKSkprE2bNuyDDz5g2dnZ7Pz586xNmzasRYsW7Ny5c+zp06dsxIgRrGfPntR9tQRN23PEiBEsLi6OMfa6KDk7O5uNHz+eSSQSZmNjw0JDQ7mumYS2p650OXfWrl2baywtk8nY+++/z9zc3FjlypVZ/fr12ZUrV4z+PcwFbc+yyaCJTGxsLOvRowfz8vJiQ4cOZQ0bNmSurq7cDvTw4UNWpUoV9t133zHGlBuh+fj4sEWLFnGvMzMzWVRUVLkfi4OSQnHpemI7efIkN29WVhZbvHgxs7a2Zu3bt2e3b9827pcwI7Q9xaHvuVM+cGh2djbr0aMHq1q1KtuyZYvRv4e5oO1ZthkskcnOzmYjRoxgAwcOVGrL0rx5c661d0ZGBpszZw5zdHRkMTExjLHXdZbt2rVjH330Efe58tYjoSRKCsUl1omNMcbu3bvHWrRowdavX2/U72BOaHuKR+xzZ3nvFEHbs+wzaInM2LFj2YEDBxhjrxvyzZo1i7Vo0UJpjJPWrVuzt956i0VHRzPGGHv69CmrV68e27t3ryHDsxiUFIpL7O1Z3tH2FB+dO8VF27NsM2hj3z/++APdunUDAO6BZY8ePUKjRo24RlbVq1fH1q1bkZycjPbt2+P9999Hy5Yt4evri6ZNmxoyPItRoUIF2NvbY+TIkahevTqKiooAAO+88w4ePHgAxhhcXFwwZMgQvPnmmxgwYACePn0KiUSCmJgYJCYmonfv3tzyyvuTbcXenuUdbU/x0blTXLQ9yzYJY8ZtZt2mTRuMGTMGI0aM4J6+bGVlhYiICFy7dg2XLl1C48aNuacHk2KFhYWwtbUFUPzUaisrKwwdOhROTk5YtWoVN9+LFy/Qvn17FBUVoWnTpjh//jzq1q2LTZs2ldueSKrQ9hQXbU/Do3OnuGh7lh1GTWSePHmCVq1aYd++fQgJCQEAFBQUwM7OzlghlCl0IIqLtqe4aHuKh86d4qLtWbbYGGMljDFIJBKcPXsWzs7O3I4ze/ZsxMfHY/bs2fDy8jJGKGXGkydPEBERgQYNGgAovkDID8SgoCAEBQVh4MCBJo7SctD2FBdtT3HQuVNctD3LJqMMiCevg7x8+TL69euHI0eOoHr16li2bBn69OlDO44A8gI0VQfip59+isTERFOGZ3Foe4qLtqe46NwpLtqeZZPRqpby8vLQsGFDREZGws7ODrNnz8aXX35pjFWXSRMnToSTkxM6d+6MsWPHIicnBxs2bEDXrl1NHZpFou0pLtqe4qFzp7hoe5Y9Rm0j06VLF9SqVQuLFi2Cg4ODsVZb5tCBKC7anuKi7Sk+OneKi7Zn2WLUREYqlcLa2tpYqyvT6EAUF21PcdH2FBedO8VF27NsMXr3ayIOOhDFRdtTXLQ9CSHGQokMIYQQQiyWUXotEUIIIYQYAiUyhBBCCLFYlMgQQgghxGJRIkMIIYQQi0WJDCGEEEIsFiUyhBBCCLFYlMgQQsxSfHw8unTpAicnJ1SqVMmo627fvj0+++wzo66TEKIbSmQIIRxzuoAvXrwYcXFxuHnzJh49emTqcDQ6efIkJBIJ0tLSTB0KIeWOjakDIIRYDsYYpFIpbGwMf+qIjIxESEgIatWqpfMyCgoKYGdnJ2JUhBBzQyUyhBAAwMiRI3Hq1Cn8+uuvkEgkkEgkWLt2LSQSCQ4cOICQkBDY29vj7NmziIyMxHvvvQdvb284OzujWbNmOHr0qNLyAgMD8dNPP2HUqFFwcXFBtWrVsGrVKu79goICTJw4Eb6+vnBwcEBAQADmzp3LfXbnzp1Yv349JBIJRo4cCQBIS0vDRx99BE9PT1SsWBEdO3bErVu3uGXOmjULTZo0wV9//YXq1avzes5TdnY2hg8fDmdnZ/j6+mLhwoWl5tmwYQOaNm0KFxcX+Pj4YMiQIUhMTAQAREdHo0OHDgAANzc3pXhlMhnmzp2L6tWrw9HREY0bN8aOHTv4/yiEEO0YIYQwxtLS0ljLli3ZmDFjWFxcHIuLi2NHjx5lAFijRo3Y4cOHWUREBHv58iW7efMmW7FiBbtz5w579OgR+/bbb5mDgwN7+vQpt7yAgADm7u7Oli5dyh4/fszmzp3LrKysWHh4OGOMsZ9//pn5+/uz06dPs+joaHbmzBm2adMmxhhjiYmJrFu3bmzAgAEsLi6OpaWlMcYY69y5M+vZsye7cuUKe/ToEfv8889Z5cqV2cuXLxljjM2cOZM5OTmxbt26sevXr7Nbt25p/d6ffPIJq1atGjt69Ci7ffs269GjB3NxcWGffvopN8/q1avZ/v37WWRkJLtw4QJr2bIl6969O2OMsaKiIrZz504GgD18+FAp3jlz5rC6deuygwcPssjISLZmzRpmb2/PTp48qf8PRghhjDFGiQwhhNOuXTulC/iJEycYAPbPP/9o/Wz9+vXZ77//zr0OCAhgw4YN417LZDLm5eXFli9fzhhjbNKkSaxjx45MJpOpXN57773HRowYwb0+c+YMq1ixIsvLy1Oar2bNmmzlypWMseJExtbWliUmJmqNlzHGMjMzmZ2dHdu2bRs37eXLl8zR0VFpO5R05coVBoBlZmYyxl5vp9TUVG6evLw8VqFCBXb+/Hmlz44ePZoNHjyYV3yEEO2ojQwhRKumTZsqvc7KysKsWbOwb98+xMXFoaioCLm5uYiJiVGar1GjRtz/JRIJfHx8uCqZkSNHokuXLqhTpw66deuGHj16oGvXrmpjuHXrFrKyslC5cmWl6bm5uYiMjOReBwQEwNPTk9f3ioyMREFBAVq0aMFNc3d3R506dZTmu3btGmbNmoVbt24hNTUVMpkMABATE4Pg4GCVy46IiEBOTg66dOmiNL2goABvvPEGr/gIIdpRIkMI0crJyUnp9bRp03DkyBH88ssvCAoKgqOjI/r374+CggKl+WxtbZVeSyQSLgl48803ERUVhQMHDuDo0aMYMGAAOnfurLYNSVZWFnx9fXHy5MlS7yl2zy4Zq76ys7MRGhqK0NBQhIWFwdPTEzExMQgNDS31fUvGCwD79u1DlSpVlN6zt7cXNUZCyjNKZAghHDs7O0ilUq3znTt3DiNHjkSfPn0AFF+0o6OjBa+vYsWKGDhwIAYOHIj+/fujW7duSElJgbu7e6l533zzTcTHx8PGxgaBgYGC16VKzZo1YWtri0uXLqFatWoAgNTUVDx69Ajt2rUDAISHh+Ply5eYN28e/P39AQBXr15VWo68Z5TitgsODoa9vT1iYmK4ZRFCxEeJDCGEExgYiEuXLiE6OhrOzs5c6UlJtWrVwq5du9CzZ09IJBJ89913audVZ9GiRfD19cUbb7wBKysrbN++HT4+PmoHv+vcuTNatmyJ3r17Y8GCBahduzZiY2Oxb98+9OnTp1T1Fx/Ozs4YPXo0pk+fjsqVK8PLywvffPMNrKxed+isVq0a7Ozs8Pvvv2PcuHG4e/cufvzxR6XlBAQEQCKRYO/evXjnnXfg6OgIFxcXTJs2DVOmTIFMJkObNm2Qnp6Oc+fOoWLFihgxYoTgeAkhpVH3a0IIZ9q0abC2tkZwcDBXhaLKokWL4ObmhlatWqFnz54IDQ3Fm2++KWhdLi4uWLBgAZo2bYpmzZohOjoa+/fvV0oiFEkkEuzfvx9t27bFhx9+iNq1a2PQoEF4+vQpvL29BX9XuZ9//hlvv/02evbsic6dO6NNmzYICQnh3vf09MTatWuxfft2BAcHY968efjll1+UllGlShXMnj0bX331Fby9vTFx4kQAwI8//ojvvvsOc+fORb169dCtWzfs27cP1atX1zleQogyCWOMmToIQgghhBBdUIkMIYQQQiwWJTKEkDIrJiYGzs7Oav/UVZ0RQiwHVS0RQsqsoqIijb2pAgMDjfLcKEKI4VAiQwghhBCLRVVLhBBCCLFYlMgQQgghxGJRIkMIIYQQi0WJDCGEEEIsFiUyhBBCCLFYlMgQQgghxGJRIkMIIYQQi/V/5yCteMAqd/kAAAAASUVORK5CYII=",
      "text/plain": [
       "<Figure size 640x480 with 1 Axes>"
      ]
     },
     "metadata": {},
     "output_type": "display_data"
    }
   ],
   "source": [
    "transfers['transfer_date'] = pd.to_datetime(transfers['transfer_date'])\n",
    "market_trends = transfers.groupby('transfer_date')['market_value_in_eur'].mean() / 1_000_000\n",
    "market_trends.plot(title='Average Player Market Value Over Time')\n",
    "plt.ylabel('Market Value in Millions Euros')\n",
    "plt.show()"
   ]
  },
  {
   "cell_type": "markdown",
   "metadata": {},
   "source": [
    "From the above grapgh the trends suggests that:\n",
    "\n",
    "Volatility in Early Years (2004 - 2010):\n",
    "There are noticeable spikes in player market values around 2007 and 2008 followed by sharp drops. This suggests that some very high-value transfers may have occurred during these years which could be outliers compared to the rest of the data.\n",
    "\n",
    "More Stabilized Market Post-2010:\n",
    "After 2010 the spikes in market value become less frequent and the fluctuations seem to be smaller and more stable. This could indicate that player valuations became more consistent possibly reflecting a maturing market with fewer extreme outliers.\n",
    "\n",
    "Recent Years (2020 - 2024):\n",
    "While the average values still show some spikes there is an upward trend toward 2024 with increasing market values. This could indicate that the overall value of players in the market is rising again in recent years. Factors such as inflation, rising transfer fees or increasing club revenues might be contributing to this trend."
   ]
  },
  {
   "cell_type": "markdown",
   "metadata": {},
   "source": [
    "# 2. Club Statistics\n",
    "\n",
    "To analyze team composition, financial value and strategic outcomes by studying club statistics such as squad size, foreign players and stadium capacities."
   ]
  },
  {
   "cell_type": "markdown",
   "metadata": {},
   "source": [
    "2.1 Basic club statistics"
   ]
  },
  {
   "cell_type": "code",
   "execution_count": 20,
   "metadata": {},
   "outputs": [
    {
     "name": "stdout",
     "output_type": "stream",
     "text": [
      "       squad_size  average_age  foreigners_percentage\n",
      "count  439.000000   401.000000             390.000000\n",
      "mean    24.421412    25.123441              46.036154\n",
      "std      8.797187     1.955530              19.881868\n",
      "min      0.000000     0.000000               2.400000\n",
      "25%     25.000000    24.200000              32.000000\n",
      "50%     27.000000    25.200000              48.000000\n",
      "75%     29.000000    26.100000              60.700000\n",
      "max     41.000000    29.000000             100.000000\n"
     ]
    }
   ],
   "source": [
    "club_stats = clubs[['squad_size', 'average_age', 'foreigners_percentage']].describe()\n",
    "print(club_stats)"
   ]
  },
  {
   "cell_type": "markdown",
   "metadata": {},
   "source": [
    "2.2 Stadium capacity distribution"
   ]
  },
  {
   "cell_type": "code",
   "execution_count": 21,
   "metadata": {},
   "outputs": [
    {
     "data": {
      "image/png": "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",
      "text/plain": [
       "<Figure size 640x480 with 1 Axes>"
      ]
     },
     "metadata": {},
     "output_type": "display_data"
    }
   ],
   "source": [
    "clubs['stadium_seats'].hist(bins=20)\n",
    "plt.title('Stadium Capacity Distribution')\n",
    "plt.xlabel('Stadium Seats')\n",
    "plt.ylabel('Frequency')\n",
    "plt.show()"
   ]
  },
  {
   "cell_type": "markdown",
   "metadata": {},
   "source": [
    "2.3. Comparison of Foreign Players V/s National Players"
   ]
  },
  {
   "cell_type": "code",
   "execution_count": 22,
   "metadata": {},
   "outputs": [
    {
     "data": {
      "image/png": "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",
      "text/plain": [
       "<Figure size 640x480 with 1 Axes>"
      ]
     },
     "metadata": {},
     "output_type": "display_data"
    }
   ],
   "source": [
    "foreigners_vs_nationals = clubs[['foreigners_number', 'national_team_players']].sum()\n",
    "ax = foreigners_vs_nationals.plot(kind='bar', title='Foreign Players vs National Players in Clubs')\n",
    "for p in ax.patches:\n",
    "    ax.annotate(f'{int(p.get_height())}', \n",
    "                (p.get_x() + p.get_width() / 2., p.get_height()), \n",
    "                ha='center', \n",
    "                va='bottom', \n",
    "                fontsize=12)\n",
    "ax.set_ylabel('No. of Players')\n",
    "plt.show()"
   ]
  },
  {
   "cell_type": "markdown",
   "metadata": {},
   "source": [
    "From the bar graph we can infer the following that Clubs are having a significantly higher number of foreign players (4899) compared to national players (2091). The presence of foreign players is more than double that of national players indicating a strong reliance on international talent in these clubs. This also suggests that clubs are heavily investing in foreign players."
   ]
  },
  {
   "cell_type": "markdown",
   "metadata": {},
   "source": [
    "# 3. Games Statistics\n",
    "\n",
    "In this we gain insights into the impact of factors like home advantage. Below we can see the Home vs Away performances."
   ]
  },
  {
   "cell_type": "code",
   "execution_count": 23,
   "metadata": {},
   "outputs": [
    {
     "data": {
      "image/png": "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",
      "text/plain": [
       "<Figure size 640x480 with 1 Axes>"
      ]
     },
     "metadata": {},
     "output_type": "display_data"
    }
   ],
   "source": [
    "\n",
    "# Calculate total goals for home and away clubs\n",
    "home_goals = games.groupby('home_club_id')['home_club_goals'].sum().reset_index()\n",
    "away_goals = games.groupby('away_club_id')['away_club_goals'].sum().reset_index()\n",
    "\n",
    "# Rename columns for clarity\n",
    "home_goals.rename(columns={'home_club_goals': 'goals_home'}, inplace=True)\n",
    "away_goals.rename(columns={'away_club_goals': 'goals_away'}, inplace=True)\n",
    "\n",
    "# Combine the two DataFrames\n",
    "goals = pd.merge(home_goals, away_goals, left_on='home_club_id', right_on='away_club_id', how='outer')\n",
    "goals.fillna(0, inplace=True)\n",
    "\n",
    "# Calculate total goals (home + away) for sorting\n",
    "goals['total_goals'] = goals['goals_home'] + goals['goals_away']\n",
    "\n",
    "# Sort by total goals and select the top 20 clubs\n",
    "top_goals = goals.sort_values(by='total_goals', ascending=False).head(20)\n",
    "\n",
    "# Plotting\n",
    "top_goals.set_index('home_club_id', inplace=True)\n",
    "top_goals[['goals_home', 'goals_away']].plot(kind='bar', stacked=True)\n",
    "plt.title('Top 20 Clubs: Home vs Away Goals')\n",
    "plt.xlabel('Club ID')\n",
    "plt.ylabel('Total Goals')\n",
    "plt.legend(title='Goal Type')\n",
    "plt.show()\n",
    "\n"
   ]
  },
  {
   "cell_type": "markdown",
   "metadata": {},
   "source": [
    "From the above grapgh is can understand that in most cases, matches where won by the Home Team rather than the Away Team."
   ]
  },
  {
   "cell_type": "markdown",
   "metadata": {},
   "source": [
    "# 4. Valuations over time\n",
    "\n",
    "Here we analyze changes over time in performance, market value, and participation, identifying significant trends and patterns across seasons or players."
   ]
  },
  {
   "cell_type": "markdown",
   "metadata": {},
   "source": [
    "4.1 Here we can see the Player valuations over the years."
   ]
  },
  {
   "cell_type": "code",
   "execution_count": 24,
   "metadata": {},
   "outputs": [
    {
     "data": {
      "image/png": "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",
      "text/plain": [
       "<Figure size 1000x600 with 1 Axes>"
      ]
     },
     "metadata": {},
     "output_type": "display_data"
    }
   ],
   "source": [
    "player_valuations['date'] = pd.to_datetime(player_valuations['date'], format=\"%Y-%m-%d\")\n",
    "player_valuations['year'] = player_valuations['date'].dt.year\n",
    "\n",
    "player_valuations_new = player_valuations[(player_valuations.year > 2004) & (player_valuations.year < 2023)]\n",
    "high_value_player_valuations_new = player_valuations_new[(player_valuations_new.market_value_in_eur > 40000000)]\n",
    "positions = players.position.unique()\n",
    "\n",
    "average_value = player_valuations_new['market_value_in_eur'].mean() / 1000000  # Convert to million euros\n",
    "\n",
    "plt.figure(figsize=(10,6))\n",
    "plt.scatter(player_valuations_new['date'], player_valuations_new['market_value_in_eur'] / 1000000, c='magenta', alpha=0.15)\n",
    "plt.axhline(y=average_value, color='blue', linestyle='--', linewidth=2, label=f'Average Value: {average_value:.2f} Million Euros')\n",
    "plt.xlabel('Years')\n",
    "plt.ylabel('Player Valuation in Million Euros')\n",
    "plt.title('Player Valuations over the years', fontsize=28)\n",
    "plt.legend()\n",
    "plt.show()"
   ]
  },
  {
   "cell_type": "markdown",
   "metadata": {},
   "source": [
    "From the figure it is evident that Player Evaluations are increasing over the years and the average value lies as 2.28 Million Euros."
   ]
  },
  {
   "cell_type": "markdown",
   "metadata": {},
   "source": [
    "4.2 Here we can see the Player valuations over the years."
   ]
  },
  {
   "cell_type": "code",
   "execution_count": 25,
   "metadata": {},
   "outputs": [
    {
     "data": {
      "image/png": "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",
      "text/plain": [
       "<Figure size 1000x600 with 2 Axes>"
      ]
     },
     "metadata": {},
     "output_type": "display_data"
    }
   ],
   "source": [
    "from matplotlib import pyplot as plt\n",
    "player_valuations['date'] = pd.to_datetime(player_valuations['date'], format=\"%Y-%m-%d\")\n",
    "player_valuations['year'] = player_valuations['date'].dt.year\n",
    "\n",
    "player_valuations_new = player_valuations[(player_valuations.year > 2004) & (player_valuations.year < 2023)]\n",
    "f = plt.figure(figsize=(10,6))\n",
    "ax = f.add_subplot(121)\n",
    "ax2 = f.add_subplot(122)\n",
    "yeargroups1 = player_valuations_new.loc[:,['market_value_in_eur', 'year']].groupby(['year']).count() \\\n",
    "    .sort_values(by='year', ascending=True)\n",
    "yeargroups2 = player_valuations_new.loc[:,['market_value_in_eur', 'year']] .groupby(['year']).sum() \\\n",
    "    .sort_values(by='year', ascending=True)\n",
    "yeargroups3 = player_valuations_new.loc[:,['market_value_in_eur', 'year']].groupby(['year']).max() \\\n",
    "    .sort_values(by='year', ascending=True)\n",
    "yeargroups4 = player_valuations_new.loc[:,['market_value_in_eur', 'year']] .groupby(['year']).min() \\\n",
    "    .sort_values(by='year', ascending=True)\n",
    "yeargroups5 = player_valuations_new.loc[:,['market_value_in_eur', 'year']].groupby(['year']).median() \\\n",
    "    .sort_values(by='year', ascending=True)\n",
    "yeargroups6 = player_valuations_new.loc[:,['market_value_in_eur', 'year']].groupby(['year']).mean() \\\n",
    "    .sort_values(by='year', ascending=True)\n",
    "\n",
    "\n",
    "plt.subplot(1, 2, 1)\n",
    "plt.title('No. of Player Valuations recorded per year')\n",
    "plt.plot(yeargroups1.index, yeargroups1, color='green')\n",
    "plt.ylabel('Market Value in Million Euros')\n",
    "\n",
    "plt.subplot(1, 2, 2)\n",
    "plt.title('Sum of Player Valuations recorded per year')\n",
    "plt.plot(yeargroups2.index, yeargroups2 / 1000000, color='blue')\n",
    "plt.ylabel('Market Value in Million Euros')\n",
    "plt.show()"
   ]
  },
  {
   "cell_type": "markdown",
   "metadata": {},
   "source": [
    "From the above image 1 we can see that the the count of player evalautions has increased drastically over the years and from Image 2 we can see the amount of Player Evaluations have also increased drastically over the years."
   ]
  },
  {
   "cell_type": "markdown",
   "metadata": {},
   "source": [
    "# Finish"
   ]
  },
  {
   "cell_type": "markdown",
   "metadata": {},
   "source": [
    "## 1 Player mean and red cards"
   ]
  },
  {
   "cell_type": "markdown",
   "metadata": {},
   "source": [
    "# Data Preprocessing: Feature Engineering, Data Transformation, and Cleaning\n",
    "\n",
    "In this phase, we prepare the dataset for accurate match outcome predictions by engineering features, transforming raw data, selecting relevant variables, merging multiple datasets, and  cleaning the data. "
   ]
  },
  {
   "cell_type": "markdown",
   "metadata": {},
   "source": [
    "## Feature Engineering: Player Data with Additional Features\n",
    "\n",
    "This step focuses on improving the player dataset by adding performance metrics.\n",
    "\n",
    "1. **Loading and Merging Player Data**: Player appearances, details, valuations, and game lineups are loaded and merged. The most recent valuations and positions are extracted to ensure we have up-to-date data for each player.\n",
    "\n",
    "2. **Aggregating Player Statistics**: We aggregate player stats such as goals, assists, yellow and red cards, and minutes played. Players with fewer than 1000 minutes are filtered out.\n",
    "\n",
    "3. **Per-Minute Performance Metrics**: Goals, assists, and cards are normalized by minutes played, and extreme values are capped for better visualization.\n",
    "\n",
    "4. **Performance Score Calculation**: A weighted performance score is computed (60% for goals, 30% for assists, 10% for cards) to rank players based on their contributions.\n",
    "\n",
    "5. **Merging Additional Features**: Recent valuations and positions are merged into the dataset, finalizing the player stats for analysis.\n",
    "\n"
   ]
  },
  {
   "cell_type": "code",
<<<<<<< HEAD
   "execution_count": 26,
   "metadata": {},
   "outputs": [
    {
     "name": "stdout",
     "output_type": "stream",
     "text": [
      "   player_id            name current_club_domestic_competition_id  \\\n",
      "0         10  Miroslav Klose                                  IT1   \n",
      "\n",
      "   current_club_id  yellow_cards  red_cards  goals  assists  minutes_played  \\\n",
      "0              398            19          0     48       25            8808   \n",
      "\n",
      "   yellow_cards_per_minute  ...  goals_per_minute_mean  \\\n",
      "0                 0.002157  ...               0.006194   \n",
      "\n",
      "   assists_per_minute_std  assists_per_minute_mean  \\\n",
      "0                 0.01163                 0.003627   \n",
      "\n",
      "   yellow_cards_per_minute_std  yellow_cards_per_minute_mean  \\\n",
      "0                     0.005105                      0.001925   \n",
      "\n",
      "   red_cards_per_minute_std  red_cards_per_minute_mean  market_value_in_eur  \\\n",
      "0                       0.0                        0.0              1000000   \n",
      "\n",
      "         position  performance_score  \n",
      "0  Centre-Forward           0.004337  \n",
      "\n",
      "[1 rows x 24 columns]\n"
     ]
    }
   ],
=======
   "execution_count": 2,
   "metadata": {},
   "outputs": [],
>>>>>>> a31d8637192517c8b073b88883559eb789a03f90
   "source": [
    "import pandas as pd\n",
    "\n",
    "# Load the appearance, player, and valuation data\n",
    "df_appearances = pd.read_csv(\"./data/appearances.csv\")\n",
    "df_players = pd.read_csv(\"./data/players.csv\")\n",
    "df_valuations = pd.read_csv(\"./data/player_valuations.csv\")  \n",
    "df_valuations['date'] = pd.to_datetime(df_valuations['date'])  \n",
    "df_game_lineups = pd.read_csv(\"./data/game_lineups.csv\")\n",
    "\n",
    "# Extract the most recent valuation for each player\n",
    "df_recent_valuations = df_valuations.sort_values(by='date').groupby('player_id').tail(1)\n",
    "df_recent_position = df_game_lineups.sort_values(by='date').groupby('player_id').tail(1)[['player_id', 'position']]  \n",
    "\n",
    "# Merge the filtered appearances data with the players data to include league info\n",
    "df_merged = pd.merge(df_appearances, df_players[['player_id', 'current_club_domestic_competition_id','current_club_id', 'name']], on='player_id')\n",
    "\n",
    "# Group by 'player_id', 'name', and 'current_club_domestic_competition_id' (league) and sum the relevant stats\n",
    "player_stats = df_merged.groupby(['player_id', 'name', 'current_club_domestic_competition_id', 'current_club_id']).agg({\n",
    "    'yellow_cards': 'sum',\n",
    "    'red_cards': 'sum',\n",
    "    'goals': 'sum',\n",
    "    'assists': 'sum',\n",
    "    'minutes_played': 'sum'\n",
    "}).reset_index()\n",
    "\n",
    "# Filter out players who have played fewer than 11-12 full matches\n",
    "min_minutes_threshold = 1000\n",
    "player_stats = player_stats[player_stats['minutes_played'] >= min_minutes_threshold]\n",
    "\n",
    "# Calculate the average yellow cards, red cards, goals, and assists per minute played\n",
    "player_stats['yellow_cards_per_minute'] = player_stats['yellow_cards'] / player_stats['minutes_played']\n",
    "player_stats['red_cards_per_minute'] = player_stats['red_cards'] / player_stats['minutes_played']\n",
    "player_stats['goals_per_minute'] = player_stats['goals'] / player_stats['minutes_played']\n",
    "player_stats['assists_per_minute'] = player_stats['assists'] / player_stats['minutes_played']\n",
    "\n",
    "# Cap extreme values for better visualization\n",
    "player_stats['yellow_cards_per_minute'] = player_stats['yellow_cards_per_minute'].clip(upper=0.05)\n",
    "player_stats['red_cards_per_minute'] = player_stats['red_cards_per_minute'].clip(upper=0.05)\n",
    "player_stats['goals_per_minute'] = player_stats['goals_per_minute'].clip(upper=0.05)\n",
    "player_stats['assists_per_minute'] = player_stats['assists_per_minute'].clip(upper=0.05)\n",
    "\n",
    "# Calculate per-minute stats for each match\n",
    "df_merged['goals_per_minute'] = df_merged['goals'] / df_merged['minutes_played']\n",
    "df_merged['assists_per_minute'] = df_merged['assists'] / df_merged['minutes_played']\n",
    "df_merged['yellow_cards_per_minute'] = df_merged['yellow_cards'] / df_merged['minutes_played']\n",
    "df_merged['red_cards_per_minute'] = df_merged['red_cards'] / df_merged['minutes_played']\n",
    "\n",
    "# Group by 'player_id' and calculate the standard deviation and mean for per-minute stats\n",
    "player_variance_stats_per_minute = df_merged.groupby('player_id').agg({\n",
    "    'goals_per_minute': ['std', 'mean'],\n",
    "    'assists_per_minute': ['std', 'mean'],\n",
    "    'yellow_cards_per_minute': ['std', 'mean'],\n",
    "    'red_cards_per_minute': ['std', 'mean']\n",
    "}).reset_index()\n",
    "\n",
    "# Flatten the column names\n",
    "player_variance_stats_per_minute.columns = ['player_id', 'goals_per_minute_std', 'goals_per_minute_mean',\n",
    "                                            'assists_per_minute_std', 'assists_per_minute_mean',\n",
    "                                            'yellow_cards_per_minute_std', 'yellow_cards_per_minute_mean',\n",
    "                                            'red_cards_per_minute_std', 'red_cards_per_minute_mean']\n",
    "\n",
    "# Merge the variance stats per minute with the original player_stats\n",
    "player_stats = pd.merge(player_stats, player_variance_stats_per_minute, on='player_id')\n",
    "\n",
    "# Merge the most recent player valuations into the player_stats dataframe\n",
    "player_stats = pd.merge(player_stats, df_recent_valuations[['player_id', 'market_value_in_eur']], on='player_id')\n",
    "\n",
    "# Merge the most recent player position into the player_stats dataframe\n",
    "player_stats = pd.merge(player_stats, df_recent_position, on='player_id', how='left')\n",
    "\n",
    "# Define a ranking metric (performance score)\n",
    "player_stats['performance_score'] = (\n",
    "    player_stats['goals_per_minute'] * 0.6 +  \n",
    "    player_stats['assists_per_minute'] * 0.3 +  \n",
    "    player_stats['yellow_cards_per_minute'] * 0.1  \n",
    ")\n"
   ]
  },
  {
   "cell_type": "markdown",
   "metadata": {},
   "source": [
    "# Data Transformation: Player Position Mapping\n",
    "\n",
    "In this step, we map specific player positions to broader categories: 'Goalkeeper', 'Defenders', 'Midfielders', and 'Attackers'. This transformation makes it easier to analyze player roles across teams"
   ]
  },
  {
   "cell_type": "code",
<<<<<<< HEAD
   "execution_count": 27,
=======
   "execution_count": 3,
>>>>>>> a31d8637192517c8b073b88883559eb789a03f90
   "metadata": {},
   "outputs": [],
   "source": [
    "\n",
    "# Create the position mapping\n",
    "position_mapping = {\n",
    "    'Goalkeeper': ['Goalkeeper'],\n",
    "    'Defenders': ['Centre-Back', 'Left-Back', 'Right-Back', 'Sweeper', 'Defensive Midfield'],\n",
    "    'Midfielders': ['Central Midfield', 'Left Midfield', 'Right Midfield', 'Attacking Midfield', 'midfield'],\n",
    "    'Attackers': ['Centre-Forward', 'Left Winger', 'Right Winger', 'Second Striker', 'Attack']\n",
    "}\n",
    "\n",
    "# Function to map positions\n",
    "def map_position(pos):\n",
    "    for key, values in position_mapping.items():\n",
    "        if pos in values:\n",
    "            return key\n",
    "    return \"Unknown\"\n",
    "\n",
    "# Apply the mapping\n",
    "player_stats['position'] = player_stats['position'].apply(map_position)\n"
   ]
  },
  {
   "cell_type": "markdown",
   "metadata": {},
   "source": [
    "## Feature Selection: Player Data, Team Data, Competitions Data, and Match Most Relevant Features\n",
    "\n",
    "In this step, to reduce complexity, we identify the most important features from player, team, competitions, and match data to create a dataset targeted at predicting match outcomes.\n",
    "\n",
    "1. **Player Data**: From the previous feature engineering.\n",
    "   - **goals**, **yellow cards**, and **red cards**\n",
    "   - **performance score**\n",
    "   - **market value in euros**\n",
    "   - **position**\n",
    "   - **current club ID**\n",
    "\n",
    "2. **Team Data**: From the club dataset.\n",
    "   - **domestic competition ID**\n",
    "   - **average age**\n",
    "   - **foreigners percentage**\n",
    "   - **stadium name**\n",
    "   - **coach name**\n",
    "   - **net transfer record** and **total market value**\n",
    "\n",
    "3. **Competitions Data**: From the competitions dataset.\n",
    "   - **competition ID**\n",
    "   - **country ID**\n",
    "\n",
    "4. **Match Data**: From the games dataset\n",
    "   - **home and away team statistics**\n",
    "   - **game outcomes**\n"
   ]
  },
  {
   "cell_type": "code",
<<<<<<< HEAD
   "execution_count": 28,
   "metadata": {},
   "outputs": [
    {
     "name": "stdout",
     "output_type": "stream",
     "text": [
      "Data loaded successfully!\n",
      "Merged club data successfully!\n",
      "Merged competition data successfully!\n",
      "\n",
      "Final dataframe with player columns:\n",
      "   game_id competition_id  season        round        date  home_club_id  \\\n",
      "0  2321044             L1    2013  2. Matchday  2013-08-18            16   \n",
      "\n",
      "   away_club_id  home_club_goals  away_club_goals  home_club_position  \\\n",
      "0            23                2                1                 1.0   \n",
      "\n",
      "   away_club_position home_club_manager_name away_club_manager_name  \\\n",
      "0                15.0           Jürgen Klopp   Torsten Lieberknecht   \n",
      "\n",
      "             stadium  attendance       referee  \\\n",
      "0  SIGNAL IDUNA PARK     80200.0  Peter Sippel   \n",
      "\n",
      "                                                 url home_club_formation  \\\n",
      "0  https://www.transfermarkt.co.uk/borussia-dortm...             4-2-3-1   \n",
      "\n",
      "  away_club_formation     home_club_name          away_club_name aggregate  \\\n",
      "0             4-3-2-1  Borussia Dortmund  Eintracht Braunschweig       2:1   \n",
      "\n",
      "  competition_type  home_team_club_id home_team_domestic_competition_id  \\\n",
      "0  domestic_league               16.0                                L1   \n",
      "\n",
      "   home_team_average_age  home_team_foreigners_percentage  \\\n",
      "0                   24.7                             45.8   \n",
      "\n",
      "  home_team_stadium_name  home_team_coach_name home_team_net_transfer_record  \\\n",
      "0      SIGNAL IDUNA PARK                   NaN                      €-46.40m   \n",
      "\n",
      "   home_team_total_market_value  away_team_club_id  \\\n",
      "0                           NaN               23.0   \n",
      "\n",
      "  away_team_domestic_competition_id  away_team_average_age  \\\n",
      "0                                L1                   25.6   \n",
      "\n",
      "   away_team_foreigners_percentage away_team_stadium_name  \\\n",
      "0                             36.7      EINTRACHT-Stadion   \n",
      "\n",
      "   away_team_coach_name away_team_net_transfer_record  \\\n",
      "0                   NaN                        +€750k   \n",
      "\n",
      "   away_team_total_market_value home_team_competition_id  \\\n",
      "0                           NaN                       L1   \n",
      "\n",
      "   home_team_country_id away_team_competition_id  away_team_country_id  \\\n",
      "0                  40.0                       L1                  40.0   \n",
      "\n",
      "   home_player_1_id  home_player_1_goals  home_player_1_yellow_cards  \\\n",
      "0           59238.0                  1.0                        15.0   \n",
      "\n",
      "   home_player_1_red_cards  home_player_1_performance_score  \\\n",
      "0                      0.0                         0.000115   \n",
      "\n",
      "   home_player_1_market_value_in_eur home_player_1_position  \\\n",
      "0                           200000.0             Goalkeeper   \n",
      "\n",
      "   home_player_1_current_club_id  home_player_2_id  home_player_2_goals  \\\n",
      "0                           16.0           82873.0                 38.0   \n",
      "\n",
      "   home_player_2_yellow_cards  home_player_2_red_cards  \\\n",
      "0                        42.0                      0.0   \n",
      "\n",
      "   home_player_2_performance_score  home_player_2_market_value_in_eur  \\\n",
      "0                         0.001785                          8000000.0   \n",
      "\n",
      "  home_player_2_position  home_player_2_current_club_id  home_player_3_id  \\\n",
      "0              Defenders                           16.0          627228.0   \n",
      "\n",
      "   home_player_3_goals  home_player_3_yellow_cards  home_player_3_red_cards  \\\n",
      "0                  4.0                        17.0                      0.0   \n",
      "\n",
      "   home_player_3_performance_score  home_player_3_market_value_in_eur  \\\n",
      "0                          0.00139                         25000000.0   \n",
      "\n",
      "  home_player_3_position  home_player_3_current_club_id  home_player_4_id  \\\n",
      "0              Defenders                           16.0          119296.0   \n",
      "\n",
      "   home_player_4_goals  home_player_4_yellow_cards  home_player_4_red_cards  \\\n",
      "0                 39.0                       103.0                      2.0   \n",
      "\n",
      "   home_player_4_performance_score  home_player_4_market_value_in_eur  \\\n",
      "0                         0.001381                         10000000.0   \n",
      "\n",
      "  home_player_4_position  home_player_4_current_club_id  home_player_5_id  \\\n",
      "0              Defenders                           16.0           35207.0   \n",
      "\n",
      "   home_player_5_goals  home_player_5_yellow_cards  home_player_5_red_cards  \\\n",
      "0                170.0                        41.0                      1.0   \n",
      "\n",
      "   home_player_5_performance_score  home_player_5_market_value_in_eur  \\\n",
      "0                         0.004585                          5000000.0   \n",
      "\n",
      "  home_player_5_position  home_player_5_current_club_id  home_player_6_id  \\\n",
      "0            Midfielders                           16.0          578392.0   \n",
      "\n",
      "   home_player_6_goals  home_player_6_yellow_cards  home_player_6_red_cards  \\\n",
      "0                 18.0                         2.0                      0.0   \n",
      "\n",
      "   home_player_6_performance_score  home_player_6_market_value_in_eur  \\\n",
      "0                         0.004171                         30000000.0   \n",
      "\n",
      "  home_player_6_position  home_player_6_current_club_id  home_player_7_id  \\\n",
      "0            Midfielders                           16.0          504215.0   \n",
      "\n",
      "   home_player_7_goals  home_player_7_yellow_cards  home_player_7_red_cards  \\\n",
      "0                 17.0                         8.0                      0.0   \n",
      "\n",
      "   home_player_7_performance_score  home_player_7_market_value_in_eur  \\\n",
      "0                         0.003053                         18000000.0   \n",
      "\n",
      "  home_player_7_position  home_player_7_current_club_id  home_player_8_id  \\\n",
      "0            Midfielders                           16.0          326029.0   \n",
      "\n",
      "   home_player_8_goals  home_player_8_yellow_cards  home_player_8_red_cards  \\\n",
      "0                 90.0                        21.0                      0.0   \n",
      "\n",
      "   home_player_8_performance_score  home_player_8_market_value_in_eur  \\\n",
      "0                         0.004862                         40000000.0   \n",
      "\n",
      "  home_player_8_position  home_player_8_current_club_id  home_player_9_id  \\\n",
      "0              Attackers                           16.0          270541.0   \n",
      "\n",
      "   home_player_9_goals  home_player_9_yellow_cards  home_player_9_red_cards  \\\n",
      "0                 86.0                        24.0                      1.0   \n",
      "\n",
      "   home_player_9_performance_score  home_player_9_market_value_in_eur  \\\n",
      "0                         0.004562                         40000000.0   \n",
      "\n",
      "  home_player_9_position  home_player_9_current_club_id  home_player_10_id  \\\n",
      "0              Attackers                           16.0           496094.0   \n",
      "\n",
      "   home_player_10_goals  home_player_10_yellow_cards  \\\n",
      "0                  16.0                         16.0   \n",
      "\n",
      "   home_player_10_red_cards  home_player_10_performance_score  \\\n",
      "0                       1.0                          0.003635   \n",
      "\n",
      "   home_player_10_market_value_in_eur home_player_10_position  \\\n",
      "0                          28000000.0               Attackers   \n",
      "\n",
      "   home_player_10_current_club_id  away_player_1_id  away_player_1_goals  \\\n",
      "0                            16.0           51053.0                  0.0   \n",
      "\n",
      "   away_player_1_yellow_cards  away_player_1_red_cards  \\\n",
      "0                         0.0                      0.0   \n",
      "\n",
      "   away_player_1_performance_score  away_player_1_market_value_in_eur  \\\n",
      "0                         0.000115                            75000.0   \n",
      "\n",
      "  away_player_1_position  away_player_1_current_club_id  away_player_2_id  \\\n",
      "0             Goalkeeper                           23.0           40116.0   \n",
      "\n",
      "   away_player_2_goals  away_player_2_yellow_cards  away_player_2_red_cards  \\\n",
      "0                  2.0                         4.0                      0.0   \n",
      "\n",
      "   away_player_2_performance_score  away_player_2_market_value_in_eur  \\\n",
      "0                         0.001119                           200000.0   \n",
      "\n",
      "  away_player_2_position  away_player_2_current_club_id  away_player_3_id  \\\n",
      "0              Defenders                           23.0            6287.0   \n",
      "\n",
      "   away_player_3_goals  away_player_3_yellow_cards  away_player_3_red_cards  \\\n",
      "0                  2.0                         2.0                      0.0   \n",
      "\n",
      "   away_player_3_performance_score  away_player_3_market_value_in_eur  \\\n",
      "0                         0.000859                           250000.0   \n",
      "\n",
      "  away_player_3_position  away_player_3_current_club_id  away_player_4_id  \\\n",
      "0              Defenders                           23.0           55597.0   \n",
      "\n",
      "   away_player_4_goals  away_player_4_yellow_cards  away_player_4_red_cards  \\\n",
      "0                  0.0                         1.0                      0.0   \n",
      "\n",
      "   away_player_4_performance_score  away_player_4_market_value_in_eur  \\\n",
      "0                         0.000071                           300000.0   \n",
      "\n",
      "  away_player_4_position  away_player_4_current_club_id  away_player_5_id  \\\n",
      "0              Defenders                           23.0           34232.0   \n",
      "\n",
      "   away_player_5_goals  away_player_5_yellow_cards  away_player_5_red_cards  \\\n",
      "0                  4.0                         4.0                      0.0   \n",
      "\n",
      "   away_player_5_performance_score  away_player_5_market_value_in_eur  \\\n",
      "0                         0.001916                           100000.0   \n",
      "\n",
      "  away_player_5_position  away_player_5_current_club_id  away_player_6_id  \\\n",
      "0            Midfielders                           23.0           36255.0   \n",
      "\n",
      "   away_player_6_goals  away_player_6_yellow_cards  away_player_6_red_cards  \\\n",
      "0                  1.0                         7.0                      0.0   \n",
      "\n",
      "   away_player_6_performance_score  away_player_6_market_value_in_eur  \\\n",
      "0                         0.001077                           125000.0   \n",
      "\n",
      "  away_player_6_position  away_player_6_current_club_id  away_player_7_id  \\\n",
      "0            Midfielders                           23.0           42974.0   \n",
      "\n",
      "   away_player_7_goals  away_player_7_yellow_cards  away_player_7_red_cards  \\\n",
      "0                  1.0                         4.0                      0.0   \n",
      "\n",
      "   away_player_7_performance_score  away_player_7_market_value_in_eur  \\\n",
      "0                         0.000906                           350000.0   \n",
      "\n",
      "  away_player_7_position  away_player_7_current_club_id  away_player_8_id  \\\n",
      "0            Midfielders                           23.0           31451.0   \n",
      "\n",
      "   away_player_8_goals  away_player_8_yellow_cards  away_player_8_red_cards  \\\n",
      "0                  3.0                         2.0                      0.0   \n",
      "\n",
      "   away_player_8_performance_score  away_player_8_market_value_in_eur  \\\n",
      "0                         0.001308                           275000.0   \n",
      "\n",
      "  away_player_8_position  away_player_8_current_club_id  away_player_9_id  \\\n",
      "0              Attackers                           23.0               NaN   \n",
      "\n",
      "   away_player_9_goals  away_player_9_yellow_cards  away_player_9_red_cards  \\\n",
      "0                  NaN                         NaN                      NaN   \n",
      "\n",
      "   away_player_9_performance_score  away_player_9_market_value_in_eur  \\\n",
      "0                              NaN                                NaN   \n",
      "\n",
      "  away_player_9_position  away_player_9_current_club_id  away_player_10_id  \\\n",
      "0                    NaN                            NaN                NaN   \n",
      "\n",
      "   away_player_10_goals  away_player_10_yellow_cards  \\\n",
      "0                   NaN                          NaN   \n",
      "\n",
      "   away_player_10_red_cards  away_player_10_performance_score  \\\n",
      "0                       NaN                               NaN   \n",
      "\n",
      "   away_player_10_market_value_in_eur away_player_10_position  \\\n",
      "0                                 NaN                     NaN   \n",
      "\n",
      "   away_player_10_current_club_id  \n",
      "0                             NaN  \n"
     ]
    }
   ],
=======
   "execution_count": 4,
   "metadata": {},
   "outputs": [],
>>>>>>> a31d8637192517c8b073b88883559eb789a03f90
   "source": [
    "data_files = {\n",
    "    \"appearances\": './data/appearances.csv',\n",
    "    \"club_games\": './data/club_games.csv',\n",
    "    \"clubs\": './data/clubs.csv',\n",
    "    \"competitions\": './data/competitions.csv',\n",
    "    \"game_events\": './data/game_events.csv',\n",
    "    \"game_lineups\": './data/game_lineups.csv',\n",
    "    \"games\": './data/games.csv',\n",
    "    \"player_valuations\": './data/player_valuations.csv',\n",
    "    \"players\": './data/players.csv',\n",
    "    \"transfers\": './data/transfers.csv'\n",
    "}\n",
    "\n",
    "dfs = {key: pd.read_csv(path) for key, path in data_files.items()}\n",
    "\n",
    "games_df = dfs['games']\n",
    "player_stats = player_stats[['player_id', 'goals', 'yellow_cards', 'red_cards', 'performance_score', 'market_value_in_eur', 'position', 'current_club_id']]\n",
    "clubs_df = dfs['clubs'][['club_id', 'domestic_competition_id', 'average_age', 'foreigners_percentage', 'stadium_name', 'coach_name','net_transfer_record','total_market_value']]\n",
    "competitions_df = dfs['competitions'][['competition_id', 'country_id']]"
   ]
  },
  {
   "cell_type": "markdown",
   "metadata": {},
   "source": [
    "## Dataset Merging: Relevant Player, Team, and Competition Features for Each Match\n",
    "\n",
    "In this step, we merge data from multiple sources—player performance, team statistics, and competition details—to build a rich and complete view of every match for match outcome prediction. To account for player details, we include 10 players per team in each match, ordered by position: 1 goalkeeper, 3 defenders, 3 midfielders, and 3 attackers."
   ]
  },
  {
   "cell_type": "code",
   "execution_count": 5,
   "metadata": {},
   "outputs": [],
   "source": [
    "\n",
    "## Merging club data\n",
    "home_club_df = clubs_df.rename(columns=lambda x: f\"home_team_{x}\")\n",
    "away_club_df = clubs_df.rename(columns=lambda x: f\"away_team_{x}\")\n",
    "merged_df = pd.merge(games_df, home_club_df, left_on='home_club_id', right_on='home_team_club_id', how='left')\n",
    "merged_df = pd.merge(merged_df, away_club_df, left_on='away_club_id', right_on='away_team_club_id', how='left')\n",
    "\n",
    "## Merging competition data\n",
    "home_competition_df = competitions_df.rename(columns=lambda x: f\"home_team_{x}\")\n",
    "away_competition_df = competitions_df.rename(columns=lambda x: f\"away_team_{x}\")\n",
    "merged_df = pd.merge(merged_df, home_competition_df, left_on='home_team_domestic_competition_id', right_on='home_team_competition_id', how='left')\n",
    "merged_df = pd.merge(merged_df, away_competition_df, left_on='away_team_domestic_competition_id', right_on='away_team_competition_id', how='left')\n",
    "\n",
    "# Define the top player count per position category\n",
    "top_counts = {\n",
    "    'Goalkeeper': 1,\n",
    "    'Defenders': 3,\n",
    "    'Midfielders': 3,\n",
    "    'Attackers': 3\n",
    "}\n",
    "\n",
    "# Mapping of positions to numeric values\n",
    "position_mapping_numeric = {'Goalkeeper': 1, 'Defenders': 2, 'Midfielders': 3, 'Attackers': 4}\n",
    "\n",
    "# Function to get top players for home and away teams\n",
    "def get_top_players_optimized(df, merged_df, top_counts):\n",
    "\n",
    "    home_club_ids = merged_df['home_club_id'].unique()\n",
    "    away_club_ids = merged_df['away_club_id'].unique()\n",
    "    \n",
    "    home_players = df[df['current_club_id'].isin(home_club_ids)]\n",
    "    away_players = df[df['current_club_id'].isin(away_club_ids)]\n",
    "\n",
    "    player_data_list = []\n",
    "\n",
    "    for i, row in merged_df.iterrows():\n",
    "\n",
    "        home_top_players = home_players[home_players['current_club_id'] == row['home_club_id']]\n",
    "        away_top_players = away_players[away_players['current_club_id'] == row['away_club_id']]\n",
    "\n",
    "        home_player_data = assign_top_players(home_top_players, 'home', i, top_counts)\n",
    "        away_player_data = assign_top_players(away_top_players, 'away', i, top_counts)\n",
    "        \n",
    "        player_data_list.append({**home_player_data, **away_player_data})\n",
    "    \n",
    "    player_data_df = pd.DataFrame(player_data_list)\n",
    "\n",
    "    merged_df = pd.concat([merged_df, player_data_df], axis=1)\n",
    "    \n",
    "    return merged_df\n",
    "\n",
    "# Function to assign top players to columns\n",
    "def assign_top_players(top_players, prefix, row_index, top_counts):\n",
    "    positions = ['Goalkeeper', 'Defenders', 'Midfielders', 'Attackers']\n",
    "    top_players_list = [\n",
    "        top_players[top_players['position'] == position].nlargest(top_counts[position], 'performance_score')\n",
    "        for position in positions if position in top_players['position'].values\n",
    "    ]\n",
    "    \n",
    "    top_players = pd.concat(top_players_list, ignore_index=True) if top_players_list else pd.DataFrame()\n",
    "    \n",
    "    player_data = {}\n",
    "    \n",
    "    for i, player in enumerate(top_players.itertuples(), 1):\n",
    "        player_data[f'{prefix}_player_{i}_id'] = player.player_id\n",
    "        player_data[f'{prefix}_player_{i}_goals'] = player.goals\n",
    "        player_data[f'{prefix}_player_{i}_yellow_cards'] = player.yellow_cards\n",
    "        player_data[f'{prefix}_player_{i}_red_cards'] = player.red_cards\n",
    "        player_data[f'{prefix}_player_{i}_performance_score'] = player.performance_score\n",
    "        player_data[f'{prefix}_player_{i}_market_value_in_eur'] = player.market_value_in_eur\n",
    "        player_data[f'{prefix}_player_{i}_position'] = player.position\n",
    "        player_data[f'{prefix}_player_{i}_current_club_id'] = player.current_club_id\n",
    "        \n",
    "        if i == 10:  \n",
    "            break\n",
    "\n",
    "    return player_data\n",
    "\n",
    "## Merging player data\n",
    "merged_df = get_top_players_optimized(player_stats, merged_df, top_counts)"
   ]
  },
  {
   "cell_type": "markdown",
   "metadata": {},
   "source": [
    "## Data Cleaning: Preparing for analysis\n",
    "\n",
    "This step focuses on preparing the dataset for match-level predictions ML nodels.\n",
    "\n",
    "1. **Dropping Unnecessary Columns**:\n",
    "   I removed irrelevant columns such as coach names and club IDs that were either duplicated or not useful for predictions.\n",
    "\n",
    "2. **Handling Missing Values**:\n",
    "   I filled missing values for key columns like player positions, manager names, and stadiums with default values like 'Unknown'. For numerical columns like attendance and team average age, I used the median value to fill gaps.\n",
    "\n",
    "3. **Converting Monetary Values**:\n",
    "   I converted transfer record data from strings (e.g., \"€1.5m\") to numerical values to standardize the dataset and filled any missing transfer records with the median value.\n",
    "\n",
    "4. **Handling Missing Player and Competition Data**:\n",
    "   Missing values in numeric player-related columns were filled with the mean, while non-numeric and competition-related columns were filled with defaults such as 'Unknown' or 0.\n",
    "\n",
    "5. **Creating Match Outcome Labels**:\n",
    "   I defined the match outcome (win, lose, or tie) based on the number of goals scored by the home and away teams. This serves as the target variable for the prediction model.\n",
    "\n",
    "6. **Validation**:\n",
    "   After processing, I validated the data by checking for any remaining missing values to ensure completeness.\n",
    "\n",
    "7. **Saving the Cleaned Data**:\n",
    "   Finally, I saved the cleaned dataframe for further analysis and model training, confirming that the match outcome and other key features were correctly processed.\n"
   ]
  },
  {
   "cell_type": "code",
<<<<<<< HEAD
   "execution_count": 29,
=======
   "execution_count": 6,
>>>>>>> a31d8637192517c8b073b88883559eb789a03f90
   "metadata": {},
   "outputs": [
    {
     "name": "stderr",
     "output_type": "stream",
     "text": [
<<<<<<< HEAD
      "C:\\Users\\Guruganesh\\AppData\\Local\\Temp\\ipykernel_14644\\1924900742.py:86: PerformanceWarning:\n",
      "\n",
      "DataFrame is highly fragmented.  This is usually the result of calling `frame.insert` many times, which has poor performance.  Consider joining all columns at once using pd.concat(axis=1) instead. To get a de-fragmented frame, use `newframe = frame.copy()`\n",
      "\n"
     ]
    },
    {
     "name": "stdout",
     "output_type": "stream",
     "text": [
      "Missing values after cleaning: game_id                               0.0\n",
      "competition_id                        0.0\n",
      "season                                0.0\n",
      "round                                 0.0\n",
      "date                                  0.0\n",
      "                                     ... \n",
      "away_player_10_performance_score      0.0\n",
      "away_player_10_market_value_in_eur    0.0\n",
      "away_player_10_position               0.0\n",
      "away_player_10_current_club_id        0.0\n",
      "match_outcome                         0.0\n",
      "Length: 196, dtype: float64\n",
      "   home_club_goals  away_club_goals match_outcome\n",
      "0                2                1    win_team_1\n",
      "1                0                2   lose_team_1\n",
      "2                1                1           tie\n",
      "3                0                2   lose_team_1\n",
      "4                2                3   lose_team_1\n"
     ]
=======
      "/var/folders/df/v72c8nlj6sx7p5pyh32jy7_c0000gn/T/ipykernel_77144/3107428121.py:85: PerformanceWarning: DataFrame is highly fragmented.  This is usually the result of calling `frame.insert` many times, which has poor performance.  Consider joining all columns at once using pd.concat(axis=1) instead. To get a de-fragmented frame, use `newframe = frame.copy()`\n",
      "  cleaned_df['match_outcome'] = cleaned_df.apply(lambda row: determine_match_outcome(row['home_club_goals'], row['away_club_goals']), axis=1)\n"
     ]
>>>>>>> a31d8637192517c8b073b88883559eb789a03f90
    }
   ],
   "source": [
    "# Step 1: Drop unnecessary columns\n",
    "columns_to_drop = [\n",
    "    'url', \n",
    "    'home_team_coach_name', 'away_team_coach_name',  \n",
    "    'home_team_club_id', 'away_team_club_id',        \n",
    "    'home_club_name', 'away_club_name',            \n",
    "    'aggregate'\n",
    "]\n",
    "cleaned_df = merged_df.drop(columns=columns_to_drop)\n",
    "\n",
    "# Step 2: Handle missing values\n",
    "\n",
    "# Fill missing positions, manager names, formations, stadiums, and referee with 'Unknown' or a default value\n",
    "cleaned_df.fillna({\n",
    "    'home_club_position': 7,\n",
    "    'away_club_position': 7, # 7 is the default value for unknown. Usually leagues have 15 positions so 7 is the middle\n",
    "    'home_club_manager_name': 'Unknown',\n",
    "    'away_club_manager_name': 'Unknown',\n",
    "    'stadium': 'Unknown',\n",
    "    'home_team_stadium_name': 'Unknown',\n",
    "    'away_team_stadium_name': 'Unknown',\n",
    "    'home_club_formation': 'Unknown',\n",
    "    'away_club_formation': 'Unknown',\n",
    "    'referee': 'Unknown'\n",
    "}, inplace=True)\n",
    "\n",
    "# Fill missing attendance, average age, and foreigners percentage with the median\n",
    "cleaned_df['attendance'] = cleaned_df['attendance'].fillna(cleaned_df['attendance'].median())\n",
    "cleaned_df['home_team_average_age'] = cleaned_df['home_team_average_age'].fillna(cleaned_df['home_team_average_age'].median())\n",
    "cleaned_df['away_team_average_age'] = cleaned_df['away_team_average_age'].fillna(cleaned_df['away_team_average_age'].median())\n",
    "cleaned_df['home_team_foreigners_percentage'] = cleaned_df['home_team_foreigners_percentage'].fillna(cleaned_df['home_team_foreigners_percentage'].median())\n",
    "cleaned_df['away_team_foreigners_percentage'] = cleaned_df['away_team_foreigners_percentage'].fillna(cleaned_df['away_team_foreigners_percentage'].median())\n",
    "\n",
    "# Step 3: Convert monetary values for transfer redords\n",
    "def convert_monetary_value(value):\n",
    "    if isinstance(value, str):\n",
    "        value = value.replace('€', '').replace('+', '').replace(',', '')\n",
    "        if 'm' in value:\n",
    "            return float(value.replace('m', '')) * 1e6\n",
    "        elif 'k' in value:\n",
    "            return float(value.replace('k', '')) * 1e3\n",
    "        else:\n",
    "            return float(value)\n",
    "    return value\n",
    "\n",
    "cleaned_df['home_team_net_transfer_record'] = cleaned_df['home_team_net_transfer_record'].apply(convert_monetary_value)\n",
    "cleaned_df['away_team_net_transfer_record'] = cleaned_df['away_team_net_transfer_record'].apply(convert_monetary_value)\n",
    "\n",
    "# Fill missing values in transfer records and team market value with the median\n",
    "cleaned_df['home_team_net_transfer_record'] = cleaned_df['home_team_net_transfer_record'].fillna(cleaned_df['home_team_net_transfer_record'].median())\n",
    "cleaned_df['away_team_net_transfer_record'] = cleaned_df['away_team_net_transfer_record'].fillna(cleaned_df['away_team_net_transfer_record'].median())\n",
    "cleaned_df = cleaned_df.drop(['home_team_total_market_value', 'away_team_total_market_value'], axis=1)\n",
    "\n",
    "# Step 4: Handle missing values in player and competition columns\n",
    "\n",
    "# Fill missing player-related columns (numeric ones) with their mean\n",
    "player_columns = [col for col in cleaned_df.columns if 'player_' in col]\n",
    "for col in player_columns:\n",
    "    if pd.api.types.is_numeric_dtype(cleaned_df[col]):\n",
    "        cleaned_df[col] = cleaned_df[col].fillna(cleaned_df[col].mean())\n",
    "\n",
    "# Fill remaining missing player-related columns and position-related columns with 0\n",
    "player_columns = [col for col in cleaned_df.columns if 'player_' in col or 'position' in col]\n",
    "cleaned_df[player_columns] = cleaned_df[player_columns].fillna(0)\n",
    "\n",
    "# Fill missing competition-related columns with 'Unknown'\n",
    "competition_columns = [\n",
    "    'home_team_domestic_competition_id', 'away_team_domestic_competition_id',\n",
    "    'home_team_competition_id', 'away_team_competition_id',\n",
    "    'home_team_country_id', 'away_team_country_id'\n",
    "]\n",
    "cleaned_df[competition_columns] = cleaned_df[competition_columns].fillna('Unknown')\n",
    "\n",
    "# Step 5: Create the match outcome column (win_team_1, lose_team_1, tie)\n",
    "\n",
    "def determine_match_outcome(home_goals, away_goals):\n",
    "    if home_goals > away_goals:\n",
    "        return 'win_team_1'  # Home team wins\n",
    "    elif home_goals < away_goals:\n",
    "        return 'lose_team_1'  # Away team wins\n",
    "    else:\n",
    "        return 'tie'  # Match tied\n",
    "\n",
    "# Apply the outcome function to create the new column\n",
    "cleaned_df['match_outcome'] = cleaned_df.apply(lambda row: determine_match_outcome(row['home_club_goals'], row['away_club_goals']), axis=1)\n",
    "\n",
    "# Step 6: Validate the cleaning process by checking for missing values\n",
    "missing_columns = cleaned_df.isnull().sum()\n",
    "\n",
    "# Filter to show only columns with missing values\n",
    "missing_columns = missing_columns[missing_columns > 0]\n",
    "\n",
    "# Step 7: Save the cleaned dataframe if necessary\n",
    "cleaned_df.to_csv('cleaned_data.csv', index=False)"
   ]
  },
  {
   "cell_type": "markdown",
   "metadata": {},
   "source": [
    "# Reusable testing code"
   ]
  },
  {
   "cell_type": "code",
<<<<<<< HEAD
   "execution_count": 30,
=======
   "execution_count": 1,
>>>>>>> a31d8637192517c8b073b88883559eb789a03f90
   "metadata": {},
   "outputs": [
    {
     "name": "stderr",
     "output_type": "stream",
     "text": [
<<<<<<< HEAD
      "C:\\Users\\Guruganesh\\AppData\\Local\\Temp\\ipykernel_14644\\3817862584.py:8: DtypeWarning:\n",
      "\n",
      "Columns (121,129,137,145,153,161,169,177,185,193) have mixed types. Specify dtype option on import or set low_memory=False.\n",
      "\n"
=======
      "/var/folders/df/v72c8nlj6sx7p5pyh32jy7_c0000gn/T/ipykernel_84748/833328674.py:7: DtypeWarning: Columns (119,127,135,143,151,159,167,175,183,191) have mixed types. Specify dtype option on import or set low_memory=False.\n",
      "  df = pd.read_csv('cleaned_data.csv')\n"
>>>>>>> a31d8637192517c8b073b88883559eb789a03f90
     ]
    }
   ],
   "source": [
    "from sklearn.model_selection import train_test_split\n",
    "from sklearn.metrics import classification_report\n",
    "from sklearn.preprocessing import LabelEncoder\n",
    "import pandas as pd\n",
    "\n",
    "# Load the dataset\n",
    "df = pd.read_csv('cleaned_data.csv')\n",
    "\n",
    "# Preprocess only the categorical feature columns \n",
    "categorical_columns = df.drop(['match_outcome'], axis=1).select_dtypes(include=['object']).columns.tolist()\n",
    "label_encoders = {}\n",
    "for column in categorical_columns:\n",
    "    le = LabelEncoder()\n",
    "    df[column] = le.fit_transform(df[column].astype(str))\n",
    "    label_encoders[column] = le\n",
    "\n",
    "# Define features (X) and target (y)\n",
    "X = df.drop(['home_club_goals', 'away_club_goals', 'match_outcome'], axis=1)  # Drop the goal columns and target column\n",
    "y = df['match_outcome']  # Target is the match outcome (win_team_1, lose_team_1, tie)\n",
    "label_encoder = LabelEncoder()\n",
    "y_encoded = label_encoder.fit_transform(y)\n",
    "\n",
    "# Split data into training and test sets\n",
    "X_train, X_test, y_train, y_test = train_test_split(X, y_encoded, test_size=0.3, random_state=42)\n",
    "\n",
    "# Define the reusable evaluation function\n",
    "def evaluate_model(model_name, y_test, y_pred, label_encoder):\n",
    "    print(f\"{model_name} Model Evaluation:\\n\")\n",
    "    print(classification_report(y_test, y_pred, target_names=label_encoder.classes_))"
   ]
  },
  {
   "cell_type": "markdown",
   "metadata": {},
   "source": [
    "# Simple Decision Tree"
   ]
  },
  {
   "cell_type": "code",
<<<<<<< HEAD
   "execution_count": 31,
=======
   "execution_count": 42,
>>>>>>> a31d8637192517c8b073b88883559eb789a03f90
   "metadata": {},
   "outputs": [
    {
     "name": "stdout",
     "output_type": "stream",
     "text": [
      "Decision Tree Model Evaluation:\n",
<<<<<<< HEAD
      "Accuracy: 0.4796802450816141\n",
      "Precision: 0.48142742470920935\n",
      "Recall: 0.4796802450816141\n",
      "F1 Score: 0.48053066668633\n"
=======
      "\n",
      "              precision    recall  f1-score   support\n",
      "\n",
      " lose_team_1       0.48      0.49      0.49      6907\n",
      "         tie       0.28      0.29      0.28      4480\n",
      "  win_team_1       0.58      0.57      0.57      9504\n",
      "\n",
      "    accuracy                           0.48     20891\n",
      "   macro avg       0.45      0.45      0.45     20891\n",
      "weighted avg       0.48      0.48      0.48     20891\n",
      "\n"
>>>>>>> a31d8637192517c8b073b88883559eb789a03f90
     ]
    }
   ],
   "source": [
    "from sklearn.tree import DecisionTreeClassifier\n",
    "# Train a Decision Tree model\n",
    "dt_model = DecisionTreeClassifier(random_state=42)\n",
    "dt_model.fit(X_train, y_train)\n",
    "\n",
    "# Predict outcomes for the test set\n",
    "y_pred_dt = dt_model.predict(X_test)\n",
    "\n",
    "# Evaluate the Decision Tree model\n",
    "evaluate_model(\"Decision Tree\", y_test, y_pred_dt, label_encoder)"
   ]
  },
  {
   "cell_type": "markdown",
   "metadata": {},
   "source": [
    "# Random Forest with Information Gain (Via Entropy)"
   ]
  },
  {
   "cell_type": "code",
<<<<<<< HEAD
   "execution_count": 32,
=======
   "execution_count": 45,
>>>>>>> a31d8637192517c8b073b88883559eb789a03f90
   "metadata": {},
   "outputs": [
    {
     "name": "stdout",
     "output_type": "stream",
     "text": [
<<<<<<< HEAD
      "Accuracy: 0.5362596333349289\n",
      "Precision: 0.5076511986851409\n",
      "Recall: 0.5362596333349289\n",
      "F1 Score: 0.5157743134851279\n"
=======
      "Random Forest (Information Gain) Model Evaluation:\n",
      "\n",
      "              precision    recall  f1-score   support\n",
      "\n",
      " lose_team_1       0.54      0.55      0.54      6907\n",
      "         tie       0.29      0.16      0.20      4480\n",
      "  win_team_1       0.59      0.71      0.64      9504\n",
      "\n",
      "    accuracy                           0.54     20891\n",
      "   macro avg       0.47      0.47      0.46     20891\n",
      "weighted avg       0.51      0.54      0.52     20891\n",
      "\n"
>>>>>>> a31d8637192517c8b073b88883559eb789a03f90
     ]
    }
   ],
   "source": [
    "\n",
    "from sklearn.ensemble import RandomForestClassifier\n",
    "\n",
    "# Train a Random Forest model with Information Gain\n",
    "rf_gini = RandomForestClassifier(criterion='entropy', n_estimators=100, random_state=42)\n",
    "rf_gini.fit(X_train, y_train)\n",
    "\n",
    "# Predict outcomes for the test set\n",
    "y_pred_gini = rf_gini.predict(X_test)\n",
    "\n",
    "# Evaluate the Random Forest model\n",
    "evaluate_model(\"Random Forest (Information Gain)\", y_test, y_pred_gini, label_encoder)"
   ]
  },
  {
   "cell_type": "markdown",
   "metadata": {},
   "source": [
    "# Random Forest with Gini Index"
   ]
  },
  {
   "cell_type": "code",
<<<<<<< HEAD
   "execution_count": 33,
=======
   "execution_count": 44,
>>>>>>> a31d8637192517c8b073b88883559eb789a03f90
   "metadata": {},
   "outputs": [
    {
     "name": "stdout",
     "output_type": "stream",
     "text": [
<<<<<<< HEAD
      "Accuracy: 0.5324302331147384\n",
      "Precision: 0.5047247888536246\n",
      "Recall: 0.5324302331147384\n",
      "F1 Score: 0.512761482611987\n"
=======
      "Random Forest (Gini Index) Model Evaluation:\n",
      "\n",
      "              precision    recall  f1-score   support\n",
      "\n",
      " lose_team_1       0.53      0.54      0.53      6907\n",
      "         tie       0.29      0.16      0.21      4480\n",
      "  win_team_1       0.59      0.70      0.64      9504\n",
      "\n",
      "    accuracy                           0.53     20891\n",
      "   macro avg       0.47      0.47      0.46     20891\n",
      "weighted avg       0.50      0.53      0.51     20891\n",
      "\n"
>>>>>>> a31d8637192517c8b073b88883559eb789a03f90
     ]
    }
   ],
   "source": [
    "# Initialize the Random Forest with Gini Index\n",
    "rf_gini = RandomForestClassifier(criterion='gini', n_estimators=100, random_state=42)\n",
    "\n",
    "# Predict outcomes for the test set\n",
    "rf_gini.fit(X_train, y_train)\n",
    "y_pred_gini = rf_gini.predict(X_test)\n",
    "\n",
    "# Evaluate the Random Forest model\n",
    "evaluate_model(\"Random Forest (Gini Index)\", y_test, y_pred_gini, label_encoder)"
   ]
  },
  {
   "cell_type": "markdown",
   "metadata": {},
   "source": [
    "# Random Forest with Gini Index and Hyperparameter tuning"
   ]
  },
  {
   "cell_type": "code",
<<<<<<< HEAD
   "execution_count": 34,
=======
   "execution_count": 48,
>>>>>>> a31d8637192517c8b073b88883559eb789a03f90
   "metadata": {},
   "outputs": [
    {
     "name": "stdout",
     "output_type": "stream",
     "text": [
      "Fitting 2 folds for each of 10 candidates, totalling 20 fits\n",
<<<<<<< HEAD
      "Best parameters found:  {'bootstrap': True, 'max_depth': 7, 'min_samples_leaf': 3, 'min_samples_split': 4, 'n_estimators': 137}\n",
      "Accuracy: 0.5719687903882055\n",
      "Precision: 0.44912500199521954\n",
      "Recall: 0.5719687903882055\n",
      "F1 Score: 0.4980049172391839\n"
     ]
    },
    {
     "name": "stderr",
     "output_type": "stream",
     "text": [
      "c:\\Users\\Guruganesh\\AppData\\Local\\Programs\\Python\\Python312\\Lib\\site-packages\\sklearn\\metrics\\_classification.py:1531: UndefinedMetricWarning:\n",
      "\n",
      "Precision is ill-defined and being set to 0.0 in labels with no predicted samples. Use `zero_division` parameter to control this behavior.\n",
=======
      "Best parameters found:  {'bootstrap': True, 'max_depth': 7, 'min_samples_leaf': 3, 'min_samples_split': 4, 'n_estimators': 137} \n",
      "\n",
      "Random Forest (Gini Index and hyperparameter tuning) Model Evaluation:\n",
      "\n",
      "              precision    recall  f1-score   support\n",
      "\n",
      " lose_team_1       0.57      0.55      0.56      6907\n",
      "         tie       0.91      0.01      0.02      4480\n",
      "  win_team_1       0.57      0.85      0.69      9504\n",
      "\n",
      "    accuracy                           0.57     20891\n",
      "   macro avg       0.69      0.47      0.42     20891\n",
      "weighted avg       0.64      0.57      0.50     20891\n",
>>>>>>> a31d8637192517c8b073b88883559eb789a03f90
      "\n"
     ]
    }
   ],
   "source": [
    "from sklearn.model_selection import RandomizedSearchCV\n",
    "from sklearn.feature_selection import RFE\n",
    "from scipy.stats import randint\n",
    "\n",
    "# Set hyperparameter distribution for Random Forest (Asked chatGPT)\n",
    "param_distributions = {\n",
    "    'n_estimators': randint(50, 200),\n",
    "    'max_depth': [3, 5, 7, None],\n",
    "    'min_samples_split': randint(2, 10),\n",
    "    'min_samples_leaf': randint(1, 5),\n",
    "    'bootstrap': [True, False]\n",
    "}\n",
    "\n",
    "# Initialize the RandomForestClassifier\n",
    "rf_model = RandomForestClassifier(criterion='entropy', random_state=42)\n",
    "\n",
    "# Perform Randomized Search for hyperparameter tuning\n",
    "random_search = RandomizedSearchCV(estimator=rf_model, param_distributions=param_distributions, n_iter=10,\n",
    "                                   scoring='accuracy', cv=2, verbose=1, random_state=42)\n",
    "random_search.fit(X_train, y_train)\n",
    "\n",
    "# Get the best parameters from the random search\n",
    "best_params = random_search.best_params_\n",
    "print(\"Best parameters found: \", best_params, \"\\n\")\n",
    "\n",
    "# Train the best model\n",
    "best_rf_model = RandomForestClassifier(**best_params, random_state=42)\n",
    "best_rf_model.fit(X_train, y_train)\n",
    "\n",
    "# Feature Importance Pruning\n",
    "feature_importances = best_rf_model.feature_importances_\n",
    "\n",
    "# Select top 100 important features\n",
    "top_n = 100\n",
    "important_feature_indices = feature_importances.argsort()[-top_n:][::-1]\n",
    "selected_features = X.columns[important_feature_indices]\n",
    "\n",
    "# Apply RFE on the reduced feature set\n",
    "X_train_top = X_train[selected_features]\n",
    "X_test_top = X_test[selected_features]\n",
    "\n",
    "rf_model_rfe = RandomForestClassifier(n_estimators=50, max_depth=3, random_state=42)\n",
    "# Select top 30 features\n",
    "rfe = RFE(rf_model_rfe, n_features_to_select=30)  \n",
    "X_train_rfe = rfe.fit_transform(X_train_top, y_train)\n",
    "X_test_rfe = rfe.transform(X_test_top)\n",
    "\n",
    "# Retraining model with RFE-selected features\n",
    "best_rf_model.fit(X_train_rfe, y_train)\n",
    "\n",
    "# Predicting outcomes\n",
    "y_pred = best_rf_model.predict(X_test_rfe)\n",
    "\n",
    "evaluate_model(\"Random Forest (Gini Index and hyperparameter tuning)\", y_test, y_pred, label_encoder)\n"
   ]
  },
  {
   "cell_type": "markdown",
   "metadata": {},
   "source": [
    "# XGBoost with Hyperparameter Tuning and Importance Pruning"
   ]
  },
  {
   "cell_type": "code",
<<<<<<< HEAD
   "execution_count": 35,
=======
   "execution_count": 50,
>>>>>>> a31d8637192517c8b073b88883559eb789a03f90
   "metadata": {},
   "outputs": [
    {
     "name": "stdout",
     "output_type": "stream",
     "text": [
<<<<<<< HEAD
      "Fitting 2 folds for each of 10 candidates, totalling 20 fits\n"
     ]
    },
    {
     "ename": "KeyboardInterrupt",
     "evalue": "",
     "output_type": "error",
     "traceback": [
      "\u001b[1;31m---------------------------------------------------------------------------\u001b[0m",
      "\u001b[1;31mKeyboardInterrupt\u001b[0m                         Traceback (most recent call last)",
      "Cell \u001b[1;32mIn[35], line 25\u001b[0m\n\u001b[0;32m     22\u001b[0m \u001b[38;5;66;03m# Perform Randomized Search for hyperparameter tuning\u001b[39;00m\n\u001b[0;32m     23\u001b[0m random_search \u001b[38;5;241m=\u001b[39m RandomizedSearchCV(estimator\u001b[38;5;241m=\u001b[39mxgb_model, param_distributions\u001b[38;5;241m=\u001b[39mparam_distributions, n_iter\u001b[38;5;241m=\u001b[39m\u001b[38;5;241m10\u001b[39m,\n\u001b[0;32m     24\u001b[0m                                    scoring\u001b[38;5;241m=\u001b[39m\u001b[38;5;124m'\u001b[39m\u001b[38;5;124maccuracy\u001b[39m\u001b[38;5;124m'\u001b[39m, cv\u001b[38;5;241m=\u001b[39m\u001b[38;5;241m2\u001b[39m, verbose\u001b[38;5;241m=\u001b[39m\u001b[38;5;241m1\u001b[39m, random_state\u001b[38;5;241m=\u001b[39m\u001b[38;5;241m42\u001b[39m)\n\u001b[1;32m---> 25\u001b[0m \u001b[43mrandom_search\u001b[49m\u001b[38;5;241;43m.\u001b[39;49m\u001b[43mfit\u001b[49m\u001b[43m(\u001b[49m\u001b[43mX_train\u001b[49m\u001b[43m,\u001b[49m\u001b[43m \u001b[49m\u001b[43my_train\u001b[49m\u001b[43m)\u001b[49m\n\u001b[0;32m     27\u001b[0m \u001b[38;5;66;03m# Get the best parameters from the random search\u001b[39;00m\n\u001b[0;32m     28\u001b[0m best_params \u001b[38;5;241m=\u001b[39m random_search\u001b[38;5;241m.\u001b[39mbest_params_\n",
      "File \u001b[1;32mc:\\Users\\Guruganesh\\AppData\\Local\\Programs\\Python\\Python312\\Lib\\site-packages\\sklearn\\base.py:1473\u001b[0m, in \u001b[0;36m_fit_context.<locals>.decorator.<locals>.wrapper\u001b[1;34m(estimator, *args, **kwargs)\u001b[0m\n\u001b[0;32m   1466\u001b[0m     estimator\u001b[38;5;241m.\u001b[39m_validate_params()\n\u001b[0;32m   1468\u001b[0m \u001b[38;5;28;01mwith\u001b[39;00m config_context(\n\u001b[0;32m   1469\u001b[0m     skip_parameter_validation\u001b[38;5;241m=\u001b[39m(\n\u001b[0;32m   1470\u001b[0m         prefer_skip_nested_validation \u001b[38;5;129;01mor\u001b[39;00m global_skip_validation\n\u001b[0;32m   1471\u001b[0m     )\n\u001b[0;32m   1472\u001b[0m ):\n\u001b[1;32m-> 1473\u001b[0m     \u001b[38;5;28;01mreturn\u001b[39;00m \u001b[43mfit_method\u001b[49m\u001b[43m(\u001b[49m\u001b[43mestimator\u001b[49m\u001b[43m,\u001b[49m\u001b[43m \u001b[49m\u001b[38;5;241;43m*\u001b[39;49m\u001b[43margs\u001b[49m\u001b[43m,\u001b[49m\u001b[43m \u001b[49m\u001b[38;5;241;43m*\u001b[39;49m\u001b[38;5;241;43m*\u001b[39;49m\u001b[43mkwargs\u001b[49m\u001b[43m)\u001b[49m\n",
      "File \u001b[1;32mc:\\Users\\Guruganesh\\AppData\\Local\\Programs\\Python\\Python312\\Lib\\site-packages\\sklearn\\model_selection\\_search.py:1019\u001b[0m, in \u001b[0;36mBaseSearchCV.fit\u001b[1;34m(self, X, y, **params)\u001b[0m\n\u001b[0;32m   1013\u001b[0m     results \u001b[38;5;241m=\u001b[39m \u001b[38;5;28mself\u001b[39m\u001b[38;5;241m.\u001b[39m_format_results(\n\u001b[0;32m   1014\u001b[0m         all_candidate_params, n_splits, all_out, all_more_results\n\u001b[0;32m   1015\u001b[0m     )\n\u001b[0;32m   1017\u001b[0m     \u001b[38;5;28;01mreturn\u001b[39;00m results\n\u001b[1;32m-> 1019\u001b[0m \u001b[38;5;28;43mself\u001b[39;49m\u001b[38;5;241;43m.\u001b[39;49m\u001b[43m_run_search\u001b[49m\u001b[43m(\u001b[49m\u001b[43mevaluate_candidates\u001b[49m\u001b[43m)\u001b[49m\n\u001b[0;32m   1021\u001b[0m \u001b[38;5;66;03m# multimetric is determined here because in the case of a callable\u001b[39;00m\n\u001b[0;32m   1022\u001b[0m \u001b[38;5;66;03m# self.scoring the return type is only known after calling\u001b[39;00m\n\u001b[0;32m   1023\u001b[0m first_test_score \u001b[38;5;241m=\u001b[39m all_out[\u001b[38;5;241m0\u001b[39m][\u001b[38;5;124m\"\u001b[39m\u001b[38;5;124mtest_scores\u001b[39m\u001b[38;5;124m\"\u001b[39m]\n",
      "File \u001b[1;32mc:\\Users\\Guruganesh\\AppData\\Local\\Programs\\Python\\Python312\\Lib\\site-packages\\sklearn\\model_selection\\_search.py:1960\u001b[0m, in \u001b[0;36mRandomizedSearchCV._run_search\u001b[1;34m(self, evaluate_candidates)\u001b[0m\n\u001b[0;32m   1958\u001b[0m \u001b[38;5;28;01mdef\u001b[39;00m \u001b[38;5;21m_run_search\u001b[39m(\u001b[38;5;28mself\u001b[39m, evaluate_candidates):\n\u001b[0;32m   1959\u001b[0m \u001b[38;5;250m    \u001b[39m\u001b[38;5;124;03m\"\"\"Search n_iter candidates from param_distributions\"\"\"\u001b[39;00m\n\u001b[1;32m-> 1960\u001b[0m     \u001b[43mevaluate_candidates\u001b[49m\u001b[43m(\u001b[49m\n\u001b[0;32m   1961\u001b[0m \u001b[43m        \u001b[49m\u001b[43mParameterSampler\u001b[49m\u001b[43m(\u001b[49m\n\u001b[0;32m   1962\u001b[0m \u001b[43m            \u001b[49m\u001b[38;5;28;43mself\u001b[39;49m\u001b[38;5;241;43m.\u001b[39;49m\u001b[43mparam_distributions\u001b[49m\u001b[43m,\u001b[49m\u001b[43m \u001b[49m\u001b[38;5;28;43mself\u001b[39;49m\u001b[38;5;241;43m.\u001b[39;49m\u001b[43mn_iter\u001b[49m\u001b[43m,\u001b[49m\u001b[43m \u001b[49m\u001b[43mrandom_state\u001b[49m\u001b[38;5;241;43m=\u001b[39;49m\u001b[38;5;28;43mself\u001b[39;49m\u001b[38;5;241;43m.\u001b[39;49m\u001b[43mrandom_state\u001b[49m\n\u001b[0;32m   1963\u001b[0m \u001b[43m        \u001b[49m\u001b[43m)\u001b[49m\n\u001b[0;32m   1964\u001b[0m \u001b[43m    \u001b[49m\u001b[43m)\u001b[49m\n",
      "File \u001b[1;32mc:\\Users\\Guruganesh\\AppData\\Local\\Programs\\Python\\Python312\\Lib\\site-packages\\sklearn\\model_selection\\_search.py:965\u001b[0m, in \u001b[0;36mBaseSearchCV.fit.<locals>.evaluate_candidates\u001b[1;34m(candidate_params, cv, more_results)\u001b[0m\n\u001b[0;32m    957\u001b[0m \u001b[38;5;28;01mif\u001b[39;00m \u001b[38;5;28mself\u001b[39m\u001b[38;5;241m.\u001b[39mverbose \u001b[38;5;241m>\u001b[39m \u001b[38;5;241m0\u001b[39m:\n\u001b[0;32m    958\u001b[0m     \u001b[38;5;28mprint\u001b[39m(\n\u001b[0;32m    959\u001b[0m         \u001b[38;5;124m\"\u001b[39m\u001b[38;5;124mFitting \u001b[39m\u001b[38;5;132;01m{0}\u001b[39;00m\u001b[38;5;124m folds for each of \u001b[39m\u001b[38;5;132;01m{1}\u001b[39;00m\u001b[38;5;124m candidates,\u001b[39m\u001b[38;5;124m\"\u001b[39m\n\u001b[0;32m    960\u001b[0m         \u001b[38;5;124m\"\u001b[39m\u001b[38;5;124m totalling \u001b[39m\u001b[38;5;132;01m{2}\u001b[39;00m\u001b[38;5;124m fits\u001b[39m\u001b[38;5;124m\"\u001b[39m\u001b[38;5;241m.\u001b[39mformat(\n\u001b[0;32m    961\u001b[0m             n_splits, n_candidates, n_candidates \u001b[38;5;241m*\u001b[39m n_splits\n\u001b[0;32m    962\u001b[0m         )\n\u001b[0;32m    963\u001b[0m     )\n\u001b[1;32m--> 965\u001b[0m out \u001b[38;5;241m=\u001b[39m \u001b[43mparallel\u001b[49m\u001b[43m(\u001b[49m\n\u001b[0;32m    966\u001b[0m \u001b[43m    \u001b[49m\u001b[43mdelayed\u001b[49m\u001b[43m(\u001b[49m\u001b[43m_fit_and_score\u001b[49m\u001b[43m)\u001b[49m\u001b[43m(\u001b[49m\n\u001b[0;32m    967\u001b[0m \u001b[43m        \u001b[49m\u001b[43mclone\u001b[49m\u001b[43m(\u001b[49m\u001b[43mbase_estimator\u001b[49m\u001b[43m)\u001b[49m\u001b[43m,\u001b[49m\n\u001b[0;32m    968\u001b[0m \u001b[43m        \u001b[49m\u001b[43mX\u001b[49m\u001b[43m,\u001b[49m\n\u001b[0;32m    969\u001b[0m \u001b[43m        \u001b[49m\u001b[43my\u001b[49m\u001b[43m,\u001b[49m\n\u001b[0;32m    970\u001b[0m \u001b[43m        \u001b[49m\u001b[43mtrain\u001b[49m\u001b[38;5;241;43m=\u001b[39;49m\u001b[43mtrain\u001b[49m\u001b[43m,\u001b[49m\n\u001b[0;32m    971\u001b[0m \u001b[43m        \u001b[49m\u001b[43mtest\u001b[49m\u001b[38;5;241;43m=\u001b[39;49m\u001b[43mtest\u001b[49m\u001b[43m,\u001b[49m\n\u001b[0;32m    972\u001b[0m \u001b[43m        \u001b[49m\u001b[43mparameters\u001b[49m\u001b[38;5;241;43m=\u001b[39;49m\u001b[43mparameters\u001b[49m\u001b[43m,\u001b[49m\n\u001b[0;32m    973\u001b[0m \u001b[43m        \u001b[49m\u001b[43msplit_progress\u001b[49m\u001b[38;5;241;43m=\u001b[39;49m\u001b[43m(\u001b[49m\u001b[43msplit_idx\u001b[49m\u001b[43m,\u001b[49m\u001b[43m \u001b[49m\u001b[43mn_splits\u001b[49m\u001b[43m)\u001b[49m\u001b[43m,\u001b[49m\n\u001b[0;32m    974\u001b[0m \u001b[43m        \u001b[49m\u001b[43mcandidate_progress\u001b[49m\u001b[38;5;241;43m=\u001b[39;49m\u001b[43m(\u001b[49m\u001b[43mcand_idx\u001b[49m\u001b[43m,\u001b[49m\u001b[43m \u001b[49m\u001b[43mn_candidates\u001b[49m\u001b[43m)\u001b[49m\u001b[43m,\u001b[49m\n\u001b[0;32m    975\u001b[0m \u001b[43m        \u001b[49m\u001b[38;5;241;43m*\u001b[39;49m\u001b[38;5;241;43m*\u001b[39;49m\u001b[43mfit_and_score_kwargs\u001b[49m\u001b[43m,\u001b[49m\n\u001b[0;32m    976\u001b[0m \u001b[43m    \u001b[49m\u001b[43m)\u001b[49m\n\u001b[0;32m    977\u001b[0m \u001b[43m    \u001b[49m\u001b[38;5;28;43;01mfor\u001b[39;49;00m\u001b[43m \u001b[49m\u001b[43m(\u001b[49m\u001b[43mcand_idx\u001b[49m\u001b[43m,\u001b[49m\u001b[43m \u001b[49m\u001b[43mparameters\u001b[49m\u001b[43m)\u001b[49m\u001b[43m,\u001b[49m\u001b[43m \u001b[49m\u001b[43m(\u001b[49m\u001b[43msplit_idx\u001b[49m\u001b[43m,\u001b[49m\u001b[43m \u001b[49m\u001b[43m(\u001b[49m\u001b[43mtrain\u001b[49m\u001b[43m,\u001b[49m\u001b[43m \u001b[49m\u001b[43mtest\u001b[49m\u001b[43m)\u001b[49m\u001b[43m)\u001b[49m\u001b[43m \u001b[49m\u001b[38;5;129;43;01min\u001b[39;49;00m\u001b[43m \u001b[49m\u001b[43mproduct\u001b[49m\u001b[43m(\u001b[49m\n\u001b[0;32m    978\u001b[0m \u001b[43m        \u001b[49m\u001b[38;5;28;43menumerate\u001b[39;49m\u001b[43m(\u001b[49m\u001b[43mcandidate_params\u001b[49m\u001b[43m)\u001b[49m\u001b[43m,\u001b[49m\n\u001b[0;32m    979\u001b[0m \u001b[43m        \u001b[49m\u001b[38;5;28;43menumerate\u001b[39;49m\u001b[43m(\u001b[49m\u001b[43mcv\u001b[49m\u001b[38;5;241;43m.\u001b[39;49m\u001b[43msplit\u001b[49m\u001b[43m(\u001b[49m\u001b[43mX\u001b[49m\u001b[43m,\u001b[49m\u001b[43m \u001b[49m\u001b[43my\u001b[49m\u001b[43m,\u001b[49m\u001b[43m \u001b[49m\u001b[38;5;241;43m*\u001b[39;49m\u001b[38;5;241;43m*\u001b[39;49m\u001b[43mrouted_params\u001b[49m\u001b[38;5;241;43m.\u001b[39;49m\u001b[43msplitter\u001b[49m\u001b[38;5;241;43m.\u001b[39;49m\u001b[43msplit\u001b[49m\u001b[43m)\u001b[49m\u001b[43m)\u001b[49m\u001b[43m,\u001b[49m\n\u001b[0;32m    980\u001b[0m \u001b[43m    \u001b[49m\u001b[43m)\u001b[49m\n\u001b[0;32m    981\u001b[0m \u001b[43m\u001b[49m\u001b[43m)\u001b[49m\n\u001b[0;32m    983\u001b[0m \u001b[38;5;28;01mif\u001b[39;00m \u001b[38;5;28mlen\u001b[39m(out) \u001b[38;5;241m<\u001b[39m \u001b[38;5;241m1\u001b[39m:\n\u001b[0;32m    984\u001b[0m     \u001b[38;5;28;01mraise\u001b[39;00m \u001b[38;5;167;01mValueError\u001b[39;00m(\n\u001b[0;32m    985\u001b[0m         \u001b[38;5;124m\"\u001b[39m\u001b[38;5;124mNo fits were performed. \u001b[39m\u001b[38;5;124m\"\u001b[39m\n\u001b[0;32m    986\u001b[0m         \u001b[38;5;124m\"\u001b[39m\u001b[38;5;124mWas the CV iterator empty? \u001b[39m\u001b[38;5;124m\"\u001b[39m\n\u001b[0;32m    987\u001b[0m         \u001b[38;5;124m\"\u001b[39m\u001b[38;5;124mWere there no candidates?\u001b[39m\u001b[38;5;124m\"\u001b[39m\n\u001b[0;32m    988\u001b[0m     )\n",
      "File \u001b[1;32mc:\\Users\\Guruganesh\\AppData\\Local\\Programs\\Python\\Python312\\Lib\\site-packages\\sklearn\\utils\\parallel.py:74\u001b[0m, in \u001b[0;36mParallel.__call__\u001b[1;34m(self, iterable)\u001b[0m\n\u001b[0;32m     69\u001b[0m config \u001b[38;5;241m=\u001b[39m get_config()\n\u001b[0;32m     70\u001b[0m iterable_with_config \u001b[38;5;241m=\u001b[39m (\n\u001b[0;32m     71\u001b[0m     (_with_config(delayed_func, config), args, kwargs)\n\u001b[0;32m     72\u001b[0m     \u001b[38;5;28;01mfor\u001b[39;00m delayed_func, args, kwargs \u001b[38;5;129;01min\u001b[39;00m iterable\n\u001b[0;32m     73\u001b[0m )\n\u001b[1;32m---> 74\u001b[0m \u001b[38;5;28;01mreturn\u001b[39;00m \u001b[38;5;28;43msuper\u001b[39;49m\u001b[43m(\u001b[49m\u001b[43m)\u001b[49m\u001b[38;5;241;43m.\u001b[39;49m\u001b[38;5;21;43m__call__\u001b[39;49m\u001b[43m(\u001b[49m\u001b[43miterable_with_config\u001b[49m\u001b[43m)\u001b[49m\n",
      "File \u001b[1;32mc:\\Users\\Guruganesh\\AppData\\Local\\Programs\\Python\\Python312\\Lib\\site-packages\\joblib\\parallel.py:1918\u001b[0m, in \u001b[0;36mParallel.__call__\u001b[1;34m(self, iterable)\u001b[0m\n\u001b[0;32m   1916\u001b[0m     output \u001b[38;5;241m=\u001b[39m \u001b[38;5;28mself\u001b[39m\u001b[38;5;241m.\u001b[39m_get_sequential_output(iterable)\n\u001b[0;32m   1917\u001b[0m     \u001b[38;5;28mnext\u001b[39m(output)\n\u001b[1;32m-> 1918\u001b[0m     \u001b[38;5;28;01mreturn\u001b[39;00m output \u001b[38;5;28;01mif\u001b[39;00m \u001b[38;5;28mself\u001b[39m\u001b[38;5;241m.\u001b[39mreturn_generator \u001b[38;5;28;01melse\u001b[39;00m \u001b[38;5;28;43mlist\u001b[39;49m\u001b[43m(\u001b[49m\u001b[43moutput\u001b[49m\u001b[43m)\u001b[49m\n\u001b[0;32m   1920\u001b[0m \u001b[38;5;66;03m# Let's create an ID that uniquely identifies the current call. If the\u001b[39;00m\n\u001b[0;32m   1921\u001b[0m \u001b[38;5;66;03m# call is interrupted early and that the same instance is immediately\u001b[39;00m\n\u001b[0;32m   1922\u001b[0m \u001b[38;5;66;03m# re-used, this id will be used to prevent workers that were\u001b[39;00m\n\u001b[0;32m   1923\u001b[0m \u001b[38;5;66;03m# concurrently finalizing a task from the previous call to run the\u001b[39;00m\n\u001b[0;32m   1924\u001b[0m \u001b[38;5;66;03m# callback.\u001b[39;00m\n\u001b[0;32m   1925\u001b[0m \u001b[38;5;28;01mwith\u001b[39;00m \u001b[38;5;28mself\u001b[39m\u001b[38;5;241m.\u001b[39m_lock:\n",
      "File \u001b[1;32mc:\\Users\\Guruganesh\\AppData\\Local\\Programs\\Python\\Python312\\Lib\\site-packages\\joblib\\parallel.py:1847\u001b[0m, in \u001b[0;36mParallel._get_sequential_output\u001b[1;34m(self, iterable)\u001b[0m\n\u001b[0;32m   1845\u001b[0m \u001b[38;5;28mself\u001b[39m\u001b[38;5;241m.\u001b[39mn_dispatched_batches \u001b[38;5;241m+\u001b[39m\u001b[38;5;241m=\u001b[39m \u001b[38;5;241m1\u001b[39m\n\u001b[0;32m   1846\u001b[0m \u001b[38;5;28mself\u001b[39m\u001b[38;5;241m.\u001b[39mn_dispatched_tasks \u001b[38;5;241m+\u001b[39m\u001b[38;5;241m=\u001b[39m \u001b[38;5;241m1\u001b[39m\n\u001b[1;32m-> 1847\u001b[0m res \u001b[38;5;241m=\u001b[39m \u001b[43mfunc\u001b[49m\u001b[43m(\u001b[49m\u001b[38;5;241;43m*\u001b[39;49m\u001b[43margs\u001b[49m\u001b[43m,\u001b[49m\u001b[43m \u001b[49m\u001b[38;5;241;43m*\u001b[39;49m\u001b[38;5;241;43m*\u001b[39;49m\u001b[43mkwargs\u001b[49m\u001b[43m)\u001b[49m\n\u001b[0;32m   1848\u001b[0m \u001b[38;5;28mself\u001b[39m\u001b[38;5;241m.\u001b[39mn_completed_tasks \u001b[38;5;241m+\u001b[39m\u001b[38;5;241m=\u001b[39m \u001b[38;5;241m1\u001b[39m\n\u001b[0;32m   1849\u001b[0m \u001b[38;5;28mself\u001b[39m\u001b[38;5;241m.\u001b[39mprint_progress()\n",
      "File \u001b[1;32mc:\\Users\\Guruganesh\\AppData\\Local\\Programs\\Python\\Python312\\Lib\\site-packages\\sklearn\\utils\\parallel.py:136\u001b[0m, in \u001b[0;36m_FuncWrapper.__call__\u001b[1;34m(self, *args, **kwargs)\u001b[0m\n\u001b[0;32m    134\u001b[0m     config \u001b[38;5;241m=\u001b[39m {}\n\u001b[0;32m    135\u001b[0m \u001b[38;5;28;01mwith\u001b[39;00m config_context(\u001b[38;5;241m*\u001b[39m\u001b[38;5;241m*\u001b[39mconfig):\n\u001b[1;32m--> 136\u001b[0m     \u001b[38;5;28;01mreturn\u001b[39;00m \u001b[38;5;28;43mself\u001b[39;49m\u001b[38;5;241;43m.\u001b[39;49m\u001b[43mfunction\u001b[49m\u001b[43m(\u001b[49m\u001b[38;5;241;43m*\u001b[39;49m\u001b[43margs\u001b[49m\u001b[43m,\u001b[49m\u001b[43m \u001b[49m\u001b[38;5;241;43m*\u001b[39;49m\u001b[38;5;241;43m*\u001b[39;49m\u001b[43mkwargs\u001b[49m\u001b[43m)\u001b[49m\n",
      "File \u001b[1;32mc:\\Users\\Guruganesh\\AppData\\Local\\Programs\\Python\\Python312\\Lib\\site-packages\\sklearn\\model_selection\\_validation.py:888\u001b[0m, in \u001b[0;36m_fit_and_score\u001b[1;34m(estimator, X, y, scorer, train, test, verbose, parameters, fit_params, score_params, return_train_score, return_parameters, return_n_test_samples, return_times, return_estimator, split_progress, candidate_progress, error_score)\u001b[0m\n\u001b[0;32m    886\u001b[0m         estimator\u001b[38;5;241m.\u001b[39mfit(X_train, \u001b[38;5;241m*\u001b[39m\u001b[38;5;241m*\u001b[39mfit_params)\n\u001b[0;32m    887\u001b[0m     \u001b[38;5;28;01melse\u001b[39;00m:\n\u001b[1;32m--> 888\u001b[0m         \u001b[43mestimator\u001b[49m\u001b[38;5;241;43m.\u001b[39;49m\u001b[43mfit\u001b[49m\u001b[43m(\u001b[49m\u001b[43mX_train\u001b[49m\u001b[43m,\u001b[49m\u001b[43m \u001b[49m\u001b[43my_train\u001b[49m\u001b[43m,\u001b[49m\u001b[43m \u001b[49m\u001b[38;5;241;43m*\u001b[39;49m\u001b[38;5;241;43m*\u001b[39;49m\u001b[43mfit_params\u001b[49m\u001b[43m)\u001b[49m\n\u001b[0;32m    890\u001b[0m \u001b[38;5;28;01mexcept\u001b[39;00m \u001b[38;5;167;01mException\u001b[39;00m:\n\u001b[0;32m    891\u001b[0m     \u001b[38;5;66;03m# Note fit time as time until error\u001b[39;00m\n\u001b[0;32m    892\u001b[0m     fit_time \u001b[38;5;241m=\u001b[39m time\u001b[38;5;241m.\u001b[39mtime() \u001b[38;5;241m-\u001b[39m start_time\n",
      "File \u001b[1;32mc:\\Users\\Guruganesh\\AppData\\Local\\Programs\\Python\\Python312\\Lib\\site-packages\\xgboost\\core.py:726\u001b[0m, in \u001b[0;36mrequire_keyword_args.<locals>.throw_if.<locals>.inner_f\u001b[1;34m(*args, **kwargs)\u001b[0m\n\u001b[0;32m    724\u001b[0m \u001b[38;5;28;01mfor\u001b[39;00m k, arg \u001b[38;5;129;01min\u001b[39;00m \u001b[38;5;28mzip\u001b[39m(sig\u001b[38;5;241m.\u001b[39mparameters, args):\n\u001b[0;32m    725\u001b[0m     kwargs[k] \u001b[38;5;241m=\u001b[39m arg\n\u001b[1;32m--> 726\u001b[0m \u001b[38;5;28;01mreturn\u001b[39;00m \u001b[43mfunc\u001b[49m\u001b[43m(\u001b[49m\u001b[38;5;241;43m*\u001b[39;49m\u001b[38;5;241;43m*\u001b[39;49m\u001b[43mkwargs\u001b[49m\u001b[43m)\u001b[49m\n",
      "File \u001b[1;32mc:\\Users\\Guruganesh\\AppData\\Local\\Programs\\Python\\Python312\\Lib\\site-packages\\xgboost\\sklearn.py:1531\u001b[0m, in \u001b[0;36mXGBClassifier.fit\u001b[1;34m(self, X, y, sample_weight, base_margin, eval_set, verbose, xgb_model, sample_weight_eval_set, base_margin_eval_set, feature_weights)\u001b[0m\n\u001b[0;32m   1511\u001b[0m model, metric, params \u001b[38;5;241m=\u001b[39m \u001b[38;5;28mself\u001b[39m\u001b[38;5;241m.\u001b[39m_configure_fit(xgb_model, params)\n\u001b[0;32m   1512\u001b[0m train_dmatrix, evals \u001b[38;5;241m=\u001b[39m _wrap_evaluation_matrices(\n\u001b[0;32m   1513\u001b[0m     missing\u001b[38;5;241m=\u001b[39m\u001b[38;5;28mself\u001b[39m\u001b[38;5;241m.\u001b[39mmissing,\n\u001b[0;32m   1514\u001b[0m     X\u001b[38;5;241m=\u001b[39mX,\n\u001b[1;32m   (...)\u001b[0m\n\u001b[0;32m   1528\u001b[0m     feature_types\u001b[38;5;241m=\u001b[39m\u001b[38;5;28mself\u001b[39m\u001b[38;5;241m.\u001b[39mfeature_types,\n\u001b[0;32m   1529\u001b[0m )\n\u001b[1;32m-> 1531\u001b[0m \u001b[38;5;28mself\u001b[39m\u001b[38;5;241m.\u001b[39m_Booster \u001b[38;5;241m=\u001b[39m \u001b[43mtrain\u001b[49m\u001b[43m(\u001b[49m\n\u001b[0;32m   1532\u001b[0m \u001b[43m    \u001b[49m\u001b[43mparams\u001b[49m\u001b[43m,\u001b[49m\n\u001b[0;32m   1533\u001b[0m \u001b[43m    \u001b[49m\u001b[43mtrain_dmatrix\u001b[49m\u001b[43m,\u001b[49m\n\u001b[0;32m   1534\u001b[0m \u001b[43m    \u001b[49m\u001b[38;5;28;43mself\u001b[39;49m\u001b[38;5;241;43m.\u001b[39;49m\u001b[43mget_num_boosting_rounds\u001b[49m\u001b[43m(\u001b[49m\u001b[43m)\u001b[49m\u001b[43m,\u001b[49m\n\u001b[0;32m   1535\u001b[0m \u001b[43m    \u001b[49m\u001b[43mevals\u001b[49m\u001b[38;5;241;43m=\u001b[39;49m\u001b[43mevals\u001b[49m\u001b[43m,\u001b[49m\n\u001b[0;32m   1536\u001b[0m \u001b[43m    \u001b[49m\u001b[43mearly_stopping_rounds\u001b[49m\u001b[38;5;241;43m=\u001b[39;49m\u001b[38;5;28;43mself\u001b[39;49m\u001b[38;5;241;43m.\u001b[39;49m\u001b[43mearly_stopping_rounds\u001b[49m\u001b[43m,\u001b[49m\n\u001b[0;32m   1537\u001b[0m \u001b[43m    \u001b[49m\u001b[43mevals_result\u001b[49m\u001b[38;5;241;43m=\u001b[39;49m\u001b[43mevals_result\u001b[49m\u001b[43m,\u001b[49m\n\u001b[0;32m   1538\u001b[0m \u001b[43m    \u001b[49m\u001b[43mobj\u001b[49m\u001b[38;5;241;43m=\u001b[39;49m\u001b[43mobj\u001b[49m\u001b[43m,\u001b[49m\n\u001b[0;32m   1539\u001b[0m \u001b[43m    \u001b[49m\u001b[43mcustom_metric\u001b[49m\u001b[38;5;241;43m=\u001b[39;49m\u001b[43mmetric\u001b[49m\u001b[43m,\u001b[49m\n\u001b[0;32m   1540\u001b[0m \u001b[43m    \u001b[49m\u001b[43mverbose_eval\u001b[49m\u001b[38;5;241;43m=\u001b[39;49m\u001b[43mverbose\u001b[49m\u001b[43m,\u001b[49m\n\u001b[0;32m   1541\u001b[0m \u001b[43m    \u001b[49m\u001b[43mxgb_model\u001b[49m\u001b[38;5;241;43m=\u001b[39;49m\u001b[43mmodel\u001b[49m\u001b[43m,\u001b[49m\n\u001b[0;32m   1542\u001b[0m \u001b[43m    \u001b[49m\u001b[43mcallbacks\u001b[49m\u001b[38;5;241;43m=\u001b[39;49m\u001b[38;5;28;43mself\u001b[39;49m\u001b[38;5;241;43m.\u001b[39;49m\u001b[43mcallbacks\u001b[49m\u001b[43m,\u001b[49m\n\u001b[0;32m   1543\u001b[0m \u001b[43m\u001b[49m\u001b[43m)\u001b[49m\n\u001b[0;32m   1545\u001b[0m \u001b[38;5;28;01mif\u001b[39;00m \u001b[38;5;129;01mnot\u001b[39;00m \u001b[38;5;28mcallable\u001b[39m(\u001b[38;5;28mself\u001b[39m\u001b[38;5;241m.\u001b[39mobjective):\n\u001b[0;32m   1546\u001b[0m     \u001b[38;5;28mself\u001b[39m\u001b[38;5;241m.\u001b[39mobjective \u001b[38;5;241m=\u001b[39m params[\u001b[38;5;124m\"\u001b[39m\u001b[38;5;124mobjective\u001b[39m\u001b[38;5;124m\"\u001b[39m]\n",
      "File \u001b[1;32mc:\\Users\\Guruganesh\\AppData\\Local\\Programs\\Python\\Python312\\Lib\\site-packages\\xgboost\\core.py:726\u001b[0m, in \u001b[0;36mrequire_keyword_args.<locals>.throw_if.<locals>.inner_f\u001b[1;34m(*args, **kwargs)\u001b[0m\n\u001b[0;32m    724\u001b[0m \u001b[38;5;28;01mfor\u001b[39;00m k, arg \u001b[38;5;129;01min\u001b[39;00m \u001b[38;5;28mzip\u001b[39m(sig\u001b[38;5;241m.\u001b[39mparameters, args):\n\u001b[0;32m    725\u001b[0m     kwargs[k] \u001b[38;5;241m=\u001b[39m arg\n\u001b[1;32m--> 726\u001b[0m \u001b[38;5;28;01mreturn\u001b[39;00m \u001b[43mfunc\u001b[49m\u001b[43m(\u001b[49m\u001b[38;5;241;43m*\u001b[39;49m\u001b[38;5;241;43m*\u001b[39;49m\u001b[43mkwargs\u001b[49m\u001b[43m)\u001b[49m\n",
      "File \u001b[1;32mc:\\Users\\Guruganesh\\AppData\\Local\\Programs\\Python\\Python312\\Lib\\site-packages\\xgboost\\training.py:181\u001b[0m, in \u001b[0;36mtrain\u001b[1;34m(params, dtrain, num_boost_round, evals, obj, feval, maximize, early_stopping_rounds, evals_result, verbose_eval, xgb_model, callbacks, custom_metric)\u001b[0m\n\u001b[0;32m    179\u001b[0m \u001b[38;5;28;01mif\u001b[39;00m cb_container\u001b[38;5;241m.\u001b[39mbefore_iteration(bst, i, dtrain, evals):\n\u001b[0;32m    180\u001b[0m     \u001b[38;5;28;01mbreak\u001b[39;00m\n\u001b[1;32m--> 181\u001b[0m \u001b[43mbst\u001b[49m\u001b[38;5;241;43m.\u001b[39;49m\u001b[43mupdate\u001b[49m\u001b[43m(\u001b[49m\u001b[43mdtrain\u001b[49m\u001b[43m,\u001b[49m\u001b[43m \u001b[49m\u001b[43miteration\u001b[49m\u001b[38;5;241;43m=\u001b[39;49m\u001b[43mi\u001b[49m\u001b[43m,\u001b[49m\u001b[43m \u001b[49m\u001b[43mfobj\u001b[49m\u001b[38;5;241;43m=\u001b[39;49m\u001b[43mobj\u001b[49m\u001b[43m)\u001b[49m\n\u001b[0;32m    182\u001b[0m \u001b[38;5;28;01mif\u001b[39;00m cb_container\u001b[38;5;241m.\u001b[39mafter_iteration(bst, i, dtrain, evals):\n\u001b[0;32m    183\u001b[0m     \u001b[38;5;28;01mbreak\u001b[39;00m\n",
      "File \u001b[1;32mc:\\Users\\Guruganesh\\AppData\\Local\\Programs\\Python\\Python312\\Lib\\site-packages\\xgboost\\core.py:2101\u001b[0m, in \u001b[0;36mBooster.update\u001b[1;34m(self, dtrain, iteration, fobj)\u001b[0m\n\u001b[0;32m   2097\u001b[0m \u001b[38;5;28mself\u001b[39m\u001b[38;5;241m.\u001b[39m_assign_dmatrix_features(dtrain)\n\u001b[0;32m   2099\u001b[0m \u001b[38;5;28;01mif\u001b[39;00m fobj \u001b[38;5;129;01mis\u001b[39;00m \u001b[38;5;28;01mNone\u001b[39;00m:\n\u001b[0;32m   2100\u001b[0m     _check_call(\n\u001b[1;32m-> 2101\u001b[0m         \u001b[43m_LIB\u001b[49m\u001b[38;5;241;43m.\u001b[39;49m\u001b[43mXGBoosterUpdateOneIter\u001b[49m\u001b[43m(\u001b[49m\n\u001b[0;32m   2102\u001b[0m \u001b[43m            \u001b[49m\u001b[38;5;28;43mself\u001b[39;49m\u001b[38;5;241;43m.\u001b[39;49m\u001b[43mhandle\u001b[49m\u001b[43m,\u001b[49m\u001b[43m \u001b[49m\u001b[43mctypes\u001b[49m\u001b[38;5;241;43m.\u001b[39;49m\u001b[43mc_int\u001b[49m\u001b[43m(\u001b[49m\u001b[43miteration\u001b[49m\u001b[43m)\u001b[49m\u001b[43m,\u001b[49m\u001b[43m \u001b[49m\u001b[43mdtrain\u001b[49m\u001b[38;5;241;43m.\u001b[39;49m\u001b[43mhandle\u001b[49m\n\u001b[0;32m   2103\u001b[0m \u001b[43m        \u001b[49m\u001b[43m)\u001b[49m\n\u001b[0;32m   2104\u001b[0m     )\n\u001b[0;32m   2105\u001b[0m \u001b[38;5;28;01melse\u001b[39;00m:\n\u001b[0;32m   2106\u001b[0m     pred \u001b[38;5;241m=\u001b[39m \u001b[38;5;28mself\u001b[39m\u001b[38;5;241m.\u001b[39mpredict(dtrain, output_margin\u001b[38;5;241m=\u001b[39m\u001b[38;5;28;01mTrue\u001b[39;00m, training\u001b[38;5;241m=\u001b[39m\u001b[38;5;28;01mTrue\u001b[39;00m)\n",
      "\u001b[1;31mKeyboardInterrupt\u001b[0m: "
=======
      "Fitting 2 folds for each of 10 candidates, totalling 20 fits\n",
      "Best parameters found:  {'colsample_bytree': 0.8, 'gamma': 0.1, 'learning_rate': 0.1, 'max_depth': 5, 'n_estimators': 58, 'subsample': 1.0}\n",
      "XGBoost (with Hyperparameter Tuning and Importance Pruning) Model Evaluation:\n",
      "\n",
      "              precision    recall  f1-score   support\n",
      "\n",
      " lose_team_1       0.56      0.66      0.61      6907\n",
      "         tie       0.50      0.06      0.10      4480\n",
      "  win_team_1       0.62      0.80      0.70      9504\n",
      "\n",
      "    accuracy                           0.60     20891\n",
      "   macro avg       0.56      0.51      0.47     20891\n",
      "weighted avg       0.58      0.60      0.54     20891\n",
      "\n"
>>>>>>> a31d8637192517c8b073b88883559eb789a03f90
     ]
    }
   ],
   "source": [
    "from xgboost import XGBClassifier\n",
    "from sklearn.feature_selection import RFE\n",
    "from scipy.stats import randint\n",
    "\n",
    "# Set up hyperparameter distribution for XGBoost (Asked chatGPT)\n",
    "param_distributions = {\n",
    "    'n_estimators': randint(50, 200),\n",
    "    'max_depth': [3, 5, 7],\n",
    "    'learning_rate': [0.01, 0.1],\n",
    "    'subsample': [0.8, 1.0],\n",
    "    'colsample_bytree': [0.8, 1.0],\n",
    "    'gamma': [0, 0.1]  \n",
    "}\n",
    "\n",
    "# Initialize the XGBClassifier\n",
    "xgb_model = XGBClassifier(random_state=42)\n",
    "\n",
    "# Perform Randomized Search for hyperparameter tuning\n",
    "random_search = RandomizedSearchCV(estimator=xgb_model, param_distributions=param_distributions, n_iter=10,\n",
    "                                   scoring='accuracy', cv=2, verbose=1, random_state=42)\n",
    "random_search.fit(X_train, y_train)\n",
    "\n",
    "# Get the best parameters from the random search\n",
    "best_params = random_search.best_params_\n",
    "print(\"Best parameters found: \", best_params)\n",
    "\n",
    "# Train the best model\n",
    "best_xgb_model = XGBClassifier(**best_params, random_state=42)\n",
    "best_xgb_model.fit(X_train, y_train)\n",
    "\n",
    "# Feature Importance Pruning\n",
    "feature_importances = best_xgb_model.feature_importances_\n",
    "\n",
    "# Select top 100 important features\n",
    "top_n = 100\n",
    "important_feature_indices = feature_importances.argsort()[-top_n:][::-1] \n",
    "selected_features = X.columns[important_feature_indices]\n",
    "\n",
    "# Apply RFE on the reduced feature set\n",
    "X_train_top = X_train[selected_features]\n",
    "X_test_top = X_test[selected_features]\n",
    "\n",
    "xgb_model_rfe = XGBClassifier(n_estimators=50, max_depth=3, random_state=42)\n",
    "# Select top 30 features\n",
    "rfe = RFE(xgb_model_rfe, n_features_to_select=30)  \n",
    "X_train_rfe = rfe.fit_transform(X_train_top, y_train)\n",
    "X_test_rfe = rfe.transform(X_test_top)\n",
    "\n",
    "# Retraining model with RFE-selected features\n",
    "best_xgb_model.fit(X_train_rfe, y_train)\n",
    "\n",
    "# Predicting outcomes\n",
    "y_pred = best_xgb_model.predict(X_test_rfe)\n",
    "\n",
    "evaluate_model(\"XGBoost (with Hyperparameter Tuning and Importance Pruning)\", y_test, y_pred, label_encoder)"
   ]
  },
  {
   "cell_type": "markdown",
   "metadata": {},
   "source": [
    "# Gaussian Naive Bayes "
   ]
  },
  {
   "cell_type": "code",
<<<<<<< HEAD
   "execution_count": null,
   "metadata": {},
   "outputs": [],
=======
   "execution_count": 8,
   "metadata": {},
   "outputs": [
    {
     "name": "stdout",
     "output_type": "stream",
     "text": [
      "Gaussian Naive Bayes Model Evaluation:\n",
      "\n",
      "              precision    recall  f1-score   support\n",
      "\n",
      " lose_team_1       0.40      0.76      0.53      6907\n",
      "         tie       0.25      0.06      0.10      4480\n",
      "  win_team_1       0.60      0.42      0.50      9504\n",
      "\n",
      "    accuracy                           0.46     20891\n",
      "   macro avg       0.42      0.42      0.37     20891\n",
      "weighted avg       0.46      0.46      0.42     20891\n",
      "\n"
     ]
    }
   ],
>>>>>>> a31d8637192517c8b073b88883559eb789a03f90
   "source": [
    "from sklearn.naive_bayes import GaussianNB\n",
    "\n",
    "# Initialize the Naive Bayes classifier\n",
    "nb_model = GaussianNB()\n",
    "\n",
    "# Train the model and Predicting outcomes\n",
    "nb_model.fit(X_train, y_train)\n",
    "y_pred = nb_model.predict(X_test)\n",
    "\n",
    "# Evaluate the model\n",
    "evaluate_model(\"Gaussian Naive Bayes\",y_test, y_pred, label_encoder)\n"
   ]
  },
  {
   "cell_type": "markdown",
   "metadata": {},
   "source": [
    "# Bernoulli Naive Bayes"
   ]
  },
  {
   "cell_type": "code",
   "execution_count": 13,
   "metadata": {},
   "outputs": [
    {
     "name": "stdout",
     "output_type": "stream",
     "text": [
      "Bernoulli Naive Bayes Model Evaluation:\n",
      "\n",
      "              precision    recall  f1-score   support\n",
      "\n",
      " lose_team_1       0.47      0.27      0.35      6907\n",
      "         tie       0.24      0.83      0.38      4480\n",
      "  win_team_1       0.65      0.11      0.19      9504\n",
      "\n",
      "    accuracy                           0.32     20891\n",
      "   macro avg       0.45      0.40      0.30     20891\n",
      "weighted avg       0.50      0.32      0.28     20891\n",
      "\n"
     ]
    }
   ],
   "source": [
    "from sklearn.naive_bayes import BernoulliNB\n",
    "\n",
    "# Bernoulli Naive Bayes Model\n",
    "bnb = BernoulliNB()\n",
    "bnb.fit(X_train, y_train)\n",
    "\n",
    "# Predict and evaluate\n",
    "y_pred = bnb.predict(X_test)\n",
    "\n",
    "# Evaluate the model\n",
    "evaluate_model(\"Bernoulli Naive Bayes\",y_test, y_pred, label_encoder)\n"
   ]
  },
  {
   "cell_type": "markdown",
   "metadata": {},
   "source": [
    "# Multinomial Naive Bayes"
   ]
  },
  {
   "cell_type": "code",
   "execution_count": 11,
   "metadata": {},
   "outputs": [
    {
     "name": "stdout",
     "output_type": "stream",
     "text": [
      "Multinomial Naive Bayes Model Evaluation:\n",
      "\n",
      "              precision    recall  f1-score   support\n",
      "\n",
      " lose_team_1       0.44      0.43      0.44      6907\n",
      "         tie       0.22      0.32      0.26      4480\n",
      "  win_team_1       0.57      0.46      0.51      9504\n",
      "\n",
      "    accuracy                           0.42     20891\n",
      "   macro avg       0.41      0.40      0.40     20891\n",
      "weighted avg       0.46      0.42      0.43     20891\n",
      "\n"
     ]
    }
   ],
   "source": [
    "from sklearn.naive_bayes import MultinomialNB\n",
    "\n",
    "X_train_no_negatives = X_train.drop(['home_team_net_transfer_record', 'away_team_net_transfer_record'], axis=1)\n",
    "X_test_no_negatives = X_test.drop(['home_team_net_transfer_record', 'away_team_net_transfer_record'], axis=1)\n",
    "\n",
    "nb_model = MultinomialNB()\n",
    "\n",
    "# Train the model\n",
    "nb_model.fit(X_train_no_negatives, y_train)\n",
    "\n",
    "# Predicting outcomes\n",
    "y_pred = nb_model.predict(X_test_no_negatives)\n",
    "\n",
    "# Evaluate the model\n",
    "evaluate_model(\"Multinomial Naive Bayes\", y_test, y_pred, label_encoder)"
   ]
  },
  {
   "cell_type": "markdown",
   "metadata": {},
   "source": [
    "# Complement Naive Bayes "
   ]
  },
  {
   "cell_type": "code",
   "execution_count": 12,
   "metadata": {},
   "outputs": [
    {
     "name": "stdout",
     "output_type": "stream",
     "text": [
      "Complement Naive Bayes Model Evaluation:\n",
      "\n",
      "              precision    recall  f1-score   support\n",
      "\n",
      " lose_team_1       0.42      0.52      0.46      6907\n",
      "         tie       0.28      0.06      0.09      4480\n",
      "  win_team_1       0.54      0.65      0.59      9504\n",
      "\n",
      "    accuracy                           0.48     20891\n",
      "   macro avg       0.41      0.41      0.38     20891\n",
      "weighted avg       0.44      0.48      0.44     20891\n",
      "\n"
     ]
    }
   ],
   "source": [
    "from sklearn.naive_bayes import ComplementNB\n",
    "\n",
    "# Initialize the Complement Naive Bayes classifier\n",
    "nb_model = ComplementNB()\n",
    "\n",
    "# Train the model\n",
    "nb_model.fit(X_train_no_negatives, y_train)\n",
    "\n",
    "# Predicting outcomes\n",
    "y_pred = nb_model.predict(X_test_no_negatives)\n",
    "\n",
    "# Evaluate the model\n",
    "evaluate_model(\"Complement Naive Bayes\", y_test, y_pred, label_encoder)\n"
   ]
  },
  {
   "cell_type": "markdown",
   "metadata": {},
   "source": [
    "# Support Vector Machine (Linear Kernel)"
   ]
  },
  {
   "cell_type": "code",
<<<<<<< HEAD
   "execution_count": null,
   "metadata": {},
   "outputs": [],
=======
   "execution_count": 2,
   "metadata": {},
   "outputs": [],
   "source": [
    "from sklearn.svm import LinearSVC\n",
    "# Initialize the SVM with a linear kernel\n",
    "svm_model = LinearSVC(max_iter=5000)\n",
    "\n",
    "# Train the model\n",
    "svm_model.fit(X_train, y_train)\n",
    "\n",
    "# Predicting outcomes\n",
    "y_pred = svm_model.predict(X_test)\n",
    "\n",
    "# Evaluate the model\n",
    "evaluate_model(\"Linear SVM\", y_test, y_pred, label_encoder)"
   ]
  },
  {
   "cell_type": "markdown",
   "metadata": {},
   "source": [
    "# Support Vector Machine (Polynomial Kernel of Degree 3)"
   ]
  },
  {
   "cell_type": "code",
   "execution_count": null,
   "metadata": {},
   "outputs": [],
   "source": [
    "from sklearn.svm import SVC\n",
    "\n",
    "# Initialize the SVM with a polynomial kernel\n",
    "svm_model = SVC(kernel='poly', degree=3, max_iter=5000)  \n",
    "\n",
    "# Train the model\n",
    "svm_model.fit(X_train, y_train)\n",
    "\n",
    "# Predicting outcomes\n",
    "y_pred = svm_model.predict(X_test)\n",
    "\n",
    "# Evaluate the model\n",
    "evaluate_model(\"Polynomial SVM\", y_test, y_pred, label_encoder)\n"
   ]
  },
  {
   "cell_type": "markdown",
   "metadata": {},
   "source": [
    "# Support Vector Machine (Radial Basis Function Kernel)"
   ]
  },
  {
   "cell_type": "code",
   "execution_count": null,
   "metadata": {},
   "outputs": [],
   "source": [
    "from sklearn.svm import SVC\n",
    "\n",
    "# Initialize the SVM with an RBF kernel\n",
    "svm_model = SVC(kernel='rbf', max_iter=5000)\n",
    "\n",
    "# Train the model\n",
    "svm_model.fit(X_train, y_train)\n",
    "\n",
    "# Predicting outcomes\n",
    "y_pred = svm_model.predict(X_test)\n",
    "\n",
    "# Evaluate the model\n",
    "evaluate_model(\"RBF Kernel SVM\", y_test, y_pred, label_encoder)\n"
   ]
  },
  {
   "cell_type": "markdown",
   "metadata": {},
   "source": [
    "# Support Vector Machine (Sigmoid Kernel)"
   ]
  },
  {
   "cell_type": "code",
   "execution_count": null,
   "metadata": {},
   "outputs": [],
   "source": [
    "from sklearn.svm import SVC\n",
    "\n",
    "# Initialize the SVM with a sigmoid kernel\n",
    "svm_model = SVC(kernel='sigmoid',max_iter=5000)\n",
    "\n",
    "# Train the model\n",
    "svm_model.fit(X_train, y_train)\n",
    "\n",
    "# Predicting outcomes\n",
    "y_pred = svm_model.predict(X_test)\n",
    "\n",
    "# Evaluate the model\n",
    "evaluate_model(\"Sigmoid SVM\", y_test, y_pred, label_encoder)"
   ]
  },
  {
   "cell_type": "markdown",
   "metadata": {},
   "source": [
    "# K-Nearest Neighbours (Eucliding Distance, k = 5)"
   ]
  },
  {
   "cell_type": "code",
   "execution_count": 86,
   "metadata": {},
   "outputs": [
    {
     "name": "stdout",
     "output_type": "stream",
     "text": [
      "K-Nearest Neighbours (Euclidian Distance, k = 5) Model Evaluation:\n",
      "\n",
      "              precision    recall  f1-score   support\n",
      "\n",
      " lose_team_1       0.45      0.56      0.50      6907\n",
      "         tie       0.25      0.19      0.22      4480\n",
      "  win_team_1       0.57      0.53      0.55      9504\n",
      "\n",
      "    accuracy                           0.47     20891\n",
      "   macro avg       0.42      0.43      0.42     20891\n",
      "weighted avg       0.46      0.47      0.46     20891\n",
      "\n"
     ]
    }
   ],
>>>>>>> a31d8637192517c8b073b88883559eb789a03f90
   "source": [
    "from sklearn.neighbors import KNeighborsClassifier\n",
    "from sklearn.preprocessing import StandardScaler\n",
    "\n",
    "scaler = StandardScaler()\n",
    "X_train_scaled = scaler.fit_transform(X_train)\n",
    "X_test_scaled = scaler.transform(X_test)\n",
    "\n",
    "# Initialize k-NN with Euclidean distance and k=5 \n",
    "knn_euclidean = KNeighborsClassifier(metric='euclidean', n_neighbors=5)\n",
    "\n",
    "# Train the model with and Predict outcomes\n",
    "knn_euclidean.fit(X_train, y_train)\n",
    "y_pred_euclidean = knn_euclidean.predict(X_test)\n",
    "\n",
    "# Evaluate the model\n",
    "evaluate_model(\"K-Nearest Neighbours (Euclidian Distance, k = 5)\", y_test, y_pred_euclidean, label_encoder)"
   ]
  },
  {
   "cell_type": "markdown",
   "metadata": {},
   "source": [
    "# K-Nearest Neighbours (Manhattan Distance, k = 5)"
   ]
  },
  {
   "cell_type": "code",
<<<<<<< HEAD
   "execution_count": null,
   "metadata": {},
   "outputs": [],
=======
   "execution_count": 76,
   "metadata": {},
   "outputs": [
    {
     "name": "stdout",
     "output_type": "stream",
     "text": [
      "K-Nearest Neighbours (Manhattan Distance, k = 5) Model Evaluation:\n",
      "\n",
      "              precision    recall  f1-score   support\n",
      "\n",
      " lose_team_1       0.45      0.56      0.50      6907\n",
      "         tie       0.26      0.19      0.22      4480\n",
      "  win_team_1       0.57      0.53      0.55      9504\n",
      "\n",
      "    accuracy                           0.47     20891\n",
      "   macro avg       0.43      0.43      0.42     20891\n",
      "weighted avg       0.46      0.47      0.46     20891\n",
      "\n"
     ]
    }
   ],
>>>>>>> a31d8637192517c8b073b88883559eb789a03f90
   "source": [
    "# Initialize k-NN with Manhattan distance and k=10\n",
    "knn_manhattan = KNeighborsClassifier(metric='manhattan', n_neighbors=5)\n",
    "\n",
    "# Train the model with Manhattan distance and k=10\n",
    "knn_manhattan.fit(X_train, y_train)\n",
    "y_pred_manhattan = knn_manhattan.predict(X_test)\n",
    "\n",
    "# Evaluate the model\n",
    "evaluate_model(\"K-Nearest Neighbours (Manhattan Distance, k = 5)\", y_test, y_pred_manhattan, label_encoder)"
   ]
  },
  {
   "cell_type": "markdown",
   "metadata": {},
   "source": [
    "# K-Nearest Neighbours (Eucliding Distance, k = 10)"
   ]
  },
  {
   "cell_type": "code",
   "execution_count": 79,
   "metadata": {},
   "outputs": [
    {
     "name": "stdout",
     "output_type": "stream",
     "text": [
      "K-Nearest Neighbours (Euclidian Distance, k = 10) Model Evaluation:\n",
      "\n",
      "              precision    recall  f1-score   support\n",
      "\n",
      " lose_team_1       0.48      0.54      0.51      6907\n",
      "         tie       0.26      0.14      0.19      4480\n",
      "  win_team_1       0.56      0.63      0.59      9504\n",
      "\n",
      "    accuracy                           0.49     20891\n",
      "   macro avg       0.43      0.44      0.43     20891\n",
      "weighted avg       0.47      0.49      0.48     20891\n",
      "\n"
     ]
    }
   ],
   "source": [
    "# Initialize k-NN with Euclidean distance and k=10\n",
    "knn_euclidean = KNeighborsClassifier(metric='euclidean', n_neighbors=10)\n",
    "\n",
    "# Train the model with and Predict outcomes\n",
    "knn_euclidean.fit(X_train, y_train)\n",
    "y_pred_euclidean = knn_euclidean.predict(X_test)\n",
    "\n",
    "# Evaluate the model\n",
    "evaluate_model(\"K-Nearest Neighbours (Euclidian Distance, k = 10)\", y_test, y_pred_euclidean, label_encoder)"
   ]
  },
  {
   "cell_type": "markdown",
   "metadata": {},
   "source": [
    "# K-Nearest Neighbours (Manhattan Distance, k = 10)"
   ]
  },
  {
   "cell_type": "code",
   "execution_count": 80,
   "metadata": {},
   "outputs": [
    {
     "name": "stdout",
     "output_type": "stream",
     "text": [
      "K-Nearest Neighbours (Manhattan Distance, k = 10) Model Evaluation:\n",
      "\n",
      "              precision    recall  f1-score   support\n",
      "\n",
      " lose_team_1       0.45      0.56      0.50      6907\n",
      "         tie       0.26      0.19      0.22      4480\n",
      "  win_team_1       0.57      0.53      0.55      9504\n",
      "\n",
      "    accuracy                           0.47     20891\n",
      "   macro avg       0.43      0.43      0.42     20891\n",
      "weighted avg       0.46      0.47      0.46     20891\n",
      "\n"
     ]
    }
   ],
   "source": [
    "# Initialize k-NN with Manhattan distance and k=10\n",
    "knn_manhattan = KNeighborsClassifier(metric='manhattan', n_neighbors=5)\n",
    "\n",
    "# Train the model with Manhattan distance and k=10\n",
    "knn_manhattan.fit(X_train, y_train)\n",
    "y_pred_manhattan = knn_manhattan.predict(X_test)\n",
    "\n",
    "# Evaluate the model\n",
    "evaluate_model(\"K-Nearest Neighbours (Manhattan Distance, k = 10)\", y_test, y_pred_manhattan, label_encoder)\n"
   ]
  },
  {
   "cell_type": "markdown",
   "metadata": {},
   "source": [
    "# Logistic Regression with L2 Regularization (Ridge) "
   ]
  },
  {
   "cell_type": "code",
   "execution_count": 10,
   "metadata": {},
   "outputs": [
    {
     "name": "stdout",
     "output_type": "stream",
     "text": [
      "Logistic Regression (No Regularization) Model Evaluation:\n",
      "\n",
      "              precision    recall  f1-score   support\n",
      "\n",
      " lose_team_1       0.57      0.63      0.60      6907\n",
      "         tie       0.35      0.06      0.10      4480\n",
      "  win_team_1       0.61      0.80      0.69      9504\n",
      "\n",
      "    accuracy                           0.58     20891\n",
      "   macro avg       0.51      0.50      0.46     20891\n",
      "weighted avg       0.54      0.58      0.53     20891\n",
      "\n"
     ]
    }
   ],
   "source": [
    "from sklearn.linear_model import LogisticRegression\n",
    "from sklearn.preprocessing import StandardScaler\n",
    "\n",
    "# Get Traning and Testing Data into the same sclae for better performance\n",
    "scaler = StandardScaler()\n",
    "X_train_scaled = scaler.fit_transform(X_train)\n",
    "X_test_scaled = scaler.transform(X_test)\n",
    "\n",
    "# Initialize Logistic Regression with balanced class weights and more iterations\n",
    "log_reg_balanced = LogisticRegression(solver='lbfgs', max_iter=10000, penalty=\"l2\")\n",
    "\n",
    "# Train the model and predict outcomes\n",
    "log_reg_balanced.fit(X_train_scaled, y_train)\n",
    "y_pred_balanced = log_reg_balanced.predict(X_test_scaled)\n",
    "\n",
    "# Evaluate the model\n",
    "evaluate_model(\"Logistic Regression (No Regularization)\", y_test, y_pred_balanced, label_encoder)"
   ]
  },
  {
   "cell_type": "markdown",
   "metadata": {},
   "source": [
    "# Logistic Regression with L2 Regularization (Ridge) and balanced class weights"
   ]
  },
  {
   "cell_type": "code",
   "execution_count": 7,
   "metadata": {},
   "outputs": [
    {
     "name": "stdout",
     "output_type": "stream",
     "text": [
      "Logistic Regression (L2 Regularization) Model Evaluation:\n",
      "\n",
      "              precision    recall  f1-score   support\n",
      "\n",
      " lose_team_1       0.57      0.61      0.59      6907\n",
      "         tie       0.31      0.40      0.35      4480\n",
      "  win_team_1       0.69      0.56      0.62      9504\n",
      "\n",
      "    accuracy                           0.54     20891\n",
      "   macro avg       0.52      0.53      0.52     20891\n",
      "weighted avg       0.57      0.54      0.55     20891\n",
      "\n"
     ]
    }
   ],
   "source": [
    "# Initialize Logistic Regression with L2 regularization using lbfgs solver\n",
    "log_reg_l2 = LogisticRegression(solver='lbfgs', penalty='l2', max_iter=10000, class_weight='balanced')\n",
    "\n",
    "# Train the model and predict outcomes\n",
    "log_reg_l2.fit(X_train_scaled, y_train)\n",
    "y_pred_l2 = log_reg_l2.predict(X_test_scaled)\n",
    "\n",
    "# Evaluate the model\n",
    "evaluate_model(\"Logistic Regression (L2 Regularization)\", y_test, y_pred_l2, label_encoder)"
   ]
  },
  {
   "cell_type": "markdown",
   "metadata": {},
   "source": [
    "# Logistic Regression with L1 Regularization (Lasso) and balanced class weights"
   ]
  },
  {
   "cell_type": "code",
   "execution_count": 12,
   "metadata": {},
   "outputs": [
    {
     "name": "stdout",
     "output_type": "stream",
     "text": [
      "Logistic Regression (L1 Regularization) Model Evaluation:\n",
      "\n",
      "              precision    recall  f1-score   support\n",
      "\n",
      " lose_team_1       0.55      0.66      0.60      6907\n",
      "         tie       0.33      0.16      0.22      4480\n",
      "  win_team_1       0.65      0.71      0.68      9504\n",
      "\n",
      "    accuracy                           0.58     20891\n",
      "   macro avg       0.51      0.51      0.50     20891\n",
      "weighted avg       0.55      0.58      0.55     20891\n",
      "\n"
     ]
    }
   ],
   "source": [
    "# Initialize Logistic Regression with L1 regularization using liblinear solver\n",
    "log_reg_l1 = LogisticRegression(solver='liblinear', penalty='l1', max_iter=1000, class_weight='balanced')\n",
    "\n",
    "# Train the model and predict outcomes\n",
    "log_reg_l1.fit(X_train_scaled, y_train)\n",
    "y_pred_l1 = log_reg_l1.predict(X_test_scaled)\n",
    "\n",
    "# Evaluate the model\n",
    "evaluate_model(\"Logistic Regression (L1 Regularization)\", y_test, y_pred_l1, label_encoder)\n",
    "\n"
   ]
  },
  {
   "cell_type": "markdown",
   "metadata": {},
   "source": [
    "## Logistic Regression with ElasticNet Regularization and balanced class weights"
   ]
  },
  {
   "cell_type": "code",
<<<<<<< HEAD
   "execution_count": null,
   "metadata": {},
   "outputs": [],
   "source": [
    "# Initialize k-NN with Euclidean distance and k=10 (default metric is Euclidean)\n",
    "knn_euclidean = KNeighborsClassifier(metric='euclidean', n_neighbors=10)\n",
    "\n",
    "# Train the model with Euclidean distance and k=10\n",
    "knn_euclidean.fit(X_train, y_train)\n",
    "\n",
    "# Predicting outcomes\n",
    "y_pred_euclidean = knn_euclidean.predict(X_test)\n",
    "\n",
    "# Initialize k-NN with Manhattan distance and k=10\n",
    "knn_manhattan = KNeighborsClassifier(metric='manhattan', n_neighbors=10)\n",
    "\n",
    "# Train the model with Manhattan distance and k=10\n",
    "knn_manhattan.fit(X_train, y_train)\n",
    "\n",
    "# Predicting outcomes\n",
    "y_pred_manhattan = knn_manhattan.predict(X_test)\n",
    "\n",
    "# Evaluate the model\n",
    "evaluate_model(y_test, y_pred_euclidean, label_encoder)\n",
    "\n",
    "# Evaluate the model\n",
    "evaluate_model(y_test, y_pred_manhattan, label_encoder)\n"
   ]
  },
  {
   "cell_type": "markdown",
   "metadata": {},
   "source": [
    "# Default Logistic Regression (No Regularization)"
   ]
  },
  {
   "cell_type": "code",
   "execution_count": null,
   "metadata": {},
   "outputs": [],
   "source": [
    "from sklearn.linear_model import LogisticRegression\n",
    "\n",
    "# Initialize the Logistic Regression model with default parameters (no regularization)\n",
    "log_reg_default = LogisticRegression(solver='lbfgs', max_iter=5000)\n",
    "\n",
    "# Train the model\n",
    "log_reg_default.fit(X_train, y_train)\n",
    "\n",
    "# Predicting outcomes\n",
    "y_pred_default = log_reg_default.predict(X_test)\n",
    "\n",
    "# Evaluate the model\n",
    "evaluate_model(y_test, y_pred_default, label_encoder)\n"
   ]
  },
  {
   "cell_type": "markdown",
   "metadata": {},
   "source": [
    "# Logistic Regression with L2 Regularization (Ridge)"
   ]
  },
  {
   "cell_type": "code",
   "execution_count": null,
   "metadata": {},
   "outputs": [],
=======
   "execution_count": 13,
   "metadata": {},
   "outputs": [
    {
     "name": "stdout",
     "output_type": "stream",
     "text": [
      "Logistic Regression (ElasticNet Regularization) Model Evaluation:\n",
      "\n",
      "              precision    recall  f1-score   support\n",
      "\n",
      " lose_team_1       0.57      0.61      0.59      6907\n",
      "         tie       0.31      0.40      0.35      4480\n",
      "  win_team_1       0.69      0.56      0.62      9504\n",
      "\n",
      "    accuracy                           0.54     20891\n",
      "   macro avg       0.52      0.52      0.52     20891\n",
      "weighted avg       0.57      0.54      0.55     20891\n",
      "\n"
     ]
    }
   ],
>>>>>>> a31d8637192517c8b073b88883559eb789a03f90
   "source": [
    "# Initialize Logistic Regression with ElasticNet regularization using saga solver\n",
    "log_reg_elasticnet = LogisticRegression(solver='saga', penalty='elasticnet', l1_ratio=0.5, max_iter=10000, class_weight='balanced')\n",
    "\n",
    "# Train the model and predict outcomes\n",
    "log_reg_elasticnet.fit(X_train_scaled, y_train)\n",
    "y_pred_elasticnet = log_reg_elasticnet.predict(X_test_scaled)\n",
    "\n",
    "# Evaluate the model\n",
    "evaluate_model(\"Logistic Regression (ElasticNet Regularization)\", y_test, y_pred_elasticnet, label_encoder)\n"
   ]
  }
 ],
 "metadata": {
  "kernelspec": {
   "display_name": "Python 3",
   "language": "python",
   "name": "python3"
  },
  "language_info": {
   "codemirror_mode": {
    "name": "ipython",
    "version": 3
   },
   "file_extension": ".py",
   "mimetype": "text/x-python",
   "name": "python",
   "nbconvert_exporter": "python",
   "pygments_lexer": "ipython3",
   "version": "3.12.5"
  }
 },
 "nbformat": 4,
 "nbformat_minor": 2
}
